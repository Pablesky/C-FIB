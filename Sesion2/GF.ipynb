{
 "cells": [
  {
   "cell_type": "code",
   "execution_count": 2,
   "id": "5621ffd7",
   "metadata": {},
   "outputs": [],
   "source": [
    "import timeit\n",
    "\n",
    "\n",
    "#tables exponenciales y logaritmicas\n",
    "tablaExp = []\n",
    "tablaLog = [0]*256 #iniciada toda a 0s"
   ]
  },
  {
   "cell_type": "code",
   "execution_count": 3,
   "id": "f29d0c81",
   "metadata": {},
   "outputs": [],
   "source": [
    "def mcd(a,b):\n",
    "    aux = 0\n",
    "    while (b > 0):\n",
    "        aux = b\n",
    "        b = a % b\n",
    "        a = aux\n",
    "    return a"
   ]
  },
  {
   "cell_type": "code",
   "execution_count": 4,
   "id": "33d01cf0",
   "metadata": {},
   "outputs": [],
   "source": [
    "def Modulo(x):\n",
    "    aux = x << 1\n",
    "    if(aux & 0x100) == 0x100:\n",
    "        aux ^= 0x1D\n",
    "    return (aux & 0xFF)\n",
    "        "
   ]
  },
  {
   "cell_type": "code",
   "execution_count": 5,
   "id": "5fb14571",
   "metadata": {},
   "outputs": [],
   "source": [
    "def GF_product_p(x,y):\n",
    "    aux = 0\n",
    "    for i in range(8):\n",
    "        if( y & 0x01)==0x01:\n",
    "            aux ^= x\n",
    "        x = Modulo(x)\n",
    "        y >>= 1\n",
    "    return aux & 0xFF\n",
    "\n"
   ]
  },
  {
   "cell_type": "code",
   "execution_count": 6,
   "id": "5b26da37",
   "metadata": {},
   "outputs": [],
   "source": [
    "def GF_es_generador(x):\n",
    "    lista = []\n",
    "    for i in range(255):\n",
    "        if mcd(i,255) == 1:\n",
    "            lista.append(2**i)\n",
    "    return x in lista"
   ]
  },
  {
   "cell_type": "code",
   "execution_count": 7,
   "id": "768d12fe",
   "metadata": {},
   "outputs": [],
   "source": [
    "def GF_tables():\n",
    "    producto = 1\n",
    "    tablaExp.append(producto)\n",
    "    for i in range(0,255):\n",
    "        tablaLog[producto] = i\n",
    "        producto = GF_product_p(producto,2)\n",
    "        tablaExp.append(producto)"
   ]
  },
  {
   "cell_type": "code",
   "execution_count": 8,
   "id": "b1405822",
   "metadata": {},
   "outputs": [],
   "source": [
    "def GF_product_t(a,b):\n",
    "    if(a == 0 or b == 0):\n",
    "        return 0\n",
    "    \n",
    "    auxA,auxB = tablaLog[a],tablaLog[b]\n",
    "    suma = auxA + auxB\n",
    "    return tablaExp[suma%255]\n",
    "         "
   ]
  },
  {
   "cell_type": "code",
   "execution_count": 9,
   "id": "9e124e73",
   "metadata": {},
   "outputs": [],
   "source": [
    "def GF_invers(a):\n",
    "    if a == 0:\n",
    "        return 0\n",
    "    auxA = tablaLog[a-1] +1\n",
    "    return tablaExp[255 - auxA]"
   ]
  },
  {
   "cell_type": "code",
   "execution_count": 10,
   "id": "d28159ce",
   "metadata": {},
   "outputs": [],
   "source": [
    "#Iniciado de tablas\n",
    "GF_tables()"
   ]
  },
  {
   "cell_type": "code",
   "execution_count": 11,
   "id": "ce418582",
   "metadata": {},
   "outputs": [
    {
     "name": "stdout",
     "output_type": "stream",
     "text": [
      "Insertar numero entero: 55\n",
      "0x20\n",
      "0x8e\n",
      "0x8e\n",
      "0x8e\n",
      "0x32\n",
      "Tiempo producto p(a,0x02) = 0.0001764160001584969 resultado -> 110\n",
      "Tiempo producto t(a,0x02) = 0.00022087000024839654 resultado -> 110\n",
      "\n",
      "Tiempo producto p(a,0x03) = 0.00018677099978958722 resultado -> 89\n",
      "Tiempo producto t(a,0x03) = 0.00028195400000186055 resultado -> 89\n",
      "\n",
      "Tiempo producto p(a,0x09) = 0.0003139099999316386 resultado -> 146\n",
      "Tiempo producto t(a,0x09) = 0.00025663099995654193 resultado -> 146\n",
      "\n",
      "Tiempo producto p(a,0x0B) = 0.0009058750001713634 resultado -> 252\n",
      "Tiempo producto t(a,0x0B) = 0.00016574499977650703 resultado -> 252\n",
      "\n",
      "Tiempo producto p(a,0x0D) = 0.00016402999972342514 resultado -> 78\n",
      "Tiempo producto t(a,0x0D) = 0.00014046400019651628 resultado -> 78\n",
      "\n",
      "Tiempo producto p(a,0x0E) = 0.00017460600020058337 resultado -> 23\n",
      "Tiempo producto t(a,0x0E) = 0.00014397400036614272 resultado -> 23\n"
     ]
    }
   ],
   "source": [
    "a = int(input(\"Insertar numero entero: \"))\n",
    "print(hex(GF_invers(a)))\n",
    "\n",
    "print(hex(GF_product_p(0x02, 0x47)))\n",
    "print(hex(GF_product_t(0x02, 0x47)))\n",
    "print(hex(GF_product_p(0x47, 0x02)))\n",
    "\n",
    "print()\n",
    "\n",
    "inicio = timeit.default_timer()\n",
    "resultado= GF_product_p(a,0x02)\n",
    "final = timeit.default_timer()\n",
    "print(\"Tiempo producto p(a,0x02) = \" + str(final - inicio) + \" resultado -> \" + str(resultado))\n",
    "\n",
    "inicio = timeit.default_timer()\n",
    "resultado= GF_product_t(a,0x02)\n",
    "final = timeit.default_timer()\n",
    "print(\"Tiempo producto t(a,0x02) = \" + str(final - inicio) + \" resultado -> \" + str(resultado))\n",
    "\n",
    "print()\n",
    "\n",
    "inicio = timeit.default_timer()\n",
    "resultado= GF_product_p(a,0x03)\n",
    "final = timeit.default_timer()\n",
    "print(\"Tiempo producto p(a,0x03) = \" + str(final - inicio) + \" resultado -> \" + str(resultado))\n",
    "\n",
    "inicio = timeit.default_timer()\n",
    "resultado= GF_product_t(a,0x03)\n",
    "final = timeit.default_timer()\n",
    "print(\"Tiempo producto t(a,0x03) = \" + str(final - inicio) + \" resultado -> \" + str(resultado))\n",
    "\n",
    "print()\n",
    "\n",
    "inicio = timeit.default_timer()\n",
    "resultado= GF_product_p(a,0x09)\n",
    "final = timeit.default_timer()\n",
    "print(\"Tiempo producto p(a,0x09) = \" + str(final - inicio) + \" resultado -> \" + str(resultado))\n",
    "\n",
    "inicio = timeit.default_timer()\n",
    "resultado= GF_product_t(a,0x09)\n",
    "final = timeit.default_timer()\n",
    "print(\"Tiempo producto t(a,0x09) = \" + str(final - inicio) + \" resultado -> \" + str(resultado))\n",
    "\n",
    "print()\n",
    "\n",
    "inicio = timeit.default_timer()\n",
    "resultado= GF_product_p(a,0x0B)\n",
    "final = timeit.default_timer()\n",
    "print(\"Tiempo producto p(a,0x0B) = \" + str(final - inicio) + \" resultado -> \" + str(resultado))\n",
    "\n",
    "inicio = timeit.default_timer()\n",
    "resultado= GF_product_t(a,0x0B)\n",
    "final = timeit.default_timer()\n",
    "print(\"Tiempo producto t(a,0x0B) = \" + str(final - inicio) + \" resultado -> \" + str(resultado))\n",
    "\n",
    "print()\n",
    "\n",
    "inicio = timeit.default_timer()\n",
    "resultado= GF_product_p(a,0x0D)\n",
    "final = timeit.default_timer()\n",
    "print(\"Tiempo producto p(a,0x0D) = \" + str(final - inicio) + \" resultado -> \" + str(resultado))\n",
    "\n",
    "inicio = timeit.default_timer()\n",
    "resultado= GF_product_t(a,0x0D)\n",
    "final = timeit.default_timer()\n",
    "print(\"Tiempo producto t(a,0x0D) = \" + str(final - inicio) + \" resultado -> \" + str(resultado))\n",
    "\n",
    "print()\n",
    "\n",
    "inicio = timeit.default_timer()\n",
    "resultado= GF_product_p(a,0x0E)\n",
    "final = timeit.default_timer()\n",
    "print(\"Tiempo producto p(a,0x0E) = \" + str(final - inicio) + \" resultado -> \" + str(resultado))\n",
    "\n",
    "inicio = timeit.default_timer()\n",
    "resultado= GF_product_t(a,0x0E)\n",
    "final = timeit.default_timer()\n",
    "print(\"Tiempo producto t(a,0x0E) = \" + str(final - inicio) + \" resultado -> \" + str(resultado))"
   ]
  }
 ],
 "metadata": {
  "kernelspec": {
   "display_name": "Python 3 (ipykernel)",
   "language": "python",
   "name": "python3"
  },
  "language_info": {
   "codemirror_mode": {
    "name": "ipython",
    "version": 3
   },
   "file_extension": ".py",
   "mimetype": "text/x-python",
   "name": "python",
   "nbconvert_exporter": "python",
   "pygments_lexer": "ipython3",
   "version": "3.10.6"
  }
 },
 "nbformat": 4,
 "nbformat_minor": 5
}
