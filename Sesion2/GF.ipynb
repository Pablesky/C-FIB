{
 "cells": [
  {
   "cell_type": "markdown",
   "id": "2f36f294",
   "metadata": {},
   "source": [
    "# Definición de funciones"
   ]
  },
  {
   "cell_type": "code",
   "execution_count": 3,
   "id": "c9bbeff8",
   "metadata": {},
   "outputs": [],
   "source": [
    "irreductible = \"0000000110001011\""
   ]
  },
  {
   "cell_type": "code",
   "execution_count": 4,
   "id": "80195533",
   "metadata": {},
   "outputs": [],
   "source": [
    "def polinomio(n):\n",
    "    binario = bin(n)[2:]\n",
    "    binario = '0'*16 + binario\n",
    "    binario = binario[-16:]\n",
    "    return binario"
   ]
  },
  {
   "cell_type": "code",
   "execution_count": 5,
   "id": "50d9eb41",
   "metadata": {},
   "outputs": [],
   "source": [
    "def grado(n):\n",
    "    for index, element in enumerate(n):\n",
    "        if element == '1':\n",
    "            return 15 - index\n",
    "    return 0"
   ]
  },
  {
   "cell_type": "code",
   "execution_count": 6,
   "id": "2bad23f9",
   "metadata": {},
   "outputs": [],
   "source": [
    "def shift(n, a):\n",
    "    n = int(n, 2)\n",
    "    n = n << a\n",
    "    return polinomio(n)"
   ]
  },
  {
   "cell_type": "code",
   "execution_count": 7,
   "id": "bdae7c36",
   "metadata": {},
   "outputs": [],
   "source": [
    "def xor(m, n):\n",
    "    m = int(m, 2)\n",
    "    n = int(n, 2)\n",
    "    return polinomio(m ^ n)"
   ]
  },
  {
   "cell_type": "code",
   "execution_count": 8,
   "id": "0708df31",
   "metadata": {},
   "outputs": [],
   "source": [
    "def divisible(m, n):\n",
    "    m = polinomio(m)\n",
    "    n = polinomio(n)\n",
    "    \n",
    "    gradom = grado(m)\n",
    "    gradon = grado(n)\n",
    "    \n",
    "    while gradom >= gradon:\n",
    "        dif = gradom - gradon\n",
    "        m = xor(shift(n, dif), m)\n",
    "        gradom = grado(m)\n",
    "        \n",
    "    return int(m, 2) == 0"
   ]
  },
  {
   "cell_type": "code",
   "execution_count": 9,
   "id": "f782168e",
   "metadata": {},
   "outputs": [],
   "source": [
    "def irreductible_polynomials():\n",
    "    irreductibles = []\n",
    "    for i in range(2, 512):\n",
    "        if len(irreductibles) == 0:\n",
    "            irreductibles.append(i)\n",
    "        else:\n",
    "            primo = True\n",
    "            for j in irreductibles:\n",
    "                primo = not divisible(i, j)\n",
    "                if not primo:\n",
    "                    break\n",
    "            if primo:\n",
    "                irreductibles.append(i)\n",
    "    return irreductibles"
   ]
  },
  {
   "cell_type": "code",
   "execution_count": 10,
   "id": "7c583daf",
   "metadata": {},
   "outputs": [],
   "source": [
    "def grados(n):\n",
    "    grados = []\n",
    "    for index, element in enumerate(n):\n",
    "        if element == \"1\":\n",
    "            grados.append(15 - index)\n",
    "    return grados"
   ]
  },
  {
   "cell_type": "code",
   "execution_count": 11,
   "id": "86d3ebb2",
   "metadata": {},
   "outputs": [],
   "source": [
    "def division(m, n):\n",
    "    gradom = grado(m)\n",
    "    gradon = grado(n)\n",
    "    \n",
    "    while gradom >= gradon:\n",
    "        dif = gradom - gradon\n",
    "        m = xor(shift(n, dif), m)\n",
    "        gradom = grado(m)\n",
    "        \n",
    "    return m"
   ]
  },
  {
   "cell_type": "code",
   "execution_count": 12,
   "id": "9443203c",
   "metadata": {},
   "outputs": [],
   "source": [
    "def GF_product_p(a, b):\n",
    "    a = polinomio(a)\n",
    "    b = polinomio(b)\n",
    "    gradosl = grados(b)\n",
    "    polinomiosl = []\n",
    "    for grado in gradosl:\n",
    "        if grado == 0:\n",
    "            polinomiosl.append(a)\n",
    "        else:\n",
    "            polinomiosl.append(shift(a, grado))\n",
    "    \n",
    "    result = None\n",
    "    for i in polinomiosl:\n",
    "        if result is None:\n",
    "            result = i\n",
    "        else:\n",
    "            result = xor(result, i)\n",
    "    \n",
    "    if result is None:\n",
    "        return 0\n",
    "    \n",
    "    else:\n",
    "        result = division(result, irreductible)\n",
    "        return int(result, 2)"
   ]
  },
  {
   "cell_type": "code",
   "execution_count": 13,
   "id": "28d268f3",
   "metadata": {},
   "outputs": [],
   "source": [
    "def GF_es_generador(a):\n",
    "    tabla = set()\n",
    "    tabla.add(1)\n",
    "    anterior = 1\n",
    "    for i in range(1, 255):\n",
    "        anterior = GF_product_p(anterior, a)\n",
    "        tabla.add(anterior)\n",
    "    else:\n",
    "        return len(tabla) == 255"
   ]
  },
  {
   "cell_type": "code",
   "execution_count": 14,
   "id": "d3cb34ad",
   "metadata": {},
   "outputs": [],
   "source": [
    "def GF_tables():\n",
    "    exponencial = [1] * 255\n",
    "    logaritmica = [0] * 256\n",
    "    for i in range(1, 255):\n",
    "        result = GF_product_p(exponencial[i - 1], 6)\n",
    "        logaritmica[result] = i\n",
    "        exponencial[i] = result\n",
    "    return exponencial, logaritmica"
   ]
  },
  {
   "cell_type": "code",
   "execution_count": 15,
   "id": "149f4c0b",
   "metadata": {},
   "outputs": [],
   "source": [
    "def potencia(a, e):\n",
    "    result = 1\n",
    "    for i in range(0, e):\n",
    "        result = GF_product_p(result, a)\n",
    "    return result\n"
   ]
  },
  {
   "cell_type": "code",
   "execution_count": 16,
   "id": "9cd37e6f",
   "metadata": {},
   "outputs": [],
   "source": [
    "def GF_product_t(a, b):\n",
    "    if a == 0 or b == 0:\n",
    "        return 0\n",
    "    exponente1 = logaritmica[a]\n",
    "    exponente2 = logaritmica[b]\n",
    "    exponenteT = (exponente1 + exponente2) % 255\n",
    "    return exponencial[exponenteT]"
   ]
  },
  {
   "cell_type": "code",
   "execution_count": 17,
   "id": "8e694e0a",
   "metadata": {},
   "outputs": [],
   "source": [
    "def GF_invers(a):\n",
    "    exponente = logaritmica[a]\n",
    "    return exponencial[(255 - exponente) % 255]"
   ]
  },
  {
   "cell_type": "markdown",
   "id": "7c4a7577",
   "metadata": {},
   "source": [
    "# Comprobaciones"
   ]
  },
  {
   "cell_type": "markdown",
   "id": "9e112f05",
   "metadata": {},
   "source": [
    "## Multiplicacion Polinomica"
   ]
  },
  {
   "cell_type": "code",
   "execution_count": 18,
   "id": "b53a2542",
   "metadata": {},
   "outputs": [
    {
     "name": "stdout",
     "output_type": "stream",
     "text": [
      "True\n"
     ]
    }
   ],
   "source": [
    "bien = True\n",
    "for i in range(0, 255):\n",
    "    for j in range(0, 255):\n",
    "        bien = GF_product_p(i, j) == GF_product_p(j, i)\n",
    "        if not bien:\n",
    "            break\n",
    "    if not bien:\n",
    "        break\n",
    "print(bien)"
   ]
  },
  {
   "cell_type": "markdown",
   "id": "6f8decb4",
   "metadata": {},
   "source": [
    "## Multiplicaciones Tablas"
   ]
  },
  {
   "cell_type": "code",
   "execution_count": 19,
   "id": "3c3a5212",
   "metadata": {},
   "outputs": [
    {
     "name": "stdout",
     "output_type": "stream",
     "text": [
      "True\n"
     ]
    }
   ],
   "source": [
    "exponencial, logaritmica = GF_tables()\n",
    "\n",
    "bien = True\n",
    "for i in range(0, 255):\n",
    "    for j in range(0, 255):\n",
    "        bien = GF_product_t(i, j) == GF_product_t(j, i)\n",
    "        if not bien:\n",
    "            break\n",
    "    if not bien:\n",
    "        break\n",
    "print(bien)"
   ]
  },
  {
   "cell_type": "markdown",
   "id": "c3698c32",
   "metadata": {},
   "source": [
    "## Multiplicaciones por diferente tipo"
   ]
  },
  {
   "cell_type": "code",
   "execution_count": 20,
   "id": "ac192e94",
   "metadata": {},
   "outputs": [
    {
     "name": "stdout",
     "output_type": "stream",
     "text": [
      "True\n"
     ]
    }
   ],
   "source": [
    "exponencial, logaritmica = GF_tables()\n",
    "\n",
    "bien = True\n",
    "for i in range(0, 255):\n",
    "    for j in range(0, 255):\n",
    "        bien = GF_product_p(i, j) == GF_product_t(i, j)\n",
    "        if not bien:\n",
    "            print(i, j)\n",
    "            break\n",
    "    if not bien:\n",
    "        break\n",
    "print(bien)"
   ]
  },
  {
   "cell_type": "markdown",
   "id": "288b13f3",
   "metadata": {},
   "source": [
    "## Producto por su inverso"
   ]
  },
  {
   "cell_type": "code",
   "execution_count": 21,
   "id": "a39e81b9",
   "metadata": {},
   "outputs": [
    {
     "name": "stdout",
     "output_type": "stream",
     "text": [
      "True\n"
     ]
    }
   ],
   "source": [
    "exponencial, logaritmica = GF_tables()\n",
    "\n",
    "bien = True\n",
    "for i in range(1, 255):\n",
    "    bien = GF_product_p(i, GF_invers(i)) == 1\n",
    "    if not bien:\n",
    "        break\n",
    "print(bien)"
   ]
  },
  {
   "cell_type": "code",
   "execution_count": 22,
   "id": "f36ce7da",
   "metadata": {},
   "outputs": [
    {
     "name": "stdout",
     "output_type": "stream",
     "text": [
      "True\n"
     ]
    }
   ],
   "source": [
    "exponencial, logaritmica = GF_tables()\n",
    "\n",
    "bien = True\n",
    "for i in range(1, 255):\n",
    "    bien = GF_product_t(i, GF_invers(i)) == 1\n",
    "    if not bien:\n",
    "        break\n",
    "print(bien)"
   ]
  },
  {
   "cell_type": "code",
   "execution_count": 24,
   "id": "d5cf57a6",
   "metadata": {},
   "outputs": [
    {
     "data": {
      "text/plain": [
       "0"
      ]
     },
     "execution_count": 24,
     "metadata": {},
     "output_type": "execute_result"
    }
   ],
   "source": [
    "GF_product_t(0, GF_invers(0))"
   ]
  },
  {
   "cell_type": "markdown",
   "id": "9af42e41",
   "metadata": {},
   "source": [
    "## Generador de polinomios irreductibles"
   ]
  },
  {
   "cell_type": "code",
   "execution_count": 49,
   "id": "d7345ed5",
   "metadata": {},
   "outputs": [
    {
     "name": "stdout",
     "output_type": "stream",
     "text": [
      "[2, 3, 7, 11, 13, 19, 25, 31, 37, 41, 47, 55, 59, 61, 67, 73, 87, 91, 97, 103, 109, 115, 117, 131, 137, 143, 145, 157, 167, 171, 185, 191, 193, 203, 211, 213, 229, 239, 241, 247, 253, 283, 285, 299, 301, 313, 319, 333, 351, 355, 357, 361, 369, 375, 379, 391, 395, 397, 415, 419, 425, 433, 445, 451, 463, 471, 477, 487, 499, 501, 505]\n"
     ]
    }
   ],
   "source": [
    "print(irreductible_polynomials())"
   ]
  },
  {
   "cell_type": "markdown",
   "id": "c11ecb43",
   "metadata": {},
   "source": [
    "## Generadores"
   ]
  },
  {
   "cell_type": "code",
   "execution_count": 50,
   "id": "34c022c2",
   "metadata": {},
   "outputs": [
    {
     "name": "stdout",
     "output_type": "stream",
     "text": [
      "[6, 10, 11, 12, 18, 19, 20, 22, 23, 24, 25, 29, 33, 34, 36, 38, 40, 44, 46, 47, 48, 49, 50, 54, 55, 57, 58, 59, 62, 66, 67, 68, 69, 72, 73, 74, 79, 80, 83, 87, 91, 92, 93, 95, 98, 100, 101, 102, 103, 108, 109, 110, 113, 114, 115, 116, 117, 121, 123, 125, 126, 127, 129, 130, 131, 133, 135, 136, 137, 141, 142, 143, 144, 145, 148, 149, 151, 152, 155, 158, 159, 161, 163, 165, 166, 174, 175, 176, 181, 184, 185, 186, 187, 188, 190, 196, 199, 200, 202, 203, 204, 205, 210, 213, 215, 216, 218, 220, 221, 225, 228, 229, 230, 231, 234, 235, 236, 238, 241, 242, 243, 246, 248, 249, 250, 252, 253, 254]\n"
     ]
    }
   ],
   "source": [
    "generadores = []\n",
    "for i in range(0, 255):\n",
    "    if GF_es_generador(i):\n",
    "        generadores.append(i)\n",
    "        \n",
    "print(generadores)"
   ]
  },
  {
   "cell_type": "markdown",
   "id": "cb43d866",
   "metadata": {},
   "source": [
    "## Tablas exponenciales y logaritmicas"
   ]
  },
  {
   "cell_type": "code",
   "execution_count": 51,
   "id": "b052e6bd",
   "metadata": {},
   "outputs": [],
   "source": [
    "GF_tables();"
   ]
  },
  {
   "cell_type": "code",
   "execution_count": 52,
   "id": "daba7e83",
   "metadata": {},
   "outputs": [
    {
     "name": "stdout",
     "output_type": "stream",
     "text": [
      "[1, 6, 20, 120, 155, 76, 35, 202, 33, 198, 9, 54, 180, 174, 242, 177, 176, 182, 162, 218, 65, 13, 46, 228, 197, 3, 10, 60, 136, 38, 212, 101, 213, 99, 193, 27, 90, 87, 121, 157, 88, 91, 81, 109, 229, 195, 23, 114, 167, 196, 5, 30, 68, 19, 106, 247, 175, 244, 165, 200, 45, 238, 249, 139, 44, 232, 237, 243, 183, 164, 206, 57, 150, 98, 199, 15, 34, 204, 53, 190, 146, 122, 151, 100, 211, 119, 185, 128, 22, 116, 179, 188, 158, 82, 103, 217, 75, 49, 166, 194, 17, 102, 223, 95, 73, 61, 142, 50, 172, 254, 153, 64, 11, 58, 156, 94, 79, 41, 246, 169, 224, 221, 83, 97, 205, 51, 170, 234, 225, 219, 71, 25, 86, 127, 137, 32, 192, 29, 78, 47, 226, 209, 123, 145, 112, 171, 236, 245, 163, 220, 85, 117, 181, 168, 230, 201, 43, 250, 129, 16, 96, 203, 39, 210, 113, 173, 248, 141, 56, 144, 118, 191, 148, 110, 239, 255, 159, 84, 115, 161, 208, 125, 133, 8, 48, 160, 214, 105, 253, 147, 124, 131, 28, 72, 59, 154, 74, 55, 178, 186, 138, 42, 252, 149, 104, 251, 135, 4, 24, 80, 107, 241, 187, 140, 62, 132, 14, 36, 216, 77, 37, 222, 89, 93, 69, 21, 126, 143, 52, 184, 134, 2, 12, 40, 240, 189, 152, 70, 31, 66, 7, 18, 108, 227, 215, 111, 233, 235, 231, 207, 63, 130, 26, 92, 67]\n"
     ]
    }
   ],
   "source": [
    "print(exponencial)"
   ]
  },
  {
   "cell_type": "code",
   "execution_count": 53,
   "id": "bf1f8673",
   "metadata": {},
   "outputs": [
    {
     "name": "stdout",
     "output_type": "stream",
     "text": [
      "[0, 0, 231, 25, 207, 50, 1, 240, 183, 10, 26, 112, 232, 21, 216, 75, 159, 100, 241, 53, 2, 225, 88, 46, 208, 131, 252, 35, 192, 137, 51, 238, 135, 8, 76, 6, 217, 220, 29, 162, 233, 117, 201, 156, 64, 60, 22, 139, 184, 97, 107, 125, 228, 78, 11, 197, 168, 71, 113, 194, 27, 105, 214, 250, 111, 20, 239, 254, 52, 224, 237, 130, 193, 104, 196, 96, 5, 219, 138, 116, 209, 42, 93, 122, 177, 150, 132, 37, 40, 222, 36, 41, 253, 223, 115, 103, 160, 123, 73, 33, 83, 31, 101, 94, 204, 187, 54, 210, 242, 43, 173, 245, 144, 164, 47, 178, 89, 151, 170, 85, 3, 38, 81, 142, 190, 181, 226, 133, 87, 158, 251, 191, 215, 182, 230, 206, 28, 134, 200, 63, 213, 167, 106, 227, 169, 143, 80, 189, 172, 203, 72, 82, 236, 110, 195, 4, 114, 39, 92, 176, 185, 179, 18, 148, 69, 58, 98, 48, 153, 119, 126, 145, 108, 165, 13, 56, 16, 15, 198, 90, 12, 152, 17, 68, 229, 86, 199, 212, 91, 235, 79, 171, 136, 34, 99, 45, 49, 24, 9, 74, 59, 155, 7, 161, 77, 124, 70, 249, 180, 141, 163, 84, 30, 32, 186, 244, 218, 95, 19, 129, 149, 121, 221, 102, 120, 128, 140, 243, 23, 44, 154, 248, 65, 246, 127, 247, 146, 66, 61, 174, 234, 211, 14, 67, 57, 147, 118, 55, 166, 62, 157, 205, 202, 188, 109, 175]\n"
     ]
    }
   ],
   "source": [
    "print(logaritmica)"
   ]
  },
  {
   "cell_type": "markdown",
   "id": "6454b436",
   "metadata": {},
   "source": [
    "# Pruebas"
   ]
  },
  {
   "cell_type": "code",
   "execution_count": 54,
   "id": "ce418582",
   "metadata": {},
   "outputs": [
    {
     "name": "stdout",
     "output_type": "stream",
     "text": [
      "Insertar numero entero: 12\n",
      "Tiempo producto p(a,0x02) = 0.00012212799992994405 resultado -> 24\n",
      "Tiempo producto t(a,0x02) = 6.425999981729547e-05 resultado -> 24\n",
      "\n",
      "Tiempo producto p(a,0x03) = 0.00010787199971673544 resultado -> 20\n",
      "Tiempo producto t(a,0x03) = 6.293699971138267e-05 resultado -> 20\n",
      "\n",
      "Tiempo producto p(a,0x09) = 7.525999990320997e-05 resultado -> 108\n",
      "Tiempo producto t(a,0x09) = 5.659499947796576e-05 resultado -> 108\n",
      "\n",
      "Tiempo producto p(a,0x0B) = 7.306600036827149e-05 resultado -> 116\n",
      "Tiempo producto t(a,0x0B) = 5.446099930850323e-05 resultado -> 116\n",
      "\n",
      "Tiempo producto p(a,0x0D) = 0.0001227590000780765 resultado -> 92\n",
      "Tiempo producto t(a,0x0D) = 5.734699971071677e-05 resultado -> 92\n",
      "\n",
      "Tiempo producto p(a,0x0E) = 7.636299960722681e-05 resultado -> 72\n",
      "Tiempo producto t(a,0x0E) = 5.417099964688532e-05 resultado -> 72\n"
     ]
    }
   ],
   "source": [
    "import timeit\n",
    "exponencial, logaritmica = GF_tables()\n",
    "\n",
    "a = int(input(\"Insertar numero entero: \"))\n",
    "\n",
    "inicio = timeit.default_timer()\n",
    "resultado= GF_product_p(a,0x02)\n",
    "final = timeit.default_timer()\n",
    "print(\"Tiempo producto p(a,0x02) = \" + str(final - inicio) + \" resultado -> \" + str(resultado))\n",
    "\n",
    "inicio = timeit.default_timer()\n",
    "resultado= GF_product_t(a,0x02)\n",
    "final = timeit.default_timer()\n",
    "print(\"Tiempo producto t(a,0x02) = \" + str(final - inicio) + \" resultado -> \" + str(resultado))\n",
    "\n",
    "print()\n",
    "\n",
    "inicio = timeit.default_timer()\n",
    "resultado= GF_product_p(a,0x03)\n",
    "final = timeit.default_timer()\n",
    "print(\"Tiempo producto p(a,0x03) = \" + str(final - inicio) + \" resultado -> \" + str(resultado))\n",
    "\n",
    "inicio = timeit.default_timer()\n",
    "resultado= GF_product_t(a,0x03)\n",
    "final = timeit.default_timer()\n",
    "print(\"Tiempo producto t(a,0x03) = \" + str(final - inicio) + \" resultado -> \" + str(resultado))\n",
    "\n",
    "print()\n",
    "\n",
    "inicio = timeit.default_timer()\n",
    "resultado= GF_product_p(a,0x09)\n",
    "final = timeit.default_timer()\n",
    "print(\"Tiempo producto p(a,0x09) = \" + str(final - inicio) + \" resultado -> \" + str(resultado))\n",
    "\n",
    "inicio = timeit.default_timer()\n",
    "resultado= GF_product_t(a,0x09)\n",
    "final = timeit.default_timer()\n",
    "print(\"Tiempo producto t(a,0x09) = \" + str(final - inicio) + \" resultado -> \" + str(resultado))\n",
    "\n",
    "print()\n",
    "\n",
    "inicio = timeit.default_timer()\n",
    "resultado= GF_product_p(a,0x0B)\n",
    "final = timeit.default_timer()\n",
    "print(\"Tiempo producto p(a,0x0B) = \" + str(final - inicio) + \" resultado -> \" + str(resultado))\n",
    "\n",
    "inicio = timeit.default_timer()\n",
    "resultado= GF_product_t(a,0x0B)\n",
    "final = timeit.default_timer()\n",
    "print(\"Tiempo producto t(a,0x0B) = \" + str(final - inicio) + \" resultado -> \" + str(resultado))\n",
    "\n",
    "print()\n",
    "\n",
    "inicio = timeit.default_timer()\n",
    "resultado= GF_product_p(a,0x0D)\n",
    "final = timeit.default_timer()\n",
    "print(\"Tiempo producto p(a,0x0D) = \" + str(final - inicio) + \" resultado -> \" + str(resultado))\n",
    "\n",
    "inicio = timeit.default_timer()\n",
    "resultado= GF_product_t(a,0x0D)\n",
    "final = timeit.default_timer()\n",
    "print(\"Tiempo producto t(a,0x0D) = \" + str(final - inicio) + \" resultado -> \" + str(resultado))\n",
    "\n",
    "print()\n",
    "\n",
    "inicio = timeit.default_timer()\n",
    "resultado= GF_product_p(a,0x0E)\n",
    "final = timeit.default_timer()\n",
    "print(\"Tiempo producto p(a,0x0E) = \" + str(final - inicio) + \" resultado -> \" + str(resultado))\n",
    "\n",
    "inicio = timeit.default_timer()\n",
    "resultado= GF_product_t(a,0x0E)\n",
    "final = timeit.default_timer()\n",
    "print(\"Tiempo producto t(a,0x0E) = \" + str(final - inicio) + \" resultado -> \" + str(resultado))"
   ]
  },
  {
   "cell_type": "code",
   "execution_count": 55,
   "id": "231aa888",
   "metadata": {},
   "outputs": [],
   "source": [
    "tiempoP = [0] * (255 ** 2)\n",
    "for i in range(0, 255):\n",
    "    for j in range(0, 255):\n",
    "        inicio = timeit.default_timer()\n",
    "        GF_product_p(i, j)\n",
    "        final = timeit.default_timer()\n",
    "        tiempoP[i * 255 + j] = final - inicio"
   ]
  },
  {
   "cell_type": "code",
   "execution_count": 56,
   "id": "692c2bdb",
   "metadata": {},
   "outputs": [
    {
     "data": {
      "text/plain": [
       "[<matplotlib.lines.Line2D at 0x7f531f409630>]"
      ]
     },
     "execution_count": 56,
     "metadata": {},
     "output_type": "execute_result"
    },
    {
     "data": {
      "image/png": "[encoded data removed]",
      "text/plain": [
       "<Figure size 640x480 with 1 Axes>"
      ]
     },
     "metadata": {},
     "output_type": "display_data"
    }
   ],
   "source": [
    "import matplotlib.pyplot as plt\n",
    "plt.plot(tiempoP)"
   ]
  },
  {
   "cell_type": "code",
   "execution_count": 57,
   "id": "cad4aacb",
   "metadata": {},
   "outputs": [],
   "source": [
    "exponencial, logaritmica = GF_tables()\n",
    "tiempoT = [0] * (255 ** 2)\n",
    "for i in range(0, 255):\n",
    "    for j in range(0, 255):\n",
    "        inicio = timeit.default_timer()\n",
    "        GF_product_t(i, j)\n",
    "        final = timeit.default_timer()\n",
    "        tiempoT[i * 255 + j] = final - inicio"
   ]
  },
  {
   "cell_type": "code",
   "execution_count": 58,
   "id": "0fbe4176",
   "metadata": {},
   "outputs": [
    {
     "data": {
      "text/plain": [
       "Text(0.5, 0, 'Iteración')"
      ]
     },
     "execution_count": 58,
     "metadata": {},
     "output_type": "execute_result"
    },
    {
     "data": {
      "image/png": "[encoded data removed]",
      "text/plain": [
       "<Figure size 640x480 with 1 Axes>"
      ]
     },
     "metadata": {},
     "output_type": "display_data"
    }
   ],
   "source": [
    "plt.plot(tiempoT)\n",
    "plt.ylabel('Tiempo s')\n",
    "plt.xlabel('Iteración')"
   ]
  },
  {
   "cell_type": "code",
   "execution_count": 59,
   "id": "214282f6",
   "metadata": {},
   "outputs": [
    {
     "data": {
      "text/plain": [
       "<matplotlib.legend.Legend at 0x7f531c3a6f80>"
      ]
     },
     "execution_count": 59,
     "metadata": {},
     "output_type": "execute_result"
    },
    {
     "data": {
      "image/png": "[encoded data removed]",
      "text/plain": [
       "<Figure size 640x480 with 1 Axes>"
      ]
     },
     "metadata": {},
     "output_type": "display_data"
    }
   ],
   "source": [
    "plt.plot(tiempoP)\n",
    "plt.plot(tiempoT)\n",
    "plt.ylabel('Tiempo s')\n",
    "plt.xlabel('Iteración')\n",
    "plt.legend(['Tiempo ejecución sin tablas','Tiempo ejecución con tablas'])"
   ]
  },
  {
   "cell_type": "markdown",
   "id": "e84e0fce",
   "metadata": {},
   "source": [
    "# Conclusiones"
   ]
  },
  {
   "cell_type": "markdown",
   "id": "8665ec83",
   "metadata": {},
   "source": [
    "Como podemos ver, las operaciones con tabla son mucho más rápidas por lo general que la operación de multiplicación de polinomios clásica."
   ]
  }
 ],
 "metadata": {
  "kernelspec": {
   "display_name": "Python 3 (ipykernel)",
   "language": "python",
   "name": "python3"
  },
  "language_info": {
   "codemirror_mode": {
    "name": "ipython",
    "version": 3
   },
   "file_extension": ".py",
   "mimetype": "text/x-python",
   "name": "python",
   "nbconvert_exporter": "python",
   "pygments_lexer": "ipython3",
   "version": "3.10.6"
  }
 },
 "nbformat": 4,
 "nbformat_minor": 5
}
