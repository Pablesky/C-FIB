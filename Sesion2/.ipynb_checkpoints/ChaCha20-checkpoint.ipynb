{
 "cells": [
  {
   "cell_type": "markdown",
   "id": "025a7a2b",
   "metadata": {},
   "source": [
    "# Con quarterrounds"
   ]
  },
  {
   "cell_type": "code",
   "execution_count": 16,
   "id": "195f4cee",
   "metadata": {},
   "outputs": [],
   "source": [
    "#! /usr/bin/python3\n",
    "# by pts@fazekas.hu at Thu May 24 18:44:15 CEST 2018\n",
    "\n",
    "\"\"\"Pure Python 3 implementation of the ChaCha20 stream cipher.\n",
    "It works with Python 3.5 (and probably also earler Python 3.x).\n",
    "Based on https://gist.github.com/cathalgarvey/0ce7dbae2aa9e3984adc\n",
    "Based on Numpy implementation: https://gist.github.com/chiiph/6855750\n",
    "Based on http://cr.yp.to/chacha.html\n",
    "More info about ChaCha20: https://en.wikipedia.org/wiki/Salsa20\n",
    "\"\"\"\n",
    "\n",
    "import struct\n",
    "\n",
    "\n",
    "def yield_chacha20_xor_stream(key, iv, position=0):\n",
    "  \"\"\"Generate the xor stream with the ChaCha20 cipher.\"\"\"\n",
    "  if not isinstance(position, int):\n",
    "    raise TypeError\n",
    "  if position & ~0xffffffff:\n",
    "    raise ValueError('Position is not uint32.')\n",
    "  if not isinstance(key, bytes):\n",
    "    raise TypeError\n",
    "  if not isinstance(iv, bytes):\n",
    "    raise TypeError\n",
    "  if len(key) != 32:\n",
    "    raise ValueError\n",
    "  if len(iv) != 8:\n",
    "    raise ValueError\n",
    "\n",
    "  def rotate(v, c):\n",
    "    return ((v << c) & 0xffffffff) | v >> (32 - c)\n",
    "\n",
    "  def quarter_round(x, a, b, c, d):\n",
    "    x[a] = (x[a] + x[b]) & 0xffffffff\n",
    "    x[d] = rotate(x[d] ^ x[a], 16)\n",
    "    x[c] = (x[c] + x[d]) & 0xffffffff\n",
    "    x[b] = rotate(x[b] ^ x[c], 12)\n",
    "    x[a] = (x[a] + x[b]) & 0xffffffff\n",
    "    x[d] = rotate(x[d] ^ x[a], 8)\n",
    "    x[c] = (x[c] + x[d]) & 0xffffffff\n",
    "    x[b] = rotate(x[b] ^ x[c], 7)\n",
    "\n",
    "  ctx = [0] * 16\n",
    "  ctx[:4] = (1634760805, 857760878, 2036477234, 1797285236)\n",
    "  ctx[4 : 12] = struct.unpack('<8L', key)\n",
    "  ctx[12] = ctx[13] = position\n",
    "  ctx[14 : 16] = struct.unpack('<LL', iv)\n",
    "  while 1:\n",
    "    x = list(ctx)\n",
    "    for i in range(10):\n",
    "      quarter_round(x, 0, 4,  8, 12)\n",
    "      quarter_round(x, 1, 5,  9, 13)\n",
    "      quarter_round(x, 2, 6, 10, 14)\n",
    "      quarter_round(x, 3, 7, 11, 15)\n",
    "      quarter_round(x, 0, 5, 10, 15)\n",
    "      quarter_round(x, 1, 6, 11, 12)\n",
    "      quarter_round(x, 2, 7,  8, 13)\n",
    "      quarter_round(x, 3, 4,  9, 14)\n",
    "    for c in struct.pack('<16L', *((x[i] + ctx[i]) & 0xffffffff for i in range(16))):\n",
    "      yield c\n",
    "    ctx[12] = (ctx[12] + 1) & 0xffffffff\n",
    "    if ctx[12] == 0:\n",
    "      ctx[13] = (ctx[13] + 1) & 0xffffffff\n",
    "\n",
    "\n",
    "def chacha20_encrypt(data, key, iv=None, position=0):\n",
    "  \"\"\"Encrypt (or decrypt) with the ChaCha20 cipher.\"\"\"\n",
    "  if not isinstance(data, bytes):\n",
    "    raise TypeError\n",
    "  if iv is None:\n",
    "    iv = b'\\0' * 8\n",
    "  if isinstance(key, bytes):\n",
    "    if not key:\n",
    "      raise ValueError('Key is empty.')\n",
    "    if len(key) < 32:\n",
    "      # TODO(pts): Do key derivation with PBKDF2 or something similar.\n",
    "      key = (key * (32 // len(key) + 1))[:32]\n",
    "    if len(key) > 32:\n",
    "      raise ValueError('Key too long.')\n",
    "\n",
    "  return bytes(a ^ b for a, b in\n",
    "      zip(data, yield_chacha20_xor_stream(key, iv, position)))\n",
    "\n",
    "\n",
    "assert chacha20_encrypt(\n",
    "    b'Hello World', b'chacha20!') == b'\\xeb\\xe78\\xad\\xd5\\xab\\x18R\\xe2O~'\n",
    "assert chacha20_encrypt(\n",
    "    b'\\xeb\\xe78\\xad\\xd5\\xab\\x18R\\xe2O~', b'chacha20!') == b'Hello World'\n",
    "\n",
    "# ---\n",
    "\n",
    "\n",
    "def run_tests():\n",
    "  import binascii\n",
    "  uh = lambda x: binascii.unhexlify(bytes(x, 'ascii'))\n",
    "  for i, (ciphertext, key, iv) in enumerate((\n",
    "      (uh('76b8e0ada0f13d90405d6ae55386bd28bdd219b8a08ded1aa836efcc8b770dc7da41597c5157488d7724e03fb8d84a376a43b8f41518a11cc387b669'), uh('0000000000000000000000000000000000000000000000000000000000000000'), uh('0000000000000000')),\n",
    "      (uh('4540f05a9f1fb296d7736e7b208e3c96eb4fe1834688d2604f450952ed432d41bbe2a0b6ea7566d2a5d1e7e20d42af2c53d792b1c43fea817e9ad275'), uh('0000000000000000000000000000000000000000000000000000000000000001'), uh('0000000000000000')),\n",
    "      (uh('de9cba7bf3d69ef5e786dc63973f653a0b49e015adbff7134fcb7df137821031e85a050278a7084527214f73efc7fa5b5277062eb7a0433e445f41e3'), uh('0000000000000000000000000000000000000000000000000000000000000000'), uh('0000000000000001')),\n",
    "      (uh('ef3fdfd6c61578fbf5cf35bd3dd33b8009631634d21e42ac33960bd138e50d32111e4caf237ee53ca8ad6426194a88545ddc497a0b466e7d6bbdb004'), uh('0000000000000000000000000000000000000000000000000000000000000000'), uh('0100000000000000')),\n",
    "      (uh('f798a189f195e66982105ffb640bb7757f579da31602fc93ec01ac56f85ac3c134a4547b733b46413042c9440049176905d3be59ea1c53f15916155c2be8241a38008b9a26bc35941e2444177c8ade6689de95264986d95889fb60e84629c9bd9a5acb1cc118be563eb9b3a4a472f82e09a7e778492b562ef7130e88dfe031c79db9d4f7c7a899151b9a475032b63fc385245fe054e3dd5a97a5f576fe064025d3ce042c566ab2c507b138db853e3d6959660996546cc9c4a6eafdc777c040d70eaf46f76dad3979e5c5360c3317166a1c894c94a371876a94df7628fe4eaaf2ccb27d5aaae0ad7ad0f9d4b6ad3b54098746d4524d38407a6deb'), uh('000102030405060708090a0b0c0d0e0f101112131415161718191a1b1c1d1e1f'), uh('0001020304050607')),\n",
    "      )):\n",
    "    assert chacha20_encrypt(b'\\0' * len(ciphertext), key, iv) == ciphertext\n",
    "    print('Test %d OK.' % i)"
   ]
  },
  {
   "cell_type": "code",
   "execution_count": 17,
   "id": "963345ba",
   "metadata": {},
   "outputs": [
    {
     "name": "stdout",
     "output_type": "stream",
     "text": [
      "Defaulting to user installation because normal site-packages is not writeable\n",
      "Requirement already satisfied: bitstring in /home/pablesky/.local/lib/python3.10/site-packages (3.1.9)\n"
     ]
    }
   ],
   "source": [
    "!pip install bitstring"
   ]
  },
  {
   "cell_type": "code",
   "execution_count": 18,
   "id": "221e4c89",
   "metadata": {},
   "outputs": [],
   "source": [
    "original = chacha20_encrypt(b'0'*32, b'0'*32, position=1)\n",
    "\n",
    "original = original.hex()\n",
    "original = int(original, 16)\n",
    "\n",
    "cambiosBits = [0] * 256\n",
    "cambiosPos = [0] * 256\n",
    "\n",
    "import binascii\n",
    "for i in range(2,4097):\n",
    "    modificada = (chacha20_encrypt(b'0'*32, b'0'*32, position=i))\n",
    "    modificada = modificada.hex()\n",
    "    modificada = int(modificada, 16)\n",
    "    \n",
    "    result = modificada ^ original\n",
    "    \n",
    "    cambiosBits[bin(result).count(\"1\")] += 1\n",
    "    \n",
    "    bits = bin(result)[2:]\n",
    "    for index, bit in enumerate(bits):\n",
    "        if (bit == '1'):\n",
    "            cambiosPos[index] += 1\n",
    "cambiosPos = cambiosPos[1:]"
   ]
  },
  {
   "cell_type": "code",
   "execution_count": 19,
   "id": "4083971a",
   "metadata": {},
   "outputs": [
    {
     "data": {
      "image/png": "[encoded data removed]",
      "text/plain": [
       "<Figure size 640x480 with 1 Axes>"
      ]
     },
     "metadata": {},
     "output_type": "display_data"
    }
   ],
   "source": [
    "import matplotlib.pyplot as plt\n",
    "import numpy as np\n",
    "\n",
    "x = np.arange(len(cambiosBits))\n",
    "y = np.array(cambiosBits)\n",
    "\n",
    "plt.bar(x, y)\n",
    "plt.show()"
   ]
  },
  {
   "cell_type": "code",
   "execution_count": 20,
   "id": "60c53db8",
   "metadata": {
    "scrolled": true
   },
   "outputs": [
    {
     "data": {
      "image/png": "[encoded data removed]",
      "text/plain": [
       "<Figure size 640x480 with 1 Axes>"
      ]
     },
     "metadata": {},
     "output_type": "display_data"
    }
   ],
   "source": [
    "x = np.arange(len(cambiosPos))\n",
    "y = np.array(cambiosPos)\n",
    "\n",
    "plt.bar(x, y)\n",
    "plt.show()"
   ]
  },
  {
   "cell_type": "markdown",
   "id": "0932a5f2",
   "metadata": {},
   "source": [
    "# Sin quarterrounds 1"
   ]
  },
  {
   "cell_type": "code",
   "execution_count": 21,
   "id": "9527c7de",
   "metadata": {},
   "outputs": [],
   "source": [
    "#! /usr/bin/python3\n",
    "# by pts@fazekas.hu at Thu May 24 18:44:15 CEST 2018\n",
    "\n",
    "\"\"\"Pure Python 3 implementation of the ChaCha20 stream cipher.\n",
    "It works with Python 3.5 (and probably also earler Python 3.x).\n",
    "Based on https://gist.github.com/cathalgarvey/0ce7dbae2aa9e3984adc\n",
    "Based on Numpy implementation: https://gist.github.com/chiiph/6855750\n",
    "Based on http://cr.yp.to/chacha.html\n",
    "More info about ChaCha20: https://en.wikipedia.org/wiki/Salsa20\n",
    "\"\"\"\n",
    "\n",
    "import struct\n",
    "\n",
    "\n",
    "def yield_chacha20_xor_stream(key, iv, position=0):\n",
    "  \"\"\"Generate the xor stream with the ChaCha20 cipher.\"\"\"\n",
    "  if not isinstance(position, int):\n",
    "    raise TypeError\n",
    "  if position & ~0xffffffff:\n",
    "    raise ValueError('Position is not uint32.')\n",
    "  if not isinstance(key, bytes):\n",
    "    raise TypeError\n",
    "  if not isinstance(iv, bytes):\n",
    "    raise TypeError\n",
    "  if len(key) != 32:\n",
    "    raise ValueError\n",
    "  if len(iv) != 8:\n",
    "    raise ValueError\n",
    "\n",
    "  def rotate(v, c):\n",
    "    return ((v << c) & 0xffffffff) | v >> (32 - c)\n",
    "\n",
    "  def quarter_round(x, a, b, c, d):\n",
    "    x[a] = (x[a] + x[b]) & 0xffffffff\n",
    "    x[d] = rotate(x[d] ^ x[a], 16)\n",
    "    x[c] = (x[c] + x[d]) & 0xffffffff\n",
    "    x[b] = rotate(x[b] ^ x[c], 12)\n",
    "    x[a] = (x[a] + x[b]) & 0xffffffff\n",
    "    x[d] = rotate(x[d] ^ x[a], 8)\n",
    "    x[c] = (x[c] + x[d]) & 0xffffffff\n",
    "    x[b] = rotate(x[b] ^ x[c], 7)\n",
    "\n",
    "  ctx = [0] * 16\n",
    "  ctx[:4] = (1634760805, 857760878, 2036477234, 1797285236)\n",
    "  ctx[4 : 12] = struct.unpack('<8L', key)\n",
    "  ctx[12] = ctx[13] = position\n",
    "  ctx[14 : 16] = struct.unpack('<LL', iv)\n",
    "  while 1:\n",
    "    x = list(ctx)\n",
    "    for i in range(10):\n",
    "      quarter_round(x, 0, 5, 10, 15)\n",
    "      quarter_round(x, 1, 6, 11, 12)\n",
    "      quarter_round(x, 2, 7,  8, 13)\n",
    "      quarter_round(x, 3, 4,  9, 14)\n",
    "    for c in struct.pack('<16L', *((x[i] + ctx[i]) & 0xffffffff for i in range(16))):\n",
    "      yield c\n",
    "    ctx[12] = (ctx[12] + 1) & 0xffffffff\n",
    "    if ctx[12] == 0:\n",
    "      ctx[13] = (ctx[13] + 1) & 0xffffffff\n",
    "\n",
    "\n",
    "def chacha20_encrypt(data, key, iv=None, position=0):\n",
    "  \"\"\"Encrypt (or decrypt) with the ChaCha20 cipher.\"\"\"\n",
    "  if not isinstance(data, bytes):\n",
    "    raise TypeError\n",
    "  if iv is None:\n",
    "    iv = b'\\0' * 8\n",
    "  if isinstance(key, bytes):\n",
    "    if not key:\n",
    "      raise ValueError('Key is empty.')\n",
    "    if len(key) < 32:\n",
    "      # TODO(pts): Do key derivation with PBKDF2 or something similar.\n",
    "      key = (key * (32 // len(key) + 1))[:32]\n",
    "    if len(key) > 32:\n",
    "      raise ValueError('Key too long.')\n",
    "\n",
    "  return bytes(a ^ b for a, b in\n",
    "      zip(data, yield_chacha20_xor_stream(key, iv, position)))"
   ]
  },
  {
   "cell_type": "code",
   "execution_count": 22,
   "id": "64234ae3",
   "metadata": {},
   "outputs": [],
   "source": [
    "original = chacha20_encrypt(b'0'*32, b'0'*32, position=1)\n",
    "\n",
    "original = original.hex()\n",
    "original = int(original, 16)\n",
    "\n",
    "cambiosBits = [0] * 256\n",
    "cambiosPos = [0] * 256\n",
    "\n",
    "import binascii\n",
    "for i in range(2,4097):\n",
    "    modificada = (chacha20_encrypt(b'0'*32, b'0'*32, position=i))\n",
    "    modificada = modificada.hex()\n",
    "    modificada = int(modificada, 16)\n",
    "    \n",
    "    result = modificada ^ original\n",
    "    \n",
    "    cambiosBits[bin(result).count(\"1\")] += 1\n",
    "    \n",
    "    bits = bin(result)[2:]\n",
    "    for index, bit in enumerate(bits):\n",
    "        if (bit == '1'):\n",
    "            cambiosPos[index] += 1\n",
    "cambiosPos = cambiosPos[1:]"
   ]
  },
  {
   "cell_type": "code",
   "execution_count": 23,
   "id": "cef2f06a",
   "metadata": {},
   "outputs": [
    {
     "data": {
      "image/png": "[encoded data removed]",
      "text/plain": [
       "<Figure size 640x480 with 1 Axes>"
      ]
     },
     "metadata": {},
     "output_type": "display_data"
    }
   ],
   "source": [
    "x = np.arange(len(cambiosBits))\n",
    "y = np.array(cambiosBits)\n",
    "\n",
    "plt.bar(x, y)\n",
    "plt.show()"
   ]
  },
  {
   "cell_type": "code",
   "execution_count": 24,
   "id": "5cad75f8",
   "metadata": {},
   "outputs": [
    {
     "data": {
      "image/png": "[encoded data removed]",
      "text/plain": [
       "<Figure size 640x480 with 1 Axes>"
      ]
     },
     "metadata": {},
     "output_type": "display_data"
    }
   ],
   "source": [
    "x = np.arange(len(cambiosPos))\n",
    "y = np.array(cambiosPos)\n",
    "\n",
    "plt.bar(x, y)\n",
    "plt.show()"
   ]
  },
  {
   "cell_type": "markdown",
   "id": "fd8ac7b2",
   "metadata": {},
   "source": [
    "# Sin quarteround 2"
   ]
  },
  {
   "cell_type": "code",
   "execution_count": 25,
   "id": "5cee18ad",
   "metadata": {},
   "outputs": [],
   "source": [
    "#! /usr/bin/python3\n",
    "# by pts@fazekas.hu at Thu May 24 18:44:15 CEST 2018\n",
    "\n",
    "\"\"\"Pure Python 3 implementation of the ChaCha20 stream cipher.\n",
    "It works with Python 3.5 (and probably also earler Python 3.x).\n",
    "Based on https://gist.github.com/cathalgarvey/0ce7dbae2aa9e3984adc\n",
    "Based on Numpy implementation: https://gist.github.com/chiiph/6855750\n",
    "Based on http://cr.yp.to/chacha.html\n",
    "More info about ChaCha20: https://en.wikipedia.org/wiki/Salsa20\n",
    "\"\"\"\n",
    "\n",
    "import struct\n",
    "\n",
    "\n",
    "def yield_chacha20_xor_stream(key, iv, position=0):\n",
    "  \"\"\"Generate the xor stream with the ChaCha20 cipher.\"\"\"\n",
    "  if not isinstance(position, int):\n",
    "    raise TypeError\n",
    "  if position & ~0xffffffff:\n",
    "    raise ValueError('Position is not uint32.')\n",
    "  if not isinstance(key, bytes):\n",
    "    raise TypeError\n",
    "  if not isinstance(iv, bytes):\n",
    "    raise TypeError\n",
    "  if len(key) != 32:\n",
    "    raise ValueError\n",
    "  if len(iv) != 8:\n",
    "    raise ValueError\n",
    "\n",
    "  def rotate(v, c):\n",
    "    return ((v << c) & 0xffffffff) | v >> (32 - c)\n",
    "\n",
    "  def quarter_round(x, a, b, c, d):\n",
    "    x[a] = (x[a] + x[b]) & 0xffffffff\n",
    "    x[d] = rotate(x[d] ^ x[a], 16)\n",
    "    x[c] = (x[c] + x[d]) & 0xffffffff\n",
    "    x[b] = rotate(x[b] ^ x[c], 12)\n",
    "    x[a] = (x[a] + x[b]) & 0xffffffff\n",
    "    x[d] = rotate(x[d] ^ x[a], 8)\n",
    "    x[c] = (x[c] + x[d]) & 0xffffffff\n",
    "    x[b] = rotate(x[b] ^ x[c], 7)\n",
    "\n",
    "  ctx = [0] * 16\n",
    "  ctx[:4] = (1634760805, 857760878, 2036477234, 1797285236)\n",
    "  ctx[4 : 12] = struct.unpack('<8L', key)\n",
    "  ctx[12] = ctx[13] = position\n",
    "  ctx[14 : 16] = struct.unpack('<LL', iv)\n",
    "  while 1:\n",
    "    x = list(ctx)\n",
    "    for i in range(10):\n",
    "      quarter_round(x, 0, 4,  8, 12)\n",
    "      quarter_round(x, 1, 5,  9, 13)\n",
    "      quarter_round(x, 2, 6, 10, 14)\n",
    "      quarter_round(x, 3, 7, 11, 15)\n",
    "    for c in struct.pack('<16L', *((x[i] + ctx[i]) & 0xffffffff for i in range(16))):\n",
    "      yield c\n",
    "    ctx[12] = (ctx[12] + 1) & 0xffffffff\n",
    "    if ctx[12] == 0:\n",
    "      ctx[13] = (ctx[13] + 1) & 0xffffffff\n",
    "\n",
    "\n",
    "def chacha20_encrypt(data, key, iv=None, position=0):\n",
    "  \"\"\"Encrypt (or decrypt) with the ChaCha20 cipher.\"\"\"\n",
    "  if not isinstance(data, bytes):\n",
    "    raise TypeError\n",
    "  if iv is None:\n",
    "    iv = b'\\0' * 8\n",
    "  if isinstance(key, bytes):\n",
    "    if not key:\n",
    "      raise ValueError('Key is empty.')\n",
    "    if len(key) < 32:\n",
    "      # TODO(pts): Do key derivation with PBKDF2 or something similar.\n",
    "      key = (key * (32 // len(key) + 1))[:32]\n",
    "    if len(key) > 32:\n",
    "      raise ValueError('Key too long.')\n",
    "\n",
    "  return bytes(a ^ b for a, b in\n",
    "      zip(data, yield_chacha20_xor_stream(key, iv, position)))"
   ]
  },
  {
   "cell_type": "code",
   "execution_count": 26,
   "id": "d6abee89",
   "metadata": {},
   "outputs": [],
   "source": [
    "original = chacha20_encrypt(b'0'*32, b'0'*32, position=1)\n",
    "\n",
    "original = original.hex()\n",
    "original = int(original, 16)\n",
    "\n",
    "cambiosBits = [0] * 256\n",
    "cambiosPos = [0] * 256\n",
    "\n",
    "import binascii\n",
    "for i in range(2,4097):\n",
    "    modificada = (chacha20_encrypt(b'0'*32, b'0'*32, position=i))\n",
    "    modificada = modificada.hex()\n",
    "    modificada = int(modificada, 16)\n",
    "    \n",
    "    result = modificada ^ original\n",
    "    \n",
    "    cambiosBits[bin(result).count(\"1\")] += 1\n",
    "    \n",
    "    bits = bin(result)[2:]\n",
    "    for index, bit in enumerate(bits):\n",
    "        if (bit == '1'):\n",
    "            cambiosPos[index] += 1\n",
    "cambiosPos = cambiosPos[1:]"
   ]
  },
  {
   "cell_type": "code",
   "execution_count": 27,
   "id": "8e595f2b",
   "metadata": {},
   "outputs": [
    {
     "data": {
      "image/png": "[encoded data removed]",
      "text/plain": [
       "<Figure size 640x480 with 1 Axes>"
      ]
     },
     "metadata": {},
     "output_type": "display_data"
    }
   ],
   "source": [
    "x = np.arange(len(cambiosBits))\n",
    "y = np.array(cambiosBits)\n",
    "\n",
    "plt.bar(x, y)\n",
    "plt.show()"
   ]
  },
  {
   "cell_type": "code",
   "execution_count": 28,
   "id": "a0863781",
   "metadata": {},
   "outputs": [
    {
     "data": {
      "image/png": "[encoded data removed]",
      "text/plain": [
       "<Figure size 640x480 with 1 Axes>"
      ]
     },
     "metadata": {},
     "output_type": "display_data"
    }
   ],
   "source": [
    "x = np.arange(len(cambiosPos))\n",
    "y = np.array(cambiosPos)\n",
    "\n",
    "plt.bar(x, y)\n",
    "plt.show()"
   ]
  },
  {
   "cell_type": "markdown",
   "id": "26e03796",
   "metadata": {},
   "source": [
    "# Sin quarteround 3"
   ]
  },
  {
   "cell_type": "code",
   "execution_count": 29,
   "id": "4a8b6d17",
   "metadata": {},
   "outputs": [],
   "source": [
    "#! /usr/bin/python3\n",
    "# by pts@fazekas.hu at Thu May 24 18:44:15 CEST 2018\n",
    "\n",
    "\"\"\"Pure Python 3 implementation of the ChaCha20 stream cipher.\n",
    "It works with Python 3.5 (and probably also earler Python 3.x).\n",
    "Based on https://gist.github.com/cathalgarvey/0ce7dbae2aa9e3984adc\n",
    "Based on Numpy implementation: https://gist.github.com/chiiph/6855750\n",
    "Based on http://cr.yp.to/chacha.html\n",
    "More info about ChaCha20: https://en.wikipedia.org/wiki/Salsa20\n",
    "\"\"\"\n",
    "\n",
    "import struct\n",
    "\n",
    "\n",
    "def yield_chacha20_xor_stream(key, iv, position=0):\n",
    "  \"\"\"Generate the xor stream with the ChaCha20 cipher.\"\"\"\n",
    "  if not isinstance(position, int):\n",
    "    raise TypeError\n",
    "  if position & ~0xffffffff:\n",
    "    raise ValueError('Position is not uint32.')\n",
    "  if not isinstance(key, bytes):\n",
    "    raise TypeError\n",
    "  if not isinstance(iv, bytes):\n",
    "    raise TypeError\n",
    "  if len(key) != 32:\n",
    "    raise ValueError\n",
    "  if len(iv) != 8:\n",
    "    raise ValueError\n",
    "\n",
    "  def rotate(v, c):\n",
    "    return ((v << c) & 0xffffffff) | v >> (32 - c)\n",
    "\n",
    "  def quarter_round(x, a, b, c, d):\n",
    "    x[a] = (x[a] + x[b]) & 0xffffffff\n",
    "    x[d] = rotate(x[d] ^ x[a], 16)\n",
    "    x[c] = (x[c] + x[d]) & 0xffffffff\n",
    "    x[b] = rotate(x[b] ^ x[c], 12)\n",
    "    x[a] = (x[a] + x[b]) & 0xffffffff\n",
    "    x[d] = rotate(x[d] ^ x[a], 8)\n",
    "    x[c] = (x[c] + x[d]) & 0xffffffff\n",
    "    x[b] = rotate(x[b] ^ x[c], 7)\n",
    "\n",
    "  ctx = [0] * 16\n",
    "  ctx[:4] = (1634760805, 857760878, 2036477234, 1797285236)\n",
    "  ctx[4 : 12] = struct.unpack('<8L', key)\n",
    "  ctx[12] = ctx[13] = position\n",
    "  ctx[14 : 16] = struct.unpack('<LL', iv)\n",
    "  while 1:\n",
    "    x = list(ctx)\n",
    "    for i in range(10):\n",
    "      quarter_round(x, 1, 5,  9, 13)\n",
    "      quarter_round(x, 2, 6, 10, 14)\n",
    "      quarter_round(x, 3, 7, 11, 15)\n",
    "      quarter_round(x, 0, 5, 10, 15)\n",
    "      quarter_round(x, 2, 7,  8, 13)\n",
    "      quarter_round(x, 3, 4,  9, 14)\n",
    "    for c in struct.pack('<16L', *((x[i] + ctx[i]) & 0xffffffff for i in range(16))):\n",
    "      yield c\n",
    "    ctx[12] = (ctx[12] + 1) & 0xffffffff\n",
    "    if ctx[12] == 0:\n",
    "      ctx[13] = (ctx[13] + 1) & 0xffffffff\n",
    "\n",
    "\n",
    "def chacha20_encrypt(data, key, iv=None, position=0):\n",
    "  \"\"\"Encrypt (or decrypt) with the ChaCha20 cipher.\"\"\"\n",
    "  if not isinstance(data, bytes):\n",
    "    raise TypeError\n",
    "  if iv is None:\n",
    "    iv = b'\\0' * 8\n",
    "  if isinstance(key, bytes):\n",
    "    if not key:\n",
    "      raise ValueError('Key is empty.')\n",
    "    if len(key) < 32:\n",
    "      # TODO(pts): Do key derivation with PBKDF2 or something similar.\n",
    "      key = (key * (32 // len(key) + 1))[:32]\n",
    "    if len(key) > 32:\n",
    "      raise ValueError('Key too long.')\n",
    "\n",
    "  return bytes(a ^ b for a, b in\n",
    "      zip(data, yield_chacha20_xor_stream(key, iv, position)))"
   ]
  },
  {
   "cell_type": "code",
   "execution_count": 30,
   "id": "c5117629",
   "metadata": {},
   "outputs": [],
   "source": [
    "original = chacha20_encrypt(b'0'*32, b'0'*32, position=1)\n",
    "\n",
    "original = original.hex()\n",
    "original = int(original, 16)\n",
    "\n",
    "cambiosBits = [0] * 256\n",
    "cambiosPos = [0] * 256\n",
    "\n",
    "import binascii\n",
    "for i in range(2,4097):\n",
    "    modificada = (chacha20_encrypt(b'0'*32, b'0'*32, position=i))\n",
    "    modificada = modificada.hex()\n",
    "    modificada = int(modificada, 16)\n",
    "    \n",
    "    result = modificada ^ original\n",
    "    \n",
    "    cambiosBits[bin(result).count(\"1\")] += 1\n",
    "    \n",
    "    bits = bin(result)[2:]\n",
    "    for index, bit in enumerate(bits):\n",
    "        if (bit == '1'):\n",
    "            cambiosPos[index] += 1\n",
    "cambiosPos = cambiosPos[1:]"
   ]
  },
  {
   "cell_type": "code",
   "execution_count": 31,
   "id": "2c0003e5",
   "metadata": {},
   "outputs": [
    {
     "data": {
      "image/png": "[encoded data removed]",
      "text/plain": [
       "<Figure size 640x480 with 1 Axes>"
      ]
     },
     "metadata": {},
     "output_type": "display_data"
    }
   ],
   "source": [
    "x = np.arange(len(cambiosBits))\n",
    "y = np.array(cambiosBits)\n",
    "\n",
    "plt.bar(x, y)\n",
    "plt.show()"
   ]
  },
  {
   "cell_type": "code",
   "execution_count": 32,
   "id": "80ac451d",
   "metadata": {},
   "outputs": [
    {
     "data": {
      "image/png": "[encoded data removed]",
      "text/plain": [
       "<Figure size 640x480 with 1 Axes>"
      ]
     },
     "metadata": {},
     "output_type": "display_data"
    }
   ],
   "source": [
    "x = np.arange(len(cambiosPos))\n",
    "y = np.array(cambiosPos)\n",
    "\n",
    "plt.bar(x, y)\n",
    "plt.show()"
   ]
  },
  {
   "cell_type": "code",
   "execution_count": null,
   "id": "3415b904",
   "metadata": {},
   "outputs": [],
   "source": []
  }
 ],
 "metadata": {
  "kernelspec": {
   "display_name": "Python 3 (ipykernel)",
   "language": "python",
   "name": "python3"
  },
  "language_info": {
   "codemirror_mode": {
    "name": "ipython",
    "version": 3
   },
   "file_extension": ".py",
   "mimetype": "text/x-python",
   "name": "python",
   "nbconvert_exporter": "python",
   "pygments_lexer": "ipython3",
   "version": "3.10.6"
  }
 },
 "nbformat": 4,
 "nbformat_minor": 5
}
