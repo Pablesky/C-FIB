{
 "cells": [
  {
   "cell_type": "code",
   "execution_count": 35,
   "id": "5621ffd7",
   "metadata": {},
   "outputs": [],
   "source": [
    "import timeit\n",
    "\n",
    "\n",
    "#tables exponenciales y logaritmicas\n",
    "tablaExp = []\n",
    "tablaLog = [0]*256 #iniciada toda a 0s"
   ]
  },
  {
   "cell_type": "code",
   "execution_count": 36,
   "id": "f29d0c81",
   "metadata": {},
   "outputs": [],
   "source": [
    "def mcd(a,b):\n",
    "    aux = 0\n",
    "    while (b > 0):\n",
    "        aux = b\n",
    "        b = a % b\n",
    "        a = aux\n",
    "    return a"
   ]
  },
  {
   "cell_type": "code",
   "execution_count": 37,
   "id": "33d01cf0",
   "metadata": {},
   "outputs": [],
   "source": [
    "def Modulo(x):\n",
    "    aux = x << 1\n",
    "    if(aux & 0x100) == 0x100:\n",
    "        aux ^= 0x1D\n",
    "    return (aux & 0xFF)"
   ]
  },
  {
   "cell_type": "code",
   "execution_count": 38,
   "id": "5fb14571",
   "metadata": {},
   "outputs": [],
   "source": [
    "def GF_product_p(x,y):\n",
    "    aux = 0\n",
    "    for i in range(8):\n",
    "        if( y & 0x01)==0x01:\n",
    "            aux ^= x\n",
    "        x = Modulo(x)\n",
    "        y >>= 1\n",
    "    return aux & 0xFF"
   ]
  },
  {
   "cell_type": "code",
   "execution_count": 39,
   "id": "5b26da37",
   "metadata": {},
   "outputs": [],
   "source": [
    "def GF_es_generador(x):\n",
    "    lista = []\n",
    "    for i in range(255):\n",
    "        if mcd(i,255) == 1:\n",
    "            lista.append(2**i)\n",
    "    return x in lista"
   ]
  },
  {
   "cell_type": "code",
   "execution_count": 40,
   "id": "768d12fe",
   "metadata": {},
   "outputs": [],
   "source": [
    "def GF_tables():\n",
    "    producto = 1\n",
    "    tablaExp.append(producto)\n",
    "    for i in range(0,255):\n",
    "        tablaLog[producto] = i\n",
    "        producto = GF_product_p(producto,2)\n",
    "        tablaExp.append(producto)"
   ]
  },
  {
   "cell_type": "code",
   "execution_count": 41,
   "id": "b1405822",
   "metadata": {},
   "outputs": [],
   "source": [
    "def GF_product_t(a,b):\n",
    "    if(a == 0 or b == 0):\n",
    "        return 0\n",
    "    \n",
    "    auxA,auxB = tablaLog[a],tablaLog[b]\n",
    "    suma = auxA + auxB\n",
    "    return tablaExp[suma%255]\n",
    "         "
   ]
  },
  {
   "cell_type": "code",
   "execution_count": 42,
   "id": "9e124e73",
   "metadata": {},
   "outputs": [],
   "source": [
    "def GF_invers(a):\n",
    "    if a == 0:\n",
    "        return 0\n",
    "    auxA = tablaLog[a-1] +1\n",
    "    return tablaExp[255 - auxA]"
   ]
  },
  {
   "cell_type": "code",
   "execution_count": 43,
   "id": "d28159ce",
   "metadata": {},
   "outputs": [],
   "source": [
    "#Iniciado de tablas\n",
    "GF_tables()"
   ]
  },
  {
   "cell_type": "markdown",
   "id": "2f36f294",
   "metadata": {},
   "source": [
    "# Parte Pablo"
   ]
  },
  {
   "cell_type": "code",
   "execution_count": 121,
   "id": "80195533",
   "metadata": {},
   "outputs": [],
   "source": [
    "def polinomio(n):\n",
    "    binario = bin(n)[2:]\n",
    "    binario = '0'*16 + binario\n",
    "    binario = binario[-16:]\n",
    "    return binario"
   ]
  },
  {
   "cell_type": "code",
   "execution_count": 122,
   "id": "50d9eb41",
   "metadata": {},
   "outputs": [],
   "source": [
    "def grado(n):\n",
    "    for index, element in enumerate(n):\n",
    "        if element == '1':\n",
    "            return 15 - index\n",
    "    return 0"
   ]
  },
  {
   "cell_type": "code",
   "execution_count": 123,
   "id": "2bad23f9",
   "metadata": {},
   "outputs": [],
   "source": [
    "def shift(n, a):\n",
    "    n = int(n, 2)\n",
    "    n = n << a\n",
    "    return polinomio(n)"
   ]
  },
  {
   "cell_type": "code",
   "execution_count": 124,
   "id": "bdae7c36",
   "metadata": {},
   "outputs": [],
   "source": [
    "def xor(m, n):\n",
    "    m = int(m, 2)\n",
    "    n = int(n, 2)\n",
    "    return polinomio(m ^ n)"
   ]
  },
  {
   "cell_type": "code",
   "execution_count": 125,
   "id": "0708df31",
   "metadata": {},
   "outputs": [],
   "source": [
    "def divisible(m, n):\n",
    "    m = polinomio(m)\n",
    "    n = polinomio(n)\n",
    "    \n",
    "    gradom = grado(m)\n",
    "    gradon = grado(n)\n",
    "    \n",
    "    while gradom >= gradon:\n",
    "        dif = gradom - gradon\n",
    "        m = xor(shift(n, dif), m)\n",
    "        gradom = grado(m)\n",
    "        \n",
    "    return int(m, 2) == 0"
   ]
  },
  {
   "cell_type": "code",
   "execution_count": 126,
   "id": "f782168e",
   "metadata": {},
   "outputs": [],
   "source": [
    "def irreductible_polynomials():\n",
    "    irreductibles = []\n",
    "    for i in range(2, 512):\n",
    "        if len(irreductibles) == 0:\n",
    "            irreductibles.append(i)\n",
    "        else:\n",
    "            primo = True\n",
    "            for j in irreductibles:\n",
    "                primo = not divisible(i, j)\n",
    "                if not primo:\n",
    "                    break\n",
    "            if primo:\n",
    "                irreductibles.append(i)\n",
    "    return irreductibles"
   ]
  },
  {
   "cell_type": "code",
   "execution_count": 132,
   "id": "21f8cf50",
   "metadata": {},
   "outputs": [
    {
     "name": "stdout",
     "output_type": "stream",
     "text": [
      "[2, 3, 7, 11, 13, 19, 25, 31, 37, 41, 47, 55, 59, 61, 67, 73, 87, 91, 97, 103, 109, 115, 117, 131, 137, 143, 145, 157, 167, 171, 185, 191, 193, 203, 211, 213, 229, 239, 241, 247, 253, 283, 285, 299, 301, 313, 319, 333, 351, 355, 357, 361, 369, 375, 379, 391, 395, 397, 415, 419, 425, 433, 445, 451, 463, 471, 477, 487, 499, 501, 505]\n",
      "71\n"
     ]
    }
   ],
   "source": [
    "print(irreductible_polynomials())\n",
    "print(len(irreductible_polynomials()))"
   ]
  },
  {
   "cell_type": "code",
   "execution_count": 128,
   "id": "7c583daf",
   "metadata": {},
   "outputs": [],
   "source": [
    "def grados(n):\n",
    "    grados = []\n",
    "    for index, element in enumerate(n):\n",
    "        if element == \"1\":\n",
    "            grados.append(15 - index)\n",
    "    return grados"
   ]
  },
  {
   "cell_type": "code",
   "execution_count": 129,
   "id": "c9bbeff8",
   "metadata": {},
   "outputs": [],
   "source": [
    "irreductible = \"0000000110001011\""
   ]
  },
  {
   "cell_type": "code",
   "execution_count": 130,
   "id": "86d3ebb2",
   "metadata": {},
   "outputs": [],
   "source": [
    "def division(m, n):\n",
    "    gradom = grado(m)\n",
    "    gradon = grado(n)\n",
    "    \n",
    "    while gradom >= gradon:\n",
    "        dif = gradom - gradon\n",
    "        m = xor(shift(n, dif), m)\n",
    "        gradom = grado(m)\n",
    "        \n",
    "    return m"
   ]
  },
  {
   "cell_type": "code",
   "execution_count": 131,
   "id": "9443203c",
   "metadata": {},
   "outputs": [],
   "source": [
    "def GF_product_p(a, b):\n",
    "    a = polinomio(a)\n",
    "    b = polinomio(b)\n",
    "    gradosl = grados(b)\n",
    "    polinomiosl = []\n",
    "    for grado in gradosl:\n",
    "        if grado == 0:\n",
    "            polinomiosl.append(a)\n",
    "        else:\n",
    "            polinomiosl.append(shift(a, grado))\n",
    "    \n",
    "    result = None\n",
    "    for i in polinomiosl:\n",
    "        if result is None:\n",
    "            result = i\n",
    "        else:\n",
    "            result = xor(result, i)\n",
    "    \n",
    "    if result is None:\n",
    "        return 0\n",
    "    \n",
    "    else:\n",
    "        result = division(result, irreductible)\n",
    "        return int(result, 2)"
   ]
  },
  {
   "cell_type": "markdown",
   "id": "6454b436",
   "metadata": {},
   "source": [
    "# Pruebas"
   ]
  },
  {
   "cell_type": "code",
   "execution_count": 19,
   "id": "ce418582",
   "metadata": {},
   "outputs": [
    {
     "name": "stdout",
     "output_type": "stream",
     "text": [
      "Insertar numero entero: 12\n",
      "0xc\n",
      "0x4c\n",
      "0x8e\n",
      "0x8e\n",
      "0x8e\n",
      "\n",
      "Tiempo producto p(a,0x02) = 0.00010674500026652822 resultado -> 24\n",
      "Tiempo producto t(a,0x02) = 8.947900005296106e-05 resultado -> 24\n",
      "\n",
      "Tiempo producto p(a,0x03) = 0.00010543200005486142 resultado -> 20\n",
      "Tiempo producto t(a,0x03) = 9.05719998627319e-05 resultado -> 20\n",
      "\n",
      "Tiempo producto p(a,0x09) = 0.00010599300003377721 resultado -> 108\n",
      "Tiempo producto t(a,0x09) = 8.732500009500654e-05 resultado -> 108\n",
      "\n",
      "Tiempo producto p(a,0x0B) = 0.00010744599967438262 resultado -> 116\n",
      "Tiempo producto t(a,0x0B) = 8.512100021107472e-05 resultado -> 116\n",
      "\n",
      "Tiempo producto p(a,0x0D) = 0.00010479100001248298 resultado -> 92\n",
      "Tiempo producto t(a,0x0D) = 8.561200002077385e-05 resultado -> 92\n",
      "\n",
      "Tiempo producto p(a,0x0E) = 0.00018907999992734403 resultado -> 72\n",
      "Tiempo producto t(a,0x0E) = 8.699500040165731e-05 resultado -> 72\n"
     ]
    }
   ],
   "source": [
    "a = int(input(\"Insertar numero entero: \"))\n",
    "print(hex(a))\n",
    "print(hex(GF_invers(a)))\n",
    "\n",
    "print(hex(GF_product_p(0x02, 0x47)))\n",
    "print(hex(GF_product_t(0x02, 0x47)))\n",
    "print(hex(GF_product_p(0x47, 0x02)))\n",
    "\n",
    "print()\n",
    "\n",
    "inicio = timeit.default_timer()\n",
    "resultado= GF_product_p(a,0x02)\n",
    "final = timeit.default_timer()\n",
    "print(\"Tiempo producto p(a,0x02) = \" + str(final - inicio) + \" resultado -> \" + str(resultado))\n",
    "\n",
    "inicio = timeit.default_timer()\n",
    "resultado= GF_product_t(a,0x02)\n",
    "final = timeit.default_timer()\n",
    "print(\"Tiempo producto t(a,0x02) = \" + str(final - inicio) + \" resultado -> \" + str(resultado))\n",
    "\n",
    "print()\n",
    "\n",
    "inicio = timeit.default_timer()\n",
    "resultado= GF_product_p(a,0x03)\n",
    "final = timeit.default_timer()\n",
    "print(\"Tiempo producto p(a,0x03) = \" + str(final - inicio) + \" resultado -> \" + str(resultado))\n",
    "\n",
    "inicio = timeit.default_timer()\n",
    "resultado= GF_product_t(a,0x03)\n",
    "final = timeit.default_timer()\n",
    "print(\"Tiempo producto t(a,0x03) = \" + str(final - inicio) + \" resultado -> \" + str(resultado))\n",
    "\n",
    "print()\n",
    "\n",
    "inicio = timeit.default_timer()\n",
    "resultado= GF_product_p(a,0x09)\n",
    "final = timeit.default_timer()\n",
    "print(\"Tiempo producto p(a,0x09) = \" + str(final - inicio) + \" resultado -> \" + str(resultado))\n",
    "\n",
    "inicio = timeit.default_timer()\n",
    "resultado= GF_product_t(a,0x09)\n",
    "final = timeit.default_timer()\n",
    "print(\"Tiempo producto t(a,0x09) = \" + str(final - inicio) + \" resultado -> \" + str(resultado))\n",
    "\n",
    "print()\n",
    "\n",
    "inicio = timeit.default_timer()\n",
    "resultado= GF_product_p(a,0x0B)\n",
    "final = timeit.default_timer()\n",
    "print(\"Tiempo producto p(a,0x0B) = \" + str(final - inicio) + \" resultado -> \" + str(resultado))\n",
    "\n",
    "inicio = timeit.default_timer()\n",
    "resultado= GF_product_t(a,0x0B)\n",
    "final = timeit.default_timer()\n",
    "print(\"Tiempo producto t(a,0x0B) = \" + str(final - inicio) + \" resultado -> \" + str(resultado))\n",
    "\n",
    "print()\n",
    "\n",
    "inicio = timeit.default_timer()\n",
    "resultado= GF_product_p(a,0x0D)\n",
    "final = timeit.default_timer()\n",
    "print(\"Tiempo producto p(a,0x0D) = \" + str(final - inicio) + \" resultado -> \" + str(resultado))\n",
    "\n",
    "inicio = timeit.default_timer()\n",
    "resultado= GF_product_t(a,0x0D)\n",
    "final = timeit.default_timer()\n",
    "print(\"Tiempo producto t(a,0x0D) = \" + str(final - inicio) + \" resultado -> \" + str(resultado))\n",
    "\n",
    "print()\n",
    "\n",
    "inicio = timeit.default_timer()\n",
    "resultado= GF_product_p(a,0x0E)\n",
    "final = timeit.default_timer()\n",
    "print(\"Tiempo producto p(a,0x0E) = \" + str(final - inicio) + \" resultado -> \" + str(resultado))\n",
    "\n",
    "inicio = timeit.default_timer()\n",
    "resultado= GF_product_t(a,0x0E)\n",
    "final = timeit.default_timer()\n",
    "print(\"Tiempo producto t(a,0x0E) = \" + str(final - inicio) + \" resultado -> \" + str(resultado))"
   ]
  }
 ],
 "metadata": {
  "kernelspec": {
   "display_name": "Python 3 (ipykernel)",
   "language": "python",
   "name": "python3"
  },
  "language_info": {
   "codemirror_mode": {
    "name": "ipython",
    "version": 3
   },
   "file_extension": ".py",
   "mimetype": "text/x-python",
   "name": "python",
   "nbconvert_exporter": "python",
   "pygments_lexer": "ipython3",
   "version": "3.10.6"
  }
 },
 "nbformat": 4,
 "nbformat_minor": 5
}
