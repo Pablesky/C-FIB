{
 "cells": [
  {
   "cell_type": "markdown",
   "id": "2f36f294",
   "metadata": {},
   "source": [
    "# Parte Pablo"
   ]
  },
  {
   "cell_type": "code",
   "execution_count": 92,
   "id": "c9bbeff8",
   "metadata": {},
   "outputs": [],
   "source": [
    "irreductible = \"0000000110001011\""
   ]
  },
  {
   "cell_type": "code",
   "execution_count": 93,
   "id": "80195533",
   "metadata": {},
   "outputs": [],
   "source": [
    "def polinomio(n):\n",
    "    binario = bin(n)[2:]\n",
    "    binario = '0'*16 + binario\n",
    "    binario = binario[-16:]\n",
    "    return binario"
   ]
  },
  {
   "cell_type": "code",
   "execution_count": 94,
   "id": "50d9eb41",
   "metadata": {},
   "outputs": [],
   "source": [
    "def grado(n):\n",
    "    for index, element in enumerate(n):\n",
    "        if element == '1':\n",
    "            return 15 - index\n",
    "    return 0"
   ]
  },
  {
   "cell_type": "code",
   "execution_count": 95,
   "id": "2bad23f9",
   "metadata": {},
   "outputs": [],
   "source": [
    "def shift(n, a):\n",
    "    n = int(n, 2)\n",
    "    n = n << a\n",
    "    return polinomio(n)"
   ]
  },
  {
   "cell_type": "code",
   "execution_count": 96,
   "id": "bdae7c36",
   "metadata": {},
   "outputs": [],
   "source": [
    "def xor(m, n):\n",
    "    m = int(m, 2)\n",
    "    n = int(n, 2)\n",
    "    return polinomio(m ^ n)"
   ]
  },
  {
   "cell_type": "code",
   "execution_count": 97,
   "id": "0708df31",
   "metadata": {},
   "outputs": [],
   "source": [
    "def divisible(m, n):\n",
    "    m = polinomio(m)\n",
    "    n = polinomio(n)\n",
    "    \n",
    "    gradom = grado(m)\n",
    "    gradon = grado(n)\n",
    "    \n",
    "    while gradom >= gradon:\n",
    "        dif = gradom - gradon\n",
    "        m = xor(shift(n, dif), m)\n",
    "        gradom = grado(m)\n",
    "        \n",
    "    return int(m, 2) == 0"
   ]
  },
  {
   "cell_type": "code",
   "execution_count": 98,
   "id": "f782168e",
   "metadata": {},
   "outputs": [],
   "source": [
    "def irreductible_polynomials():\n",
    "    irreductibles = []\n",
    "    for i in range(2, 512):\n",
    "        if len(irreductibles) == 0:\n",
    "            irreductibles.append(i)\n",
    "        else:\n",
    "            primo = True\n",
    "            for j in irreductibles:\n",
    "                primo = not divisible(i, j)\n",
    "                if not primo:\n",
    "                    break\n",
    "            if primo:\n",
    "                irreductibles.append(i)\n",
    "    return irreductibles"
   ]
  },
  {
   "cell_type": "code",
   "execution_count": 99,
   "id": "7c583daf",
   "metadata": {},
   "outputs": [],
   "source": [
    "def grados(n):\n",
    "    grados = []\n",
    "    for index, element in enumerate(n):\n",
    "        if element == \"1\":\n",
    "            grados.append(15 - index)\n",
    "    return grados"
   ]
  },
  {
   "cell_type": "code",
   "execution_count": 100,
   "id": "86d3ebb2",
   "metadata": {},
   "outputs": [],
   "source": [
    "def division(m, n):\n",
    "    gradom = grado(m)\n",
    "    gradon = grado(n)\n",
    "    \n",
    "    while gradom >= gradon:\n",
    "        dif = gradom - gradon\n",
    "        m = xor(shift(n, dif), m)\n",
    "        gradom = grado(m)\n",
    "        \n",
    "    return m"
   ]
  },
  {
   "cell_type": "code",
   "execution_count": 101,
   "id": "9443203c",
   "metadata": {},
   "outputs": [],
   "source": [
    "def GF_product_p(a, b):\n",
    "    a = polinomio(a)\n",
    "    b = polinomio(b)\n",
    "    gradosl = grados(b)\n",
    "    polinomiosl = []\n",
    "    for grado in gradosl:\n",
    "        if grado == 0:\n",
    "            polinomiosl.append(a)\n",
    "        else:\n",
    "            polinomiosl.append(shift(a, grado))\n",
    "    \n",
    "    result = None\n",
    "    for i in polinomiosl:\n",
    "        if result is None:\n",
    "            result = i\n",
    "        else:\n",
    "            result = xor(result, i)\n",
    "    \n",
    "    if result is None:\n",
    "        return 0\n",
    "    \n",
    "    else:\n",
    "        result = division(result, irreductible)\n",
    "        return int(result, 2)"
   ]
  },
  {
   "cell_type": "code",
   "execution_count": 102,
   "id": "28d268f3",
   "metadata": {},
   "outputs": [],
   "source": [
    "def GF_es_generador(a):\n",
    "    tabla = set()\n",
    "    tabla.add(1)\n",
    "    anterior = 1\n",
    "    for i in range(1, 255):\n",
    "        anterior = GF_product_p(anterior, a)\n",
    "        tabla.add(anterior)\n",
    "    else:\n",
    "        return len(tabla) == 255"
   ]
  },
  {
   "cell_type": "code",
   "execution_count": 103,
   "id": "5f27696c",
   "metadata": {},
   "outputs": [],
   "source": [
    "generadores = []\n",
    "for i in range(2, 255):\n",
    "    if GF_es_generador(i):\n",
    "        generadores.append(i)"
   ]
  },
  {
   "cell_type": "code",
   "execution_count": 104,
   "id": "d3cb34ad",
   "metadata": {},
   "outputs": [],
   "source": [
    "def GF_tables():\n",
    "    exponencial = [1] * 255\n",
    "    logaritmica = [0] * 256\n",
    "    for i in range(1, 255):\n",
    "        result = GF_product_p(exponencial[i - 1], 6)\n",
    "        logaritmica[result] = i\n",
    "        exponencial[i] = result"
   ]
  },
  {
   "cell_type": "code",
   "execution_count": 105,
   "id": "6c13bd95",
   "metadata": {},
   "outputs": [],
   "source": [
    "def potencia(a, e):\n",
    "    result = 1\n",
    "    for i in range(0, e):\n",
    "        result = GF_product_p(result, a)\n",
    "    return result\n"
   ]
  },
  {
   "cell_type": "code",
   "execution_count": 106,
   "id": "19c5f04a",
   "metadata": {},
   "outputs": [],
   "source": [
    "def GF_product_t(a, b):\n",
    "    if a == 0 or b == 0:\n",
    "        return 0\n",
    "    exponente1 = logaritmica[a]\n",
    "    exponente2 = logaritmica[b]\n",
    "    exponenteT = (exponente1 + exponente2) % 255\n",
    "    return exponencial[exponenteT]"
   ]
  },
  {
   "cell_type": "code",
   "execution_count": 107,
   "id": "332f4ec7",
   "metadata": {},
   "outputs": [],
   "source": [
    "def GF_invers(a):\n",
    "    exponente = logaritmica[a]\n",
    "    return exponencial[255 - exponente]"
   ]
  },
  {
   "cell_type": "markdown",
   "id": "d2330ca6",
   "metadata": {},
   "source": [
    "# Comprobaciones"
   ]
  },
  {
   "cell_type": "markdown",
   "id": "d178e708",
   "metadata": {},
   "source": [
    "## Multiplicacion Polinomica"
   ]
  },
  {
   "cell_type": "code",
   "execution_count": 59,
   "id": "75362442",
   "metadata": {},
   "outputs": [
    {
     "name": "stdout",
     "output_type": "stream",
     "text": [
      "True\n"
     ]
    }
   ],
   "source": [
    "bien = True\n",
    "for i in range(0, 255):\n",
    "    for j in range(0, 255):\n",
    "        bien = GF_product_p(i, j) == GF_product_p(j, i)\n",
    "        if not bien:\n",
    "            break\n",
    "    if not bien:\n",
    "        break\n",
    "print(bien)"
   ]
  },
  {
   "cell_type": "markdown",
   "id": "b25f5bf1",
   "metadata": {},
   "source": [
    "## Multiplicaciones Tablas"
   ]
  },
  {
   "cell_type": "code",
   "execution_count": 108,
   "id": "e6df2e34",
   "metadata": {},
   "outputs": [
    {
     "name": "stdout",
     "output_type": "stream",
     "text": [
      "True\n"
     ]
    }
   ],
   "source": [
    "global exponencial\n",
    "global logaritmica\n",
    "\n",
    "GF_tables()\n",
    "\n",
    "bien = True\n",
    "for i in range(0, 255):\n",
    "    for j in range(0, 255):\n",
    "        bien = GF_product_t(i, j) == GF_product_t(j, i)\n",
    "        if not bien:\n",
    "            break\n",
    "    if not bien:\n",
    "        break\n",
    "print(bien)"
   ]
  },
  {
   "cell_type": "markdown",
   "id": "b653d6d2",
   "metadata": {},
   "source": [
    "## Producto por su inverso"
   ]
  },
  {
   "cell_type": "code",
   "execution_count": 111,
   "id": "b8df8702",
   "metadata": {},
   "outputs": [
    {
     "name": "stdout",
     "output_type": "stream",
     "text": [
      "1\n"
     ]
    },
    {
     "ename": "IndexError",
     "evalue": "list index out of range",
     "output_type": "error",
     "traceback": [
      "\u001b[0;31m---------------------------------------------------------------------------\u001b[0m",
      "\u001b[0;31mIndexError\u001b[0m                                Traceback (most recent call last)",
      "Cell \u001b[0;32mIn [111], line 9\u001b[0m\n\u001b[1;32m      7\u001b[0m \u001b[38;5;28;01mfor\u001b[39;00m i \u001b[38;5;129;01min\u001b[39;00m \u001b[38;5;28mrange\u001b[39m(\u001b[38;5;241m1\u001b[39m, \u001b[38;5;241m255\u001b[39m):\n\u001b[1;32m      8\u001b[0m     \u001b[38;5;28mprint\u001b[39m(i)\n\u001b[0;32m----> 9\u001b[0m     bien \u001b[38;5;241m=\u001b[39m GF_product_t(i, \u001b[43mGF_invers\u001b[49m\u001b[43m(\u001b[49m\u001b[43mi\u001b[49m\u001b[43m)\u001b[49m) \u001b[38;5;241m==\u001b[39m \u001b[38;5;241m1\u001b[39m\n\u001b[1;32m     10\u001b[0m     \u001b[38;5;28;01mif\u001b[39;00m \u001b[38;5;129;01mnot\u001b[39;00m bien:\n\u001b[1;32m     11\u001b[0m         \u001b[38;5;28;01mbreak\u001b[39;00m\n",
      "Cell \u001b[0;32mIn [107], line 3\u001b[0m, in \u001b[0;36mGF_invers\u001b[0;34m(a)\u001b[0m\n\u001b[1;32m      1\u001b[0m \u001b[38;5;28;01mdef\u001b[39;00m \u001b[38;5;21mGF_invers\u001b[39m(a):\n\u001b[1;32m      2\u001b[0m     exponente \u001b[38;5;241m=\u001b[39m logaritmica[a]\n\u001b[0;32m----> 3\u001b[0m     \u001b[38;5;28;01mreturn\u001b[39;00m \u001b[43mexponencial\u001b[49m\u001b[43m[\u001b[49m\u001b[38;5;241;43m255\u001b[39;49m\u001b[43m \u001b[49m\u001b[38;5;241;43m-\u001b[39;49m\u001b[43m \u001b[49m\u001b[43mexponente\u001b[49m\u001b[43m]\u001b[49m\n",
      "\u001b[0;31mIndexError\u001b[0m: list index out of range"
     ]
    }
   ],
   "source": [
    "global exponencial\n",
    "global logaritmica\n",
    "\n",
    "GF_tables()\n",
    "\n",
    "bien = True\n",
    "for i in range(1, 255):\n",
    "    print(i)\n",
    "    bien = GF_product_t(i, GF_invers(i)) == 1\n",
    "    if not bien:\n",
    "        break\n",
    "print(bien)"
   ]
  },
  {
   "cell_type": "markdown",
   "id": "6454b436",
   "metadata": {},
   "source": [
    "# Pruebas"
   ]
  },
  {
   "cell_type": "code",
   "execution_count": null,
   "id": "282bbf57",
   "metadata": {},
   "outputs": [],
   "source": []
  },
  {
   "cell_type": "code",
   "execution_count": 19,
   "id": "ce418582",
   "metadata": {},
   "outputs": [
    {
     "name": "stdout",
     "output_type": "stream",
     "text": [
      "Insertar numero entero: 12\n",
      "0xc\n",
      "0x4c\n",
      "0x8e\n",
      "0x8e\n",
      "0x8e\n",
      "\n",
      "Tiempo producto p(a,0x02) = 0.00010674500026652822 resultado -> 24\n",
      "Tiempo producto t(a,0x02) = 8.947900005296106e-05 resultado -> 24\n",
      "\n",
      "Tiempo producto p(a,0x03) = 0.00010543200005486142 resultado -> 20\n",
      "Tiempo producto t(a,0x03) = 9.05719998627319e-05 resultado -> 20\n",
      "\n",
      "Tiempo producto p(a,0x09) = 0.00010599300003377721 resultado -> 108\n",
      "Tiempo producto t(a,0x09) = 8.732500009500654e-05 resultado -> 108\n",
      "\n",
      "Tiempo producto p(a,0x0B) = 0.00010744599967438262 resultado -> 116\n",
      "Tiempo producto t(a,0x0B) = 8.512100021107472e-05 resultado -> 116\n",
      "\n",
      "Tiempo producto p(a,0x0D) = 0.00010479100001248298 resultado -> 92\n",
      "Tiempo producto t(a,0x0D) = 8.561200002077385e-05 resultado -> 92\n",
      "\n",
      "Tiempo producto p(a,0x0E) = 0.00018907999992734403 resultado -> 72\n",
      "Tiempo producto t(a,0x0E) = 8.699500040165731e-05 resultado -> 72\n"
     ]
    }
   ],
   "source": [
    "a = int(input(\"Insertar numero entero: \"))\n",
    "print(hex(a))\n",
    "print(hex(GF_invers(a)))\n",
    "\n",
    "print(hex(GF_product_p(0x02, 0x47)))\n",
    "print(hex(GF_product_t(0x02, 0x47)))\n",
    "print(hex(GF_product_p(0x47, 0x02)))\n",
    "\n",
    "print()\n",
    "\n",
    "inicio = timeit.default_timer()\n",
    "resultado= GF_product_p(a,0x02)\n",
    "final = timeit.default_timer()\n",
    "print(\"Tiempo producto p(a,0x02) = \" + str(final - inicio) + \" resultado -> \" + str(resultado))\n",
    "\n",
    "inicio = timeit.default_timer()\n",
    "resultado= GF_product_t(a,0x02)\n",
    "final = timeit.default_timer()\n",
    "print(\"Tiempo producto t(a,0x02) = \" + str(final - inicio) + \" resultado -> \" + str(resultado))\n",
    "\n",
    "print()\n",
    "\n",
    "inicio = timeit.default_timer()\n",
    "resultado= GF_product_p(a,0x03)\n",
    "final = timeit.default_timer()\n",
    "print(\"Tiempo producto p(a,0x03) = \" + str(final - inicio) + \" resultado -> \" + str(resultado))\n",
    "\n",
    "inicio = timeit.default_timer()\n",
    "resultado= GF_product_t(a,0x03)\n",
    "final = timeit.default_timer()\n",
    "print(\"Tiempo producto t(a,0x03) = \" + str(final - inicio) + \" resultado -> \" + str(resultado))\n",
    "\n",
    "print()\n",
    "\n",
    "inicio = timeit.default_timer()\n",
    "resultado= GF_product_p(a,0x09)\n",
    "final = timeit.default_timer()\n",
    "print(\"Tiempo producto p(a,0x09) = \" + str(final - inicio) + \" resultado -> \" + str(resultado))\n",
    "\n",
    "inicio = timeit.default_timer()\n",
    "resultado= GF_product_t(a,0x09)\n",
    "final = timeit.default_timer()\n",
    "print(\"Tiempo producto t(a,0x09) = \" + str(final - inicio) + \" resultado -> \" + str(resultado))\n",
    "\n",
    "print()\n",
    "\n",
    "inicio = timeit.default_timer()\n",
    "resultado= GF_product_p(a,0x0B)\n",
    "final = timeit.default_timer()\n",
    "print(\"Tiempo producto p(a,0x0B) = \" + str(final - inicio) + \" resultado -> \" + str(resultado))\n",
    "\n",
    "inicio = timeit.default_timer()\n",
    "resultado= GF_product_t(a,0x0B)\n",
    "final = timeit.default_timer()\n",
    "print(\"Tiempo producto t(a,0x0B) = \" + str(final - inicio) + \" resultado -> \" + str(resultado))\n",
    "\n",
    "print()\n",
    "\n",
    "inicio = timeit.default_timer()\n",
    "resultado= GF_product_p(a,0x0D)\n",
    "final = timeit.default_timer()\n",
    "print(\"Tiempo producto p(a,0x0D) = \" + str(final - inicio) + \" resultado -> \" + str(resultado))\n",
    "\n",
    "inicio = timeit.default_timer()\n",
    "resultado= GF_product_t(a,0x0D)\n",
    "final = timeit.default_timer()\n",
    "print(\"Tiempo producto t(a,0x0D) = \" + str(final - inicio) + \" resultado -> \" + str(resultado))\n",
    "\n",
    "print()\n",
    "\n",
    "inicio = timeit.default_timer()\n",
    "resultado= GF_product_p(a,0x0E)\n",
    "final = timeit.default_timer()\n",
    "print(\"Tiempo producto p(a,0x0E) = \" + str(final - inicio) + \" resultado -> \" + str(resultado))\n",
    "\n",
    "inicio = timeit.default_timer()\n",
    "resultado= GF_product_t(a,0x0E)\n",
    "final = timeit.default_timer()\n",
    "print(\"Tiempo producto t(a,0x0E) = \" + str(final - inicio) + \" resultado -> \" + str(resultado))"
   ]
  }
 ],
 "metadata": {
  "kernelspec": {
   "display_name": "Python 3 (ipykernel)",
   "language": "python",
   "name": "python3"
  },
  "language_info": {
   "codemirror_mode": {
    "name": "ipython",
    "version": 3
   },
   "file_extension": ".py",
   "mimetype": "text/x-python",
   "name": "python",
   "nbconvert_exporter": "python",
   "pygments_lexer": "ipython3",
   "version": "3.10.6"
  }
 },
 "nbformat": 4,
 "nbformat_minor": 5
}
