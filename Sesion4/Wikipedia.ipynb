{
 "cells": [
  {
   "cell_type": "markdown",
   "id": "563bb33a",
   "metadata": {},
   "source": [
    "# Clave pública"
   ]
  },
  {
   "cell_type": "code",
   "execution_count": 99,
   "id": "9328ce4a",
   "metadata": {},
   "outputs": [
    {
     "data": {
      "text/plain": [
       "130"
      ]
     },
     "execution_count": 99,
     "metadata": {},
     "output_type": "execute_result"
    }
   ],
   "source": [
    "raw = '041ba73b45d7d1948351b92073aef3fb77af348815ae9edbe6a29d98d5d7d3de1165dd7b1fb40ee534c0fba27def07cdfa64ae45522ddd4c4338a169f4606cac09'\n",
    "len(raw)"
   ]
  },
  {
   "cell_type": "code",
   "execution_count": 100,
   "id": "5ee6c3cc",
   "metadata": {},
   "outputs": [
    {
     "data": {
      "text/plain": [
       "'04'"
      ]
     },
     "execution_count": 100,
     "metadata": {},
     "output_type": "execute_result"
    }
   ],
   "source": [
    "cabecera = raw[0:2]\n",
    "cabecera"
   ]
  },
  {
   "cell_type": "code",
   "execution_count": 101,
   "id": "311d35e1",
   "metadata": {},
   "outputs": [],
   "source": [
    "raw2 = raw[2:]\n",
    "mitad = len(raw2)//2"
   ]
  },
  {
   "cell_type": "code",
   "execution_count": 102,
   "id": "c623f17d",
   "metadata": {},
   "outputs": [],
   "source": [
    "Qx = int(raw2[:mitad], 16)\n",
    "Qy = int(raw2[mitad:], 16)"
   ]
  },
  {
   "cell_type": "markdown",
   "id": "580cc84d",
   "metadata": {},
   "source": [
    "# Datos de la curva"
   ]
  },
  {
   "cell_type": "markdown",
   "id": "546a65cb",
   "metadata": {},
   "source": [
    "Signature Algorithm: ecdsa_secp256r1_sha256"
   ]
  },
  {
   "cell_type": "markdown",
   "id": "0150d626",
   "metadata": {},
   "source": [
    "## Datos de la curva 256 del documento"
   ]
  },
  {
   "cell_type": "code",
   "execution_count": 103,
   "id": "8eb615e3",
   "metadata": {},
   "outputs": [],
   "source": [
    "p = 115792089210356248762697446949407573530086143415290314195533631308867097853951\n",
    "n = 115792089210356248762697446949407573529996955224135760342422259061068512044369\n",
    "a = -3\n",
    "b = 0x5ac635d8aa3a93e7b3ebbd55769886bc651d06b0cc53b0f63bce3c3e27d2604b\n",
    "Gx = 0x6b17d1f2e12c4247f8bce6e563a440f277037d812deb33a0f4a13945d898c296\n",
    "Gy = 0x4fe342e2fe1a7f9b8ee7eb4a7c0f9e162bce33576b315ececbb6406837bf51f5"
   ]
  },
  {
   "cell_type": "markdown",
   "id": "35561744",
   "metadata": {},
   "source": [
    "## Firma"
   ]
  },
  {
   "cell_type": "code",
   "execution_count": 104,
   "id": "4debee29",
   "metadata": {},
   "outputs": [],
   "source": [
    "raw = '3046022100914009da3d6ed684b32c63afe9c02eef32baa9ea6555ac50fad395bade9b5ae8022100cfeffb57304c724b15ab4fea764df1223f661846cb69df1e69f2fb7c9d992699'"
   ]
  },
  {
   "cell_type": "markdown",
   "id": "7142b4af",
   "metadata": {},
   "source": [
    "### Extraer cabecera"
   ]
  },
  {
   "cell_type": "code",
   "execution_count": 105,
   "id": "bf2ff3a4",
   "metadata": {},
   "outputs": [
    {
     "name": "stdout",
     "output_type": "stream",
     "text": [
      "30\n",
      "46022100914009da3d6ed684b32c63afe9c02eef32baa9ea6555ac50fad395bade9b5ae8022100cfeffb57304c724b15ab4fea764df1223f661846cb69df1e69f2fb7c9d992699\n"
     ]
    }
   ],
   "source": [
    "print(raw[0:2])\n",
    "raw = raw[2:]\n",
    "print(raw)"
   ]
  },
  {
   "cell_type": "markdown",
   "id": "d302fd8d",
   "metadata": {},
   "source": [
    "### Comprobar longiutd de la cadena"
   ]
  },
  {
   "cell_type": "code",
   "execution_count": 106,
   "id": "4d38cf8a",
   "metadata": {},
   "outputs": [
    {
     "data": {
      "text/plain": [
       "True"
      ]
     },
     "execution_count": 106,
     "metadata": {},
     "output_type": "execute_result"
    }
   ],
   "source": [
    "longitud = raw[:2]\n",
    "raw = raw[2:]\n",
    "len(raw)//2 == int(longitud, 16)"
   ]
  },
  {
   "cell_type": "markdown",
   "id": "56471dc8",
   "metadata": {},
   "source": [
    "### Obtener f1"
   ]
  },
  {
   "cell_type": "code",
   "execution_count": 107,
   "id": "cfe7152c",
   "metadata": {},
   "outputs": [
    {
     "name": "stdout",
     "output_type": "stream",
     "text": [
      "02\n"
     ]
    }
   ],
   "source": [
    "print(raw[:2])\n",
    "raw = raw[2:]"
   ]
  },
  {
   "cell_type": "code",
   "execution_count": 108,
   "id": "897801b0",
   "metadata": {},
   "outputs": [
    {
     "name": "stdout",
     "output_type": "stream",
     "text": [
      "33\n"
     ]
    }
   ],
   "source": [
    "longitud = int(raw[:2], 16)\n",
    "raw = raw[2:]\n",
    "print(longitud)"
   ]
  },
  {
   "cell_type": "code",
   "execution_count": 109,
   "id": "590a0f92",
   "metadata": {},
   "outputs": [
    {
     "data": {
      "text/plain": [
       "66"
      ]
     },
     "execution_count": 109,
     "metadata": {},
     "output_type": "execute_result"
    }
   ],
   "source": [
    "f1 = raw[:longitud*2]\n",
    "len(f1)"
   ]
  },
  {
   "cell_type": "code",
   "execution_count": 110,
   "id": "85036605",
   "metadata": {},
   "outputs": [
    {
     "data": {
      "text/plain": [
       "'00914009da3d6ed684b32c63afe9c02eef32baa9ea6555ac50fad395bade9b5ae8'"
      ]
     },
     "execution_count": 110,
     "metadata": {},
     "output_type": "execute_result"
    }
   ],
   "source": [
    "f1"
   ]
  },
  {
   "cell_type": "code",
   "execution_count": 111,
   "id": "866379d1",
   "metadata": {},
   "outputs": [],
   "source": [
    "raw = raw[longitud*2:]"
   ]
  },
  {
   "cell_type": "markdown",
   "id": "a6851d53",
   "metadata": {},
   "source": [
    "### Obtener f2"
   ]
  },
  {
   "cell_type": "code",
   "execution_count": 112,
   "id": "e370c021",
   "metadata": {},
   "outputs": [
    {
     "name": "stdout",
     "output_type": "stream",
     "text": [
      "02\n"
     ]
    }
   ],
   "source": [
    "print(raw[:2])\n",
    "raw = raw[2:]"
   ]
  },
  {
   "cell_type": "code",
   "execution_count": 113,
   "id": "ec3c8ae7",
   "metadata": {},
   "outputs": [
    {
     "name": "stdout",
     "output_type": "stream",
     "text": [
      "33\n"
     ]
    }
   ],
   "source": [
    "longitud = int(raw[:2], 16)\n",
    "raw = raw[2:]\n",
    "print(longitud)"
   ]
  },
  {
   "cell_type": "code",
   "execution_count": 114,
   "id": "7e032d85",
   "metadata": {},
   "outputs": [
    {
     "data": {
      "text/plain": [
       "66"
      ]
     },
     "execution_count": 114,
     "metadata": {},
     "output_type": "execute_result"
    }
   ],
   "source": [
    "f2 = raw[:longitud*2]\n",
    "len(f2)"
   ]
  },
  {
   "cell_type": "code",
   "execution_count": 115,
   "id": "dacb7ddd",
   "metadata": {},
   "outputs": [
    {
     "data": {
      "text/plain": [
       "'00cfeffb57304c724b15ab4fea764df1223f661846cb69df1e69f2fb7c9d992699'"
      ]
     },
     "execution_count": 115,
     "metadata": {},
     "output_type": "execute_result"
    }
   ],
   "source": [
    "f2"
   ]
  },
  {
   "cell_type": "code",
   "execution_count": 116,
   "id": "5dd783aa",
   "metadata": {},
   "outputs": [],
   "source": [
    "raw = raw[longitud*2:]"
   ]
  },
  {
   "cell_type": "markdown",
   "id": "f2c9a1cf",
   "metadata": {},
   "source": [
    "### Raw deberia estar vacia"
   ]
  },
  {
   "cell_type": "code",
   "execution_count": 117,
   "id": "0be978be",
   "metadata": {},
   "outputs": [
    {
     "data": {
      "text/plain": [
       "''"
      ]
     },
     "execution_count": 117,
     "metadata": {},
     "output_type": "execute_result"
    }
   ],
   "source": [
    "raw"
   ]
  },
  {
   "cell_type": "markdown",
   "id": "67d4e743",
   "metadata": {},
   "source": [
    "# Mensaje firmado"
   ]
  },
  {
   "cell_type": "markdown",
   "id": "613187ea",
   "metadata": {},
   "source": [
    "## Preambulo"
   ]
  },
  {
   "cell_type": "code",
   "execution_count": 118,
   "id": "6e87890f",
   "metadata": {},
   "outputs": [
    {
     "data": {
      "text/plain": [
       "'20202020202020202020202020202020202020202020202020202020202020202020202020202020202020202020202020202020202020202020202020202020'"
      ]
     },
     "execution_count": 118,
     "metadata": {},
     "output_type": "execute_result"
    }
   ],
   "source": [
    "primero = '20' * 64\n",
    "primero"
   ]
  },
  {
   "cell_type": "code",
   "execution_count": 119,
   "id": "1dfe80a2",
   "metadata": {},
   "outputs": [
    {
     "data": {
      "text/plain": [
       "'544c5320312e332c20736572766572204365727469666963617465566572696679'"
      ]
     },
     "execution_count": 119,
     "metadata": {},
     "output_type": "execute_result"
    }
   ],
   "source": [
    "frase = 'TLS 1.3, server CertificateVerify'\n",
    "segundo = ''\n",
    "for letra in frase:\n",
    "    numero = hex(ord(letra))[2:]\n",
    "    numero = '0'*(2 - len(numero)) + numero\n",
    "    segundo += numero\n",
    "segundo"
   ]
  },
  {
   "cell_type": "code",
   "execution_count": 120,
   "id": "a7c5b7ca",
   "metadata": {},
   "outputs": [],
   "source": [
    "tercero = '00'"
   ]
  },
  {
   "cell_type": "code",
   "execution_count": 121,
   "id": "e3c55ded",
   "metadata": {},
   "outputs": [
    {
     "data": {
      "text/plain": [
       "'20202020202020202020202020202020202020202020202020202020202020202020202020202020202020202020202020202020202020202020202020202020544c5320312e332c2073657276657220436572746966696361746556657269667900'"
      ]
     },
     "execution_count": 121,
     "metadata": {},
     "output_type": "execute_result"
    }
   ],
   "source": [
    "preambulo = primero + segundo + tercero\n",
    "preambulo"
   ]
  },
  {
   "cell_type": "markdown",
   "id": "39692b97",
   "metadata": {},
   "source": [
    "## Mensaje firmado"
   ]
  },
  {
   "cell_type": "code",
   "execution_count": 122,
   "id": "54906d86",
   "metadata": {},
   "outputs": [],
   "source": [
    "with open('./Wikipedia/mensaje.bin', 'rb') as f:\n",
    "    mensaje = f.read()"
   ]
  },
  {
   "cell_type": "code",
   "execution_count": 123,
   "id": "812be88b",
   "metadata": {},
   "outputs": [],
   "source": [
    "from Crypto.Hash import SHA384\n",
    "h = SHA384.new()\n",
    "h.update(mensaje)\n",
    "mensaje384 = h.hexdigest()"
   ]
  },
  {
   "cell_type": "code",
   "execution_count": 124,
   "id": "395cae79",
   "metadata": {},
   "outputs": [
    {
     "data": {
      "text/plain": [
       "'34d37fd950b10f7fcc91eccf527459627d8c69b1ce6915ab5f7c460e1e7ce00359eb46c27274fe83f7fb07b2e8f583dc'"
      ]
     },
     "execution_count": 124,
     "metadata": {},
     "output_type": "execute_result"
    }
   ],
   "source": [
    "mensaje384"
   ]
  },
  {
   "cell_type": "code",
   "execution_count": 125,
   "id": "0791324e",
   "metadata": {},
   "outputs": [],
   "source": [
    "from Crypto.Hash import SHA256\n",
    "h = SHA256.new()\n",
    "h.update((preambulo + mensaje384).encode())\n",
    "m = h.hexdigest()"
   ]
  },
  {
   "cell_type": "code",
   "execution_count": 126,
   "id": "debc1b51",
   "metadata": {},
   "outputs": [
    {
     "data": {
      "text/plain": [
       "'570342f7cdc72d31cc34d2b459e35070a817cb5c472c9d0e4ce208def302d178'"
      ]
     },
     "execution_count": 126,
     "metadata": {},
     "output_type": "execute_result"
    }
   ],
   "source": [
    "m"
   ]
  },
  {
   "cell_type": "markdown",
   "id": "bb258074",
   "metadata": {},
   "source": [
    "# Verificacion firma"
   ]
  },
  {
   "cell_type": "markdown",
   "id": "f24f853b",
   "metadata": {},
   "source": [
    "## Calculo pesos"
   ]
  },
  {
   "cell_type": "code",
   "execution_count": 129,
   "id": "92ef01ff",
   "metadata": {},
   "outputs": [
    {
     "data": {
      "text/plain": [
       "68418182177657162295548549195812790816093669873385508137672486405183595270022"
      ]
     },
     "execution_count": 129,
     "metadata": {},
     "output_type": "execute_result"
    }
   ],
   "source": [
    "w1 = (int(m, 16) * pow(int(f2, 16), -1, n)) % n\n",
    "w1"
   ]
  },
  {
   "cell_type": "code",
   "execution_count": 130,
   "id": "a3a6f0bd",
   "metadata": {},
   "outputs": [
    {
     "data": {
      "text/plain": [
       "89067318584195525323085404731611433077958851466746282182737511975670725719832"
      ]
     },
     "execution_count": 130,
     "metadata": {},
     "output_type": "execute_result"
    }
   ],
   "source": [
    "w2 = (int(f1, 16) * pow(int(f2, 16), -1, n)) % n\n",
    "w2"
   ]
  },
  {
   "cell_type": "markdown",
   "id": "bd55fb39",
   "metadata": {},
   "source": [
    "## Creacion curva y puntos"
   ]
  },
  {
   "cell_type": "code",
   "execution_count": 131,
   "id": "d4fe9976",
   "metadata": {},
   "outputs": [],
   "source": [
    "from Crypto.PublicKey.ECC import *\n",
    "curva = 'p256'"
   ]
  },
  {
   "cell_type": "code",
   "execution_count": 132,
   "id": "22980273",
   "metadata": {},
   "outputs": [],
   "source": [
    "G = EccPoint(Gx, Gy, curve=curva)\n",
    "Q = EccPoint(Qx, Qy, curve=curva)"
   ]
  },
  {
   "cell_type": "markdown",
   "id": "5bba7256",
   "metadata": {},
   "source": [
    "## Calculos en la curva"
   ]
  },
  {
   "cell_type": "code",
   "execution_count": 133,
   "id": "cbb1e520",
   "metadata": {},
   "outputs": [],
   "source": [
    "E = w1 * G + w2 * Q"
   ]
  },
  {
   "cell_type": "code",
   "execution_count": 134,
   "id": "6c8e949f",
   "metadata": {},
   "outputs": [],
   "source": [
    "x0, y0 = E.x, E.y"
   ]
  },
  {
   "cell_type": "code",
   "execution_count": 136,
   "id": "20711e63",
   "metadata": {},
   "outputs": [],
   "source": [
    "comprobacion = int(f1, 16) % n"
   ]
  },
  {
   "cell_type": "code",
   "execution_count": 137,
   "id": "12b66d9e",
   "metadata": {},
   "outputs": [
    {
     "data": {
      "text/plain": [
       "False"
      ]
     },
     "execution_count": 137,
     "metadata": {},
     "output_type": "execute_result"
    }
   ],
   "source": [
    "comprobacion == x0"
   ]
  },
  {
   "cell_type": "code",
   "execution_count": 138,
   "id": "b0cb203c",
   "metadata": {},
   "outputs": [
    {
     "data": {
      "text/plain": [
       "Integer(7788894992874896690883675213399901128045469013709283178582614051176394101900)"
      ]
     },
     "execution_count": 138,
     "metadata": {},
     "output_type": "execute_result"
    }
   ],
   "source": [
    "E.x"
   ]
  },
  {
   "cell_type": "code",
   "execution_count": 140,
   "id": "f7bccdff",
   "metadata": {},
   "outputs": [
    {
     "data": {
      "text/plain": [
       "65698509256174583349959437356701870316724411153934220427135920273881720117992"
      ]
     },
     "execution_count": 140,
     "metadata": {},
     "output_type": "execute_result"
    }
   ],
   "source": [
    "comprobacion"
   ]
  },
  {
   "cell_type": "code",
   "execution_count": null,
   "id": "dc39d477",
   "metadata": {},
   "outputs": [],
   "source": []
  }
 ],
 "metadata": {
  "kernelspec": {
   "display_name": "Python 3 (ipykernel)",
   "language": "python",
   "name": "python3"
  },
  "language_info": {
   "codemirror_mode": {
    "name": "ipython",
    "version": 3
   },
   "file_extension": ".py",
   "mimetype": "text/x-python",
   "name": "python",
   "nbconvert_exporter": "python",
   "pygments_lexer": "ipython3",
   "version": "3.8.10"
  }
 },
 "nbformat": 4,
 "nbformat_minor": 5
}
