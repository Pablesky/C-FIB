{
 "cells": [
  {
   "cell_type": "code",
   "execution_count": 16,
   "id": "28df08ee",
   "metadata": {},
   "outputs": [],
   "source": [
    "public_key = '041ba73b45d7d1948351b92073aef3fb77af348815ae9edbe6a29d98d5d7d3de1165dd7b1fb40ee534c0fba27def07cdfa64ae45522ddd4c4338a169f4606cac09'"
   ]
  },
  {
   "cell_type": "code",
   "execution_count": 17,
   "id": "c2d5893c",
   "metadata": {},
   "outputs": [
    {
     "data": {
      "text/plain": [
       "'1ba73b45d7d1948351b92073aef3fb77af348815ae9edbe6a29d98d5d7d3de1165dd7b1fb40ee534c0fba27def07cdfa64ae45522ddd4c4338a169f4606cac09'"
      ]
     },
     "execution_count": 17,
     "metadata": {},
     "output_type": "execute_result"
    }
   ],
   "source": [
    "public_key = public_key[2:]\n",
    "public_key"
   ]
  },
  {
   "cell_type": "code",
   "execution_count": 18,
   "id": "ca4b5efa",
   "metadata": {},
   "outputs": [
    {
     "data": {
      "text/plain": [
       "64"
      ]
     },
     "execution_count": 18,
     "metadata": {},
     "output_type": "execute_result"
    }
   ],
   "source": [
    "len(public_key)\n",
    "mitad = len(public_key)//2\n",
    "mitad"
   ]
  },
  {
   "cell_type": "code",
   "execution_count": 19,
   "id": "a5c7f0b6",
   "metadata": {},
   "outputs": [],
   "source": [
    "Qx = public_key[:mitad]\n",
    "Qy = public_key[mitad:]"
   ]
  },
  {
   "cell_type": "code",
   "execution_count": 20,
   "id": "def5698b",
   "metadata": {},
   "outputs": [
    {
     "data": {
      "text/plain": [
       "True"
      ]
     },
     "execution_count": 20,
     "metadata": {},
     "output_type": "execute_result"
    }
   ],
   "source": [
    "public_key == Qx+Qy"
   ]
  },
  {
   "cell_type": "code",
   "execution_count": 21,
   "id": "8a1f91ed",
   "metadata": {},
   "outputs": [],
   "source": [
    "sign_alg = 'ecdsa_secp256r1_sha256'"
   ]
  },
  {
   "cell_type": "code",
   "execution_count": 22,
   "id": "f5eb4848",
   "metadata": {},
   "outputs": [],
   "source": [
    "signature = '3046022100914009da3d6ed684b32c63afe9c02eef32baa9ea6555ac50fad395bade9b5ae8022100cfeffb57304c724b15ab4fea764df1223f661846cb69df1e69f2fb7c9d992699'"
   ]
  },
  {
   "cell_type": "code",
   "execution_count": 23,
   "id": "e6003fac",
   "metadata": {},
   "outputs": [
    {
     "data": {
      "text/plain": [
       "'30'"
      ]
     },
     "execution_count": 23,
     "metadata": {},
     "output_type": "execute_result"
    }
   ],
   "source": [
    "secuencia_de_objectos = signature[0:2]\n",
    "signature = signature[2:]\n",
    "secuencia_de_objectos"
   ]
  },
  {
   "cell_type": "code",
   "execution_count": 24,
   "id": "f888227c",
   "metadata": {},
   "outputs": [
    {
     "data": {
      "text/plain": [
       "'46'"
      ]
     },
     "execution_count": 24,
     "metadata": {},
     "output_type": "execute_result"
    }
   ],
   "source": [
    "longitud = signature[:2]\n",
    "signature = signature[2:]\n",
    "longitud"
   ]
  },
  {
   "cell_type": "code",
   "execution_count": 25,
   "id": "a76412e0",
   "metadata": {},
   "outputs": [
    {
     "data": {
      "text/plain": [
       "'02'"
      ]
     },
     "execution_count": 25,
     "metadata": {},
     "output_type": "execute_result"
    }
   ],
   "source": [
    "comprobacion = signature[:2]\n",
    "signature = signature[2:]\n",
    "comprobacion"
   ]
  },
  {
   "cell_type": "code",
   "execution_count": 26,
   "id": "1f280c9d",
   "metadata": {},
   "outputs": [
    {
     "data": {
      "text/plain": [
       "33"
      ]
     },
     "execution_count": 26,
     "metadata": {},
     "output_type": "execute_result"
    }
   ],
   "source": [
    "longitud1 = signature[:2]\n",
    "signature = signature[2:]\n",
    "int(longitud1,16)"
   ]
  },
  {
   "cell_type": "code",
   "execution_count": 27,
   "id": "1210db25",
   "metadata": {},
   "outputs": [
    {
     "data": {
      "text/plain": [
       "'00914009da3d6ed684b32c63afe9c02eef32baa9ea6555ac50fad395bade9b5ae8'"
      ]
     },
     "execution_count": 27,
     "metadata": {},
     "output_type": "execute_result"
    }
   ],
   "source": [
    "f1 = signature[:int(longitud1,16)*2]\n",
    "signature = signature[int(longitud1,16)*2:]\n",
    "f1"
   ]
  },
  {
   "cell_type": "code",
   "execution_count": 28,
   "id": "224d8572",
   "metadata": {},
   "outputs": [
    {
     "data": {
      "text/plain": [
       "'02'"
      ]
     },
     "execution_count": 28,
     "metadata": {},
     "output_type": "execute_result"
    }
   ],
   "source": [
    "longitud2 = signature[:2]\n",
    "signature = signature[2:]\n",
    "longitud2"
   ]
  },
  {
   "cell_type": "code",
   "execution_count": 29,
   "id": "01108e05",
   "metadata": {},
   "outputs": [
    {
     "data": {
      "text/plain": [
       "33"
      ]
     },
     "execution_count": 29,
     "metadata": {},
     "output_type": "execute_result"
    }
   ],
   "source": [
    "longitud2 = signature[:2]\n",
    "signature = signature[2:]\n",
    "int(longitud2,16)"
   ]
  },
  {
   "cell_type": "code",
   "execution_count": 30,
   "id": "a68f459e",
   "metadata": {},
   "outputs": [
    {
     "data": {
      "text/plain": [
       "'00cfeffb57304c724b15ab4fea764df1223f661846cb69df1e69f2fb7c9d992699'"
      ]
     },
     "execution_count": 30,
     "metadata": {},
     "output_type": "execute_result"
    }
   ],
   "source": [
    "f2 = signature[:int(longitud1,16)*2]\n",
    "signature = signature[int(longitud1,16)*2:]\n",
    "f2"
   ]
  },
  {
   "cell_type": "code",
   "execution_count": 31,
   "id": "6be91663",
   "metadata": {},
   "outputs": [
    {
     "data": {
      "text/plain": [
       "''"
      ]
     },
     "execution_count": 31,
     "metadata": {},
     "output_type": "execute_result"
    }
   ],
   "source": [
    "signature"
   ]
  },
  {
   "cell_type": "markdown",
   "id": "28d5d88b",
   "metadata": {},
   "source": [
    "cat 1 2 3 4 > mensaje.bin"
   ]
  },
  {
   "cell_type": "markdown",
   "id": "408fef83",
   "metadata": {},
   "source": [
    "Cipher Suite: TLS_AES_256_GCM_SHA384 (0x1302)"
   ]
  },
  {
   "cell_type": "code",
   "execution_count": 32,
   "id": "ecd40f9d",
   "metadata": {},
   "outputs": [],
   "source": [
    "with open('./Wikipedia/mensaje.bin', 'rb') as f:\n",
    "    mensaje = f.read()"
   ]
  },
  {
   "cell_type": "code",
   "execution_count": 33,
   "id": "1f0235d6",
   "metadata": {},
   "outputs": [
    {
     "data": {
      "text/plain": [
       "b'\\x01\\x00\\x01\\xfc\\x03\\x03\\x14\\t\\x18\\xb1\\x83\\xb0&j \\xa9\\xaf\\xb5^\\xb6f\\x04<\\r\\xbfm\\x1c\\x0b\\xce\\xfb\\x05F\\nM\\x1d\\xec\\x85L nw\\x8f@\\xc3s\\x99\\x03#\\xcc{0\\x8eD\\xaa\\xae\\xea\\xf7\\xb6#?J\\x18\\x13\\x18^h\\xb5\\xd2\\xbeC\\x8f\\x00\"\\x13\\x01\\x13\\x03\\x13\\x02\\xc0+\\xc0/\\xcc\\xa9\\xcc\\xa8\\xc0,\\xc00\\xc0\\n\\xc0\\t\\xc0\\x13\\xc0\\x14\\x00\\x9c\\x00\\x9d\\x00/\\x005\\x01\\x00\\x01\\x91\\x00\\x00\\x00\\x16\\x00\\x14\\x00\\x00\\x11www.wikipedia.org\\x00\\x17\\x00\\x00\\xff\\x01\\x00\\x01\\x00\\x00\\n\\x00\\x0e\\x00\\x0c\\x00\\x1d\\x00\\x17\\x00\\x18\\x00\\x19\\x01\\x00\\x01\\x01\\x00\\x0b\\x00\\x02\\x01\\x00\\x00#\\x00\\x00\\x00\\x10\\x00\\x0e\\x00\\x0c\\x02h2\\x08http/1.1\\x00\\x05\\x00\\x05\\x01\\x00\\x00\\x00\\x00\\x00\"\\x00\\n\\x00\\x08\\x04\\x03\\x05\\x03\\x06\\x03\\x02\\x03\\x003\\x00k\\x00i\\x00\\x1d\\x00 \\xc1\\xf0\\xaa\\xbe\\xea\\xe0?v\\x9a\\xb9UF\\x89\\xe7\\xdc1\\xfb\\x00\\xe7\\xd1*\\xac\\xc9\\x83f\\x03i\\xe0\\x8b\"\\xf48\\x00\\x17\\x00A\\x04\\xab\\xde-\\x1f\\x1c\\xe2\\'Q\\x951y\\x07\\xecv\\xc3\\x9a\\x9ez\\x0eQ\\xbc\\x08\\rb\\xa9\\xc8\\xb8n\\xa8eY\\xce\\x88\\x03\\x95\\xdbL\\xc0\\x86=\\x12`W\\xa1\\xfaU\\xd6\\xf7\\xde;-\\xbe\\x8f\\xbe,\\xb1\\xa7\\xd50?\\'0TJ\\x00+\\x00\\x05\\x04\\x03\\x04\\x03\\x03\\x00\\r\\x00\\x18\\x00\\x16\\x04\\x03\\x05\\x03\\x06\\x03\\x08\\x04\\x08\\x05\\x08\\x06\\x04\\x01\\x05\\x01\\x06\\x01\\x02\\x03\\x02\\x01\\x00-\\x00\\x02\\x01\\x01\\x00\\x1c\\x00\\x02@\\x01\\x00\\x15\\x00\\x85\\x00\\x00\\x00\\x00\\x00\\x00\\x00\\x00\\x00\\x00\\x00\\x00\\x00\\x00\\x00\\x00\\x00\\x00\\x00\\x00\\x00\\x00\\x00\\x00\\x00\\x00\\x00\\x00\\x00\\x00\\x00\\x00\\x00\\x00\\x00\\x00\\x00\\x00\\x00\\x00\\x00\\x00\\x00\\x00\\x00\\x00\\x00\\x00\\x00\\x00\\x00\\x00\\x00\\x00\\x00\\x00\\x00\\x00\\x00\\x00\\x00\\x00\\x00\\x00\\x00\\x00\\x00\\x00\\x00\\x00\\x00\\x00\\x00\\x00\\x00\\x00\\x00\\x00\\x00\\x00\\x00\\x00\\x00\\x00\\x00\\x00\\x00\\x00\\x00\\x00\\x00\\x00\\x00\\x00\\x00\\x00\\x00\\x00\\x00\\x00\\x00\\x00\\x00\\x00\\x00\\x00\\x00\\x00\\x00\\x00\\x00\\x00\\x00\\x00\\x00\\x00\\x00\\x00\\x00\\x00\\x00\\x00\\x00\\x00\\x00\\x00\\x00\\x00\\x00\\x00\\x00\\x00\\x00\\x02\\x00\\x00v\\x03\\x031\\xb1\\xcbC\\xab\\xf3*\\xb2\\xbes\\xf5\\x90m\\x06Y\\xaf\\xc0\\x85bjC\\xf0\\xaa\\xaaN\\xe8\\x16\\x893a\\xb3\\x11 \\xc1\\xe0\\xfe\\xe2\\xa5\\xbe0\\xea\\xdaayBy\\xceIPT\\x8a\\xb1\\xc6\\xc7\\xd6\\xa9{\\x817_\\xe4\\x08P?Z\\x13\\x02\\x00\\x00.\\x00+\\x00\\x02\\x03\\x04\\x003\\x00$\\x00\\x1d\\x00 `\\xbc%\\xe7F\\x05l\\xda\\xb0\\x8d\\xca\\xec\\xcb\\xda;oX\\xd5\\x12\\x94\\x04Q\\xc1,\\xe8!M\\x9e\\xc4\\'\\xb6\\x04\\x08\\x00\\x00\\x0f\\x00\\r\\x00\\x00\\x00\\x00\\x00\\x10\\x00\\x05\\x00\\x03\\x02h2\\x0b\\x00\\r\\xb3\\x00\\x00\\r\\xaf\\x00\\x08J0\\x82\\x08F0\\x82\\x07\\xcd\\xa0\\x03\\x02\\x01\\x02\\x02\\x10\\x04\\x0f\\x88g\\x7f\\xf0\\xb0\\xc3\\xd9B\\x86\\x02b\\x16\\xec\\xe90\\n\\x06\\x08*\\x86H\\xce=\\x04\\x03\\x030V1\\x0b0\\t\\x06\\x03U\\x04\\x06\\x13\\x02US1\\x150\\x13\\x06\\x03U\\x04\\n\\x13\\x0cDigiCert Inc100.\\x06\\x03U\\x04\\x03\\x13\\'DigiCert TLS Hybrid ECC SHA384 2020 CA10\\x1e\\x17\\r221027000000Z\\x17\\r231117235959Z0y1\\x0b0\\t\\x06\\x03U\\x04\\x06\\x13\\x02US1\\x130\\x11\\x06\\x03U\\x04\\x08\\x13\\nCalifornia1\\x160\\x14\\x06\\x03U\\x04\\x07\\x13\\rSan Francisco1#0!\\x06\\x03U\\x04\\n\\x13\\x1aWikimedia Foundation, Inc.1\\x180\\x16\\x06\\x03U\\x04\\x03\\x0c\\x0f*.wikipedia.org0Y0\\x13\\x06\\x07*\\x86H\\xce=\\x02\\x01\\x06\\x08*\\x86H\\xce=\\x03\\x01\\x07\\x03B\\x00\\x04\\x1b\\xa7;E\\xd7\\xd1\\x94\\x83Q\\xb9 s\\xae\\xf3\\xfbw\\xaf4\\x88\\x15\\xae\\x9e\\xdb\\xe6\\xa2\\x9d\\x98\\xd5\\xd7\\xd3\\xde\\x11e\\xdd{\\x1f\\xb4\\x0e\\xe54\\xc0\\xfb\\xa2}\\xef\\x07\\xcd\\xfad\\xaeER-\\xddLC8\\xa1i\\xf4`l\\xac\\t\\xa3\\x82\\x06X0\\x82\\x06T0\\x1f\\x06\\x03U\\x1d#\\x04\\x180\\x16\\x80\\x14\\n\\xbc\\x08)\\x17\\x8c\\xa59mz\\x0e\\xce3\\xc7.\\xb3\\xed\\xfb\\xc3z0\\x1d\\x06\\x03U\\x1d\\x0e\\x04\\x16\\x04\\x14\\xb6\\x87\\x99\\xb4\\xb7J\\xba\\x00\\x1b\\x01\\x1d\\x85\\xcb\\xab\\xf47\\x8d\\xee\\xf5\\xa90\\x82\\x02\\xed\\x06\\x03U\\x1d\\x11\\x04\\x82\\x02\\xe40\\x82\\x02\\xe0\\x82\\x0f*.wikipedia.org\\x82\\rwikimedia.org\\x82\\rmediawiki.org\\x82\\rwikibooks.org\\x82\\x0cwikidata.org\\x82\\x0cwikinews.org\\x82\\rwikiquote.org\\x82\\x0ewikisource.org\\x82\\x0fwikiversity.org\\x82\\x0ewikivoyage.org\\x82\\x0ewiktionary.org\\x82\\x17wikimediafoundation.org\\x82\\x06w.wiki\\x82\\x12wmfusercontent.org\\x82\\x11*.m.wikipedia.org\\x82\\x0f*.wikimedia.org\\x82\\x11*.m.wikimedia.org\\x82\\x16*.planet.wikimedia.org\\x82\\x0f*.mediawiki.org\\x82\\x11*.m.mediawiki.org\\x82\\x0f*.wikibooks.org\\x82\\x11*.m.wikibooks.org\\x82\\x0e*.wikidata.org\\x82\\x10*.m.wikidata.org\\x82\\x0e*.wikinews.org\\x82\\x10*.m.wikinews.org\\x82\\x0f*.wikiquote.org\\x82\\x11*.m.wikiquote.org\\x82\\x10*.wikisource.org\\x82\\x12*.m.wikisource.org\\x82\\x11*.wikiversity.org\\x82\\x13*.m.wikiversity.org\\x82\\x10*.wikivoyage.org\\x82\\x12*.m.wikivoyage.org\\x82\\x10*.wiktionary.org\\x82\\x12*.m.wiktionary.org\\x82\\x19*.wikimediafoundation.org\\x82\\x14*.wmfusercontent.org\\x82\\rwikipedia.org\\x82\\x11wikifunctions.org\\x82\\x13*.wikifunctions.org0\\x0e\\x06\\x03U\\x1d\\x0f\\x01\\x01\\xff\\x04\\x04\\x03\\x02\\x07\\x800\\x1d\\x06\\x03U\\x1d%\\x04\\x160\\x14\\x06\\x08+\\x06\\x01\\x05\\x05\\x07\\x03\\x01\\x06\\x08+\\x06\\x01\\x05\\x05\\x07\\x03\\x020\\x81\\x9b\\x06\\x03U\\x1d\\x1f\\x04\\x81\\x930\\x81\\x900F\\xa0D\\xa0B\\x86@http://crl3.digicert.com/DigiCertTLSHybridECCSHA3842020CA1-1.crl0F\\xa0D\\xa0B\\x86@http://crl4.digicert.com/DigiCertTLSHybridECCSHA3842020CA1-1.crl0>\\x06\\x03U\\x1d \\x0470503\\x06\\x06g\\x81\\x0c\\x01\\x02\\x020)0\\'\\x06\\x08+\\x06\\x01\\x05\\x05\\x07\\x02\\x01\\x16\\x1bhttp://www.digicert.com/CPS0\\x81\\x85\\x06\\x08+\\x06\\x01\\x05\\x05\\x07\\x01\\x01\\x04y0w0$\\x06\\x08+\\x06\\x01\\x05\\x05\\x070\\x01\\x86\\x18http://ocsp.digicert.com0O\\x06\\x08+\\x06\\x01\\x05\\x05\\x070\\x02\\x86Chttp://cacerts.digicert.com/DigiCertTLSHybridECCSHA3842020CA1-1.crt0\\t\\x06\\x03U\\x1d\\x13\\x04\\x020\\x000\\x82\\x01\\x7f\\x06\\n+\\x06\\x01\\x04\\x01\\xd6y\\x02\\x04\\x02\\x04\\x82\\x01o\\x04\\x82\\x01k\\x01i\\x00w\\x00\\xe8>\\xd0\\xda>\\xf5\\x0652\\xe7W(\\xbc\\x89k\\xc9\\x03\\xd3\\xcb\\xd1\\x11k\\xec\\xebi\\xe1w}m\\x06\\xbdn\\x00\\x00\\x01\\x84\\x1bl\\xc5e\\x00\\x00\\x04\\x03\\x00H0F\\x02!\\x00\\xe4\\xbeI\\xa6\\xca\\xba\\xe2P\\x96\\x95\\x06\\xea\\xeeb\\x89\\xff\\x86\\xac\\x95\\xd4\\xcc\\xce\\xb3\\x8d\\xd8{\\xf9\\xaeY\\xaai\\x9d\\x02!\\x00\\xe4\\xa5S;\\xb8.\\x00\\x1a{!\\x9b\\xc4\\xb4\\x1c\"+\\xdfy\\x83%\\x1c\\x94f\\xab\\xdfMrGs\\xc1\"\\xea\\x00v\\x00\\xb3sw\\x07\\xe1\\x84P\\xf8c\\x86\\xd6\\x05\\xa9\\xdc\\x11\\tJy-\\xb1g\\x0c\\x0b\\x87\\xdc\\xf0\\x03\\x0ey6\\xa5\\x9a\\x00\\x00\\x01\\x84\\x1bl\\xc5P\\x00\\x00\\x04\\x03\\x00G0E\\x02!\\x00\\xef\\xaa1(m\\xf4\\xf7\\x1c\\xdb\\xa0\\xc5\\x84M\\xd7\\x89N\\x8d\\xf4\\xf8\\x8c\\xe4\\xd1\\xb7#w\\x9f\\x1b<5\\xf8\\xac\\xc2\\x02 T\\xa7;\\xb5\\xe5\\xe0}\\xae_\\xc5\\xba[L\\xee\\xf5\\x9aR\\xdaz\\xc2\\x85\\xb1\\xebJ\\x94\\'\\xe7\\xbd\\xf2:\\xeb\\xc9\\x00v\\x00\\xb7>\\xfb$\\xdf\\x9cM\\xbau\\xf29\\xc5\\xbaX\\xf4l]\\xfcB\\xcfz\\x9f5\\xc4\\x9e\\x1d\\t\\x81%\\xed\\xb4\\x99\\x00\\x00\\x01\\x84\\x1bl\\xc5\\'\\x00\\x00\\x04\\x03\\x00G0E\\x02!\\x00\\xe3\\x90!\\xe1\\xf7\\xef\\xff\\x81\\xc8w\\x12\\xcf%\\xc1\\xe7\\xfe&\\x01\\x8b\\xfd\\xf7$\\r~KW\\xe8\"\\\\J\\xb8>\\x02 4\\xc0\\n7\\x10\\xf2\\xf6nIB\\xec\\xed\\x7f7\\x8e\\xee\\xd0\\xc8\\xeb\\xc2\\x93\\xe8\\x06\\x8c\\x1f\\x90\\xb3\\xebNL\\xf8\\x860\\n\\x06\\x08*\\x86H\\xce=\\x04\\x03\\x03\\x03g\\x000d\\x020\\x19\\xff\\xd10\\x8c\\xfa:\\xf1\\xa0p\\xe4\\x94\\xae\\xc9 \\xf1\\xd5X+h\\x13\\n\\x19+W\\x15\\t\\xd0\\xdd\\xdd\\x8bK\\x96\\x07\\xb3|\\x8e\\xa7\\xe1\\x99\\x0f\\xe8c\\x19\\xa2\\xa9xe\\x020v\\xbb\\x18\\x8c\\x8d\\xdc\\xf6$qBb\\xd8\\xb2\\xe9\\x01U:.\\x94Gn+\\xf7\\xbd\\xa8\\x98\\x02\\xdb\\xc9/l\\x17\\xe0\\xd5\\xe8\\xc0h\\xa5$Y\\x92\\x9f^\\xd2\\xae\\xedw\\x19\\x01@\\x00\\x05\\x01<\\x01\\x00\\x0180\\x82\\x014\\n\\x01\\x00\\xa0\\x82\\x01-0\\x82\\x01)\\x06\\t+\\x06\\x01\\x05\\x05\\x070\\x01\\x01\\x04\\x82\\x01\\x1a0\\x82\\x01\\x160\\x81\\x9e\\xa2\\x16\\x04\\x14\\n\\xbc\\x08)\\x17\\x8c\\xa59mz\\x0e\\xce3\\xc7.\\xb3\\xed\\xfb\\xc3z\\x18\\x0f20221130114915Z0s0q0I0\\t\\x06\\x05+\\x0e\\x03\\x02\\x1a\\x05\\x00\\x04\\x14+\\x1d\\x1e\\x98\\xcc\\xf3v\\x04\\xd6\\xc1\\xc8\\xbd\\x15\\xa2$\\xc8\\x04\\x13\\x008\\x04\\x14\\n\\xbc\\x08)\\x17\\x8c\\xa59mz\\x0e\\xce3\\xc7.\\xb3\\xed\\xfb\\xc3z\\x02\\x10\\x04\\x0f\\x88g\\x7f\\xf0\\xb0\\xc3\\xd9B\\x86\\x02b\\x16\\xec\\xe9\\x80\\x00\\x18\\x0f20221130113302Z\\xa0\\x11\\x18\\x0f20221207104802Z0\\n\\x06\\x08*\\x86H\\xce=\\x04\\x03\\x03\\x03g\\x000d\\x020\\x16n\\x1f\\xf0V\\x18\\xc4\\xc1}\\xa5\\xcf\\xc0\\x06\\xb7\\x04\\xdf\\x90)\\xebuN@\\x8c\\x18\\x93\\x1e#\\x96\\xb2\\xaa(h^O\\x92+l8\\xc14\\xad\\xa7\\xbb\\x93\\xfe\\xe4\\xdfh\\x020X\\x86\\x1e`Ji\\xac\\'\\xef\\xebW\\xd3\\x82\\x9f\\x97\\x81\\xdd\\x0b^s\\xf6\\xa2\\xc7;y$Q!\\x07\\x9c\\xd02+\\x0cv\\xd2_\\x94\\x9aY\\xd0w\\xb7YR5\\xcc3\\x00\\x04\\x1b0\\x82\\x04\\x170\\x82\\x02\\xff\\xa0\\x03\\x02\\x01\\x02\\x02\\x10\\x07\\xf2\\xf3\\\\\\x87\\xa8w\\xafz\\xef\\xe9G\\x995%\\xbd0\\r\\x06\\t*\\x86H\\x86\\xf7\\r\\x01\\x01\\x0c\\x05\\x000a1\\x0b0\\t\\x06\\x03U\\x04\\x06\\x13\\x02US1\\x150\\x13\\x06\\x03U\\x04\\n\\x13\\x0cDigiCert Inc1\\x190\\x17\\x06\\x03U\\x04\\x0b\\x13\\x10www.digicert.com1 0\\x1e\\x06\\x03U\\x04\\x03\\x13\\x17DigiCert Global Root CA0\\x1e\\x17\\r210414000000Z\\x17\\r310413235959Z0V1\\x0b0\\t\\x06\\x03U\\x04\\x06\\x13\\x02US1\\x150\\x13\\x06\\x03U\\x04\\n\\x13\\x0cDigiCert Inc100.\\x06\\x03U\\x04\\x03\\x13\\'DigiCert TLS Hybrid ECC SHA384 2020 CA10v0\\x10\\x06\\x07*\\x86H\\xce=\\x02\\x01\\x06\\x05+\\x81\\x04\\x00\"\\x03b\\x00\\x04\\xc1\\x1b\\xc6\\x9a[\\x98\\xd9\\xa4)\\xa0\\xe9\\xd4\\x04\\xb5\\xdb\\xeb\\xa6\\xb2lU\\xc0\\xff\\xed\\x98\\xc6I/\\x06\\'Q\\xcb\\xbfp\\xc1\\x05z\\xc3\\xb1\\x9d\\x87\\x89\\xba\\xad\\xb4\\x13\\x17\\xc9\\xa8\\xb4\\x83\\xc8\\xb8\\x90\\xd1\\xcct56<\\x83r\\xb0\\xb5\\xd0\\xf7\"i\\xc8\\xf1\\x80\\xc4{@\\x8f\\xcfh\\x87&\\\\9\\x89\\xf1M\\x91M\\xda\\x89\\x8b\\xe4\\x03\\xc3C\\xe5\\xbf/s\\xa3\\x82\\x01\\x820\\x82\\x01~0\\x12\\x06\\x03U\\x1d\\x13\\x01\\x01\\xff\\x04\\x080\\x06\\x01\\x01\\xff\\x02\\x01\\x000\\x1d\\x06\\x03U\\x1d\\x0e\\x04\\x16\\x04\\x14\\n\\xbc\\x08)\\x17\\x8c\\xa59mz\\x0e\\xce3\\xc7.\\xb3\\xed\\xfb\\xc3z0\\x1f\\x06\\x03U\\x1d#\\x04\\x180\\x16\\x80\\x14\\x03\\xdeP5V\\xd1L\\xbbf\\xf0\\xa3\\xe2\\x1b\\x1b\\xc3\\x97\\xb2=\\xd1U0\\x0e\\x06\\x03U\\x1d\\x0f\\x01\\x01\\xff\\x04\\x04\\x03\\x02\\x01\\x860\\x1d\\x06\\x03U\\x1d%\\x04\\x160\\x14\\x06\\x08+\\x06\\x01\\x05\\x05\\x07\\x03\\x01\\x06\\x08+\\x06\\x01\\x05\\x05\\x07\\x03\\x020v\\x06\\x08+\\x06\\x01\\x05\\x05\\x07\\x01\\x01\\x04j0h0$\\x06\\x08+\\x06\\x01\\x05\\x05\\x070\\x01\\x86\\x18http://ocsp.digicert.com0@\\x06\\x08+\\x06\\x01\\x05\\x05\\x070\\x02\\x864http://cacerts.digicert.com/DigiCertGlobalRootCA.crt0B\\x06\\x03U\\x1d\\x1f\\x04;0907\\xa05\\xa03\\x861http://crl3.digicert.com/DigiCertGlobalRootCA.crl0=\\x06\\x03U\\x1d \\x046040\\x0b\\x06\\t`\\x86H\\x01\\x86\\xfdl\\x02\\x010\\x07\\x06\\x05g\\x81\\x0c\\x01\\x010\\x08\\x06\\x06g\\x81\\x0c\\x01\\x02\\x010\\x08\\x06\\x06g\\x81\\x0c\\x01\\x02\\x020\\x08\\x06\\x06g\\x81\\x0c\\x01\\x02\\x030\\r\\x06\\t*\\x86H\\x86\\xf7\\r\\x01\\x01\\x0c\\x05\\x00\\x03\\x82\\x01\\x01\\x00GY\\x81\\x7f\\xd4\\x1b\\x1f\\xb0q\\xf6\\x98]\\x18\\xba\\x98G\\x98\\xb0~v+\\xea\\xff\\x1a\\x8b\\xac&\\xb3B\\x8d1\\xe6J\\xe8\\x19\\xd0\\xef\\xda\\x14\\xe7\\xd7\\x14\\x92\\xa1\\x92\\xf2\\xa7.-\\xaf\\xfb\\x1d\\xf6\\xfbS\\xb0\\x8a?\\xfc\\xd8\\x16\\n\\xe9\\xb0.\\xb6\\xa5\\x0b\\x18\\x905&\\xa2\\xda\\xf6\\xa8\\xb72\\xfc\\x95#K\\xc6E\\xb9\\xc4\\xcf\\xe4|\\xee\\xe6\\xc9\\xf8\\x90\\xbdr\\xe3\\x99\\xc3\\x1d\\x0b\\x05|j\\x97m\\xb2\\xab\\x026\\xd8\\xc2\\xbc,\\x01\\x92?\\x04\\xa3\\x8bu\\x11\\xc7\\xb9)\\xbc\\x11\\xd0\\x86\\xba\\x92\\xbc&\\xf9e\\xc87\\xcd&\\xf6\\x86\\x13\\x0c\\x04\\xaa\\x89\\xe5x\\xb1\\xc1Ny\\xbcv\\xa3\\x0bQ\\xe4\\xc5\\xd0\\x9ej\\xfe\\x1a,V\\xae\\x066\\'\\xa3s\\x1c\\x08}\\x932\\xd0\\xc2D\\x19\\xda\\x8d\\xf4\\x0e{\\x1d(\\x03+\\t\\x8av\\xcaw\\xdc\\x87z\\xac{R&U\\xa7r\\x0f\\x9d\\xd2\\x88O\\xfe\\xb1!\\xc5\\x1a\\xa1\\xaa9\\xf5V\\xdb\\xc2\\x84\\xc45\\x1fp\\xda\\xbbF\\xf0\\x86\\xbfd\\x00\\xc4>\\xf7\\x9fF\\x1b\\x9d#\\x05\\xb9}\\xb3O\\x0f\\xa9E:\\xe3t0\\x98\\x00\\x00'"
      ]
     },
     "execution_count": 33,
     "metadata": {},
     "output_type": "execute_result"
    }
   ],
   "source": [
    "mensaje"
   ]
  },
  {
   "cell_type": "code",
   "execution_count": 34,
   "id": "b1279b3f",
   "metadata": {},
   "outputs": [],
   "source": [
    "from Crypto.Hash import SHA384\n",
    "h = SHA384.new()\n",
    "h.update(mensaje)\n",
    "mensaje384 = h.hexdigest()"
   ]
  },
  {
   "cell_type": "code",
   "execution_count": 35,
   "id": "b86d2a2e",
   "metadata": {},
   "outputs": [
    {
     "data": {
      "text/plain": [
       "'20202020202020202020202020202020202020202020202020202020202020202020202020202020202020202020202020202020202020202020202020202020544c5320312e332c2073657276657220436572746966696361746556657269667900'"
      ]
     },
     "execution_count": 35,
     "metadata": {},
     "output_type": "execute_result"
    }
   ],
   "source": [
    "inicio = 64*'20'\n",
    "medioNo = 'TLS 1.3, server CertificateVerify'\n",
    "medio = ''\n",
    "for i in medioNo:\n",
    "    medio += hex(ord(i)).replace('0x','')\n",
    "final = '00'\n",
    "\n",
    "preambulo = inicio + medio + final\n",
    "preambulo"
   ]
  },
  {
   "cell_type": "code",
   "execution_count": 36,
   "id": "fc6827b5",
   "metadata": {},
   "outputs": [],
   "source": [
    "from Crypto.Hash import SHA256\n",
    "h = SHA256.new()\n",
    "h.update((preambulo + mensaje384).encode())\n",
    "final = h.hexdigest()"
   ]
  },
  {
   "cell_type": "code",
   "execution_count": 37,
   "id": "8575dada",
   "metadata": {},
   "outputs": [
    {
     "data": {
      "text/plain": [
       "'c896f47b324adbd8682287869ab7ae6ec9e84004812217756a8d98b21fe264c6'"
      ]
     },
     "execution_count": 37,
     "metadata": {},
     "output_type": "execute_result"
    }
   ],
   "source": [
    "final"
   ]
  },
  {
   "cell_type": "code",
   "execution_count": 38,
   "id": "6cdaef53",
   "metadata": {},
   "outputs": [],
   "source": [
    "curva = 'p256'\n",
    "p = 115792089210356248762697446949407573530086143415290314195533631308867097853951\n",
    "n = 115792089210356248762697446949407573529996955224135760342422259061068512044369\n",
    "a = -3\n",
    "b = 0x5ac635d8aa3a93e7b3ebbd55769886bc651d06b0cc53b0f63bce3c3e27d2604b\n",
    "Gx = 0x6b17d1f2e12c4247f8bce6e563a440f277037d812deb33a0f4a13945d898c296\n",
    "Gy = 0x4fe342e2fe1a7f9b8ee7eb4a7c0f9e162bce33576b315ececbb6406837bf51f5"
   ]
  },
  {
   "cell_type": "code",
   "execution_count": 39,
   "id": "ae5c7414",
   "metadata": {},
   "outputs": [],
   "source": [
    "from Crypto.PublicKey.ECC import *"
   ]
  },
  {
   "cell_type": "code",
   "execution_count": 43,
   "id": "3f624db2",
   "metadata": {},
   "outputs": [],
   "source": [
    "G = EccPoint(Gx, Gy, curve=curva)\n",
    "Q = EccPoint(int(Qx, 16), int(Qy, 16), curve=curva)"
   ]
  },
  {
   "cell_type": "code",
   "execution_count": null,
   "id": "101be3ff",
   "metadata": {},
   "outputs": [],
   "source": [
    "f1 = "
   ]
  }
 ],
 "metadata": {
  "kernelspec": {
   "display_name": "Python 3 (ipykernel)",
   "language": "python",
   "name": "python3"
  },
  "language_info": {
   "codemirror_mode": {
    "name": "ipython",
    "version": 3
   },
   "file_extension": ".py",
   "mimetype": "text/x-python",
   "name": "python",
   "nbconvert_exporter": "python",
   "pygments_lexer": "ipython3",
   "version": "3.8.10"
  }
 },
 "nbformat": 4,
 "nbformat_minor": 5
}
