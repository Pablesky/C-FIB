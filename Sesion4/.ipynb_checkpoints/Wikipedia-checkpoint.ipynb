{
 "cells": [
  {
   "cell_type": "markdown",
   "id": "ef309134",
   "metadata": {},
   "source": [
    "# Clave pública"
   ]
  },
  {
   "cell_type": "code",
   "execution_count": 99,
   "id": "4b3310ee",
   "metadata": {},
   "outputs": [
    {
     "data": {
      "text/plain": [
       "130"
      ]
     },
     "execution_count": 99,
     "metadata": {},
     "output_type": "execute_result"
    }
   ],
   "source": [
    "raw = '041ba73b45d7d1948351b92073aef3fb77af348815ae9edbe6a29d98d5d7d3de1165dd7b1fb40ee534c0fba27def07cdfa64ae45522ddd4c4338a169f4606cac09'\n",
    "len(raw)"
   ]
  },
  {
   "cell_type": "code",
   "execution_count": 100,
   "id": "69054e11",
   "metadata": {},
   "outputs": [
    {
     "data": {
      "text/plain": [
       "'04'"
      ]
     },
     "execution_count": 100,
     "metadata": {},
     "output_type": "execute_result"
    }
   ],
   "source": [
    "cabecera = raw[0:2]\n",
    "cabecera"
   ]
  },
  {
   "cell_type": "code",
   "execution_count": 101,
   "id": "d888799d",
   "metadata": {},
   "outputs": [],
   "source": [
    "raw2 = raw[2:]\n",
    "mitad = len(raw2)//2"
   ]
  },
  {
   "cell_type": "code",
   "execution_count": 102,
   "id": "0392bb0b",
   "metadata": {},
   "outputs": [],
   "source": [
    "Qx = int(raw2[:mitad], 16)\n",
    "Qy = int(raw2[mitad:], 16)"
   ]
  },
  {
   "cell_type": "markdown",
   "id": "ca605c2c",
   "metadata": {},
   "source": [
    "# Datos de la curva"
   ]
  },
  {
   "cell_type": "markdown",
   "id": "a44f494e",
   "metadata": {},
   "source": [
    "Signature Algorithm: ecdsa_secp256r1_sha256"
   ]
  },
  {
   "cell_type": "markdown",
   "id": "9f8e7bab",
   "metadata": {},
   "source": [
    "## Datos de la curva 256 del documento"
   ]
  },
  {
   "cell_type": "code",
   "execution_count": 103,
   "id": "af3c64a2",
   "metadata": {},
   "outputs": [],
   "source": [
    "p = 115792089210356248762697446949407573530086143415290314195533631308867097853951\n",
    "n = 115792089210356248762697446949407573529996955224135760342422259061068512044369\n",
    "a = -3\n",
    "b = 0x5ac635d8aa3a93e7b3ebbd55769886bc651d06b0cc53b0f63bce3c3e27d2604b\n",
    "Gx = 0x6b17d1f2e12c4247f8bce6e563a440f277037d812deb33a0f4a13945d898c296\n",
    "Gy = 0x4fe342e2fe1a7f9b8ee7eb4a7c0f9e162bce33576b315ececbb6406837bf51f5"
   ]
  },
  {
   "cell_type": "markdown",
   "id": "4466ec32",
   "metadata": {},
   "source": [
    "## Firma"
   ]
  },
  {
   "cell_type": "code",
   "execution_count": 104,
   "id": "a082b485",
   "metadata": {},
   "outputs": [],
   "source": [
    "raw = '3046022100914009da3d6ed684b32c63afe9c02eef32baa9ea6555ac50fad395bade9b5ae8022100cfeffb57304c724b15ab4fea764df1223f661846cb69df1e69f2fb7c9d992699'"
   ]
  },
  {
   "cell_type": "markdown",
   "id": "db8bf584",
   "metadata": {},
   "source": [
    "### Extraer cabecera"
   ]
  },
  {
   "cell_type": "code",
   "execution_count": 105,
   "id": "38c697b6",
   "metadata": {},
   "outputs": [
    {
     "name": "stdout",
     "output_type": "stream",
     "text": [
      "30\n",
      "46022100914009da3d6ed684b32c63afe9c02eef32baa9ea6555ac50fad395bade9b5ae8022100cfeffb57304c724b15ab4fea764df1223f661846cb69df1e69f2fb7c9d992699\n"
     ]
    }
   ],
   "source": [
    "print(raw[0:2])\n",
    "raw = raw[2:]\n",
    "print(raw)"
   ]
  },
  {
   "cell_type": "markdown",
   "id": "b2b83596",
   "metadata": {},
   "source": [
    "### Comprobar longiutd de la cadena"
   ]
  },
  {
   "cell_type": "code",
   "execution_count": 106,
   "id": "3337c0ab",
   "metadata": {},
   "outputs": [
    {
     "data": {
      "text/plain": [
       "True"
      ]
     },
     "execution_count": 106,
     "metadata": {},
     "output_type": "execute_result"
    }
   ],
   "source": [
    "longitud = raw[:2]\n",
    "raw = raw[2:]\n",
    "len(raw)//2 == int(longitud, 16)"
   ]
  },
  {
   "cell_type": "markdown",
   "id": "c68cbc7f",
   "metadata": {},
   "source": [
    "### Obtener f1"
   ]
  },
  {
   "cell_type": "code",
   "execution_count": 107,
   "id": "e2c78808",
   "metadata": {},
   "outputs": [
    {
     "name": "stdout",
     "output_type": "stream",
     "text": [
      "02\n"
     ]
    }
   ],
   "source": [
    "print(raw[:2])\n",
    "raw = raw[2:]"
   ]
  },
  {
   "cell_type": "code",
   "execution_count": 108,
   "id": "2cc97977",
   "metadata": {},
   "outputs": [
    {
     "name": "stdout",
     "output_type": "stream",
     "text": [
      "33\n"
     ]
    }
   ],
   "source": [
    "longitud = int(raw[:2], 16)\n",
    "raw = raw[2:]\n",
    "print(longitud)"
   ]
  },
  {
   "cell_type": "code",
   "execution_count": 109,
   "id": "2644bfdb",
   "metadata": {},
   "outputs": [
    {
     "data": {
      "text/plain": [
       "66"
      ]
     },
     "execution_count": 109,
     "metadata": {},
     "output_type": "execute_result"
    }
   ],
   "source": [
    "f1 = raw[:longitud*2]\n",
    "len(f1)"
   ]
  },
  {
   "cell_type": "code",
   "execution_count": 110,
   "id": "99314028",
   "metadata": {},
   "outputs": [
    {
     "data": {
      "text/plain": [
       "'00914009da3d6ed684b32c63afe9c02eef32baa9ea6555ac50fad395bade9b5ae8'"
      ]
     },
     "execution_count": 110,
     "metadata": {},
     "output_type": "execute_result"
    }
   ],
   "source": [
    "f1"
   ]
  },
  {
   "cell_type": "code",
   "execution_count": 111,
   "id": "aa860c17",
   "metadata": {},
   "outputs": [],
   "source": [
    "raw = raw[longitud*2:]"
   ]
  },
  {
   "cell_type": "markdown",
   "id": "240dfce3",
   "metadata": {},
   "source": [
    "### Obtener f2"
   ]
  },
  {
   "cell_type": "code",
   "execution_count": 112,
   "id": "d5d1783c",
   "metadata": {},
   "outputs": [
    {
     "name": "stdout",
     "output_type": "stream",
     "text": [
      "02\n"
     ]
    }
   ],
   "source": [
    "print(raw[:2])\n",
    "raw = raw[2:]"
   ]
  },
  {
   "cell_type": "code",
   "execution_count": 113,
   "id": "dd395a03",
   "metadata": {},
   "outputs": [
    {
     "name": "stdout",
     "output_type": "stream",
     "text": [
      "33\n"
     ]
    }
   ],
   "source": [
    "longitud = int(raw[:2], 16)\n",
    "raw = raw[2:]\n",
    "print(longitud)"
   ]
  },
  {
   "cell_type": "code",
   "execution_count": 114,
   "id": "f51ac02b",
   "metadata": {},
   "outputs": [
    {
     "data": {
      "text/plain": [
       "66"
      ]
     },
     "execution_count": 114,
     "metadata": {},
     "output_type": "execute_result"
    }
   ],
   "source": [
    "f2 = raw[:longitud*2]\n",
    "len(f2)"
   ]
  },
  {
   "cell_type": "code",
   "execution_count": 115,
   "id": "a81816b3",
   "metadata": {},
   "outputs": [
    {
     "data": {
      "text/plain": [
       "'00cfeffb57304c724b15ab4fea764df1223f661846cb69df1e69f2fb7c9d992699'"
      ]
     },
     "execution_count": 115,
     "metadata": {},
     "output_type": "execute_result"
    }
   ],
   "source": [
    "f2"
   ]
  },
  {
   "cell_type": "code",
   "execution_count": 116,
   "id": "e43cfa42",
   "metadata": {},
   "outputs": [],
   "source": [
    "raw = raw[longitud*2:]"
   ]
  },
  {
   "cell_type": "markdown",
   "id": "fb25bbfe",
   "metadata": {},
   "source": [
    "### Raw deberia estar vacia"
   ]
  },
  {
   "cell_type": "code",
   "execution_count": 117,
   "id": "af6f34e2",
   "metadata": {},
   "outputs": [
    {
     "data": {
      "text/plain": [
       "''"
      ]
     },
     "execution_count": 117,
     "metadata": {},
     "output_type": "execute_result"
    }
   ],
   "source": [
    "raw"
   ]
  },
  {
   "cell_type": "markdown",
   "id": "3d5a09fa",
   "metadata": {},
   "source": [
    "# Mensaje firmado"
   ]
  },
  {
   "cell_type": "markdown",
   "id": "a1ab9aa9",
   "metadata": {},
   "source": [
    "## Preambulo"
   ]
  },
  {
   "cell_type": "code",
   "execution_count": 118,
   "id": "23737512",
   "metadata": {},
   "outputs": [
    {
     "data": {
      "text/plain": [
       "'20202020202020202020202020202020202020202020202020202020202020202020202020202020202020202020202020202020202020202020202020202020'"
      ]
     },
     "execution_count": 118,
     "metadata": {},
     "output_type": "execute_result"
    }
   ],
   "source": [
    "primero = '20' * 64\n",
    "primero"
   ]
  },
  {
   "cell_type": "code",
   "execution_count": 119,
   "id": "5174963d",
   "metadata": {},
   "outputs": [
    {
     "data": {
      "text/plain": [
       "'544c5320312e332c20736572766572204365727469666963617465566572696679'"
      ]
     },
     "execution_count": 119,
     "metadata": {},
     "output_type": "execute_result"
    }
   ],
   "source": [
    "frase = 'TLS 1.3, server CertificateVerify'\n",
    "segundo = ''\n",
    "for letra in frase:\n",
    "    numero = hex(ord(letra))[2:]\n",
    "    numero = '0'*(2 - len(numero)) + numero\n",
    "    segundo += numero\n",
    "segundo"
   ]
  },
  {
   "cell_type": "code",
   "execution_count": 120,
   "id": "534036f1",
   "metadata": {},
   "outputs": [],
   "source": [
    "tercero = '00'"
   ]
  },
  {
   "cell_type": "code",
   "execution_count": 121,
   "id": "88659c07",
   "metadata": {},
   "outputs": [
    {
     "data": {
      "text/plain": [
       "'20202020202020202020202020202020202020202020202020202020202020202020202020202020202020202020202020202020202020202020202020202020544c5320312e332c2073657276657220436572746966696361746556657269667900'"
      ]
     },
     "execution_count": 121,
     "metadata": {},
     "output_type": "execute_result"
    }
   ],
   "source": [
    "preambulo = primero + segundo + tercero\n",
    "preambulo"
   ]
  },
  {
   "cell_type": "markdown",
   "id": "b29e2fbb",
   "metadata": {},
   "source": [
    "## Mensaje firmado"
   ]
  },
  {
   "cell_type": "code",
   "execution_count": 122,
   "id": "5c35e49a",
   "metadata": {},
   "outputs": [],
   "source": [
    "with open('mensaje.bin', 'rb') as f:\n",
    "    mensaje = f.read()"
   ]
  },
  {
   "cell_type": "code",
   "execution_count": 123,
   "id": "7f766307",
   "metadata": {},
   "outputs": [],
   "source": [
    "from Crypto.Hash import SHA384\n",
    "h = SHA384.new()\n",
    "h.update(mensaje)\n",
    "mensaje384 = h.hexdigest()"
   ]
  },
  {
   "cell_type": "code",
   "execution_count": 124,
   "id": "ea9569fb",
   "metadata": {},
   "outputs": [
    {
     "data": {
      "text/plain": [
       "'34d37fd950b10f7fcc91eccf527459627d8c69b1ce6915ab5f7c460e1e7ce00359eb46c27274fe83f7fb07b2e8f583dc'"
      ]
     },
     "execution_count": 124,
     "metadata": {},
     "output_type": "execute_result"
    }
   ],
   "source": [
    "mensaje384"
   ]
  },
  {
   "cell_type": "code",
   "execution_count": 160,
   "id": "936f71a2",
   "metadata": {},
   "outputs": [],
   "source": [
    "from Crypto.Hash import SHA256\n",
    "h = SHA256.new()\n",
    "h.update(bytes(bytearray.fromhex(preambulo + mensaje384)))\n",
    "m = h.hexdigest()"
   ]
  },
  {
   "cell_type": "code",
   "execution_count": 161,
   "id": "c17f4257",
   "metadata": {},
   "outputs": [
    {
     "data": {
      "text/plain": [
       "'33243e6580a40631410a5fb8fae0ee67bdf36c447524ee295c2ae6a14252b19b'"
      ]
     },
     "execution_count": 161,
     "metadata": {},
     "output_type": "execute_result"
    }
   ],
   "source": [
    "m"
   ]
  },
  {
   "cell_type": "markdown",
   "id": "2b192662",
   "metadata": {},
   "source": [
    "# Verificacion firma"
   ]
  },
  {
   "cell_type": "markdown",
   "id": "dbf8032b",
   "metadata": {},
   "source": [
    "## Calculo pesos"
   ]
  },
  {
   "cell_type": "code",
   "execution_count": 162,
   "id": "9e0e4b46",
   "metadata": {},
   "outputs": [
    {
     "data": {
      "text/plain": [
       "87515200763454985111185401076111324364284015356633820489928573515422345095450"
      ]
     },
     "execution_count": 162,
     "metadata": {},
     "output_type": "execute_result"
    }
   ],
   "source": [
    "w1 = (int(m, 16) * pow(int(f2, 16), -1, n)) % n\n",
    "w1"
   ]
  },
  {
   "cell_type": "code",
   "execution_count": 163,
   "id": "dda67e96",
   "metadata": {},
   "outputs": [
    {
     "data": {
      "text/plain": [
       "89067318584195525323085404731611433077958851466746282182737511975670725719832"
      ]
     },
     "execution_count": 163,
     "metadata": {},
     "output_type": "execute_result"
    }
   ],
   "source": [
    "w2 = (int(f1, 16) * pow(int(f2, 16), -1, n)) % n\n",
    "w2"
   ]
  },
  {
   "cell_type": "markdown",
   "id": "bfe6d200",
   "metadata": {},
   "source": [
    "## Creacion curva y puntos"
   ]
  },
  {
   "cell_type": "code",
   "execution_count": 164,
   "id": "589c4a1e",
   "metadata": {},
   "outputs": [],
   "source": [
    "from Crypto.PublicKey.ECC import *\n",
    "curva = 'p256'"
   ]
  },
  {
   "cell_type": "code",
   "execution_count": 165,
   "id": "f1c0922b",
   "metadata": {},
   "outputs": [],
   "source": [
    "G = EccPoint(Gx, Gy, curve=curva)\n",
    "Q = EccPoint(Qx, Qy, curve=curva)"
   ]
  },
  {
   "cell_type": "markdown",
   "id": "0b004ef2",
   "metadata": {},
   "source": [
    "## Calculos en la curva"
   ]
  },
  {
   "cell_type": "code",
   "execution_count": 166,
   "id": "9a0f132e",
   "metadata": {},
   "outputs": [],
   "source": [
    "E = w1 * G + w2 * Q"
   ]
  },
  {
   "cell_type": "code",
   "execution_count": 167,
   "id": "e6eb6f4a",
   "metadata": {},
   "outputs": [],
   "source": [
    "x0, y0 = E.x, E.y"
   ]
  },
  {
   "cell_type": "code",
   "execution_count": 168,
   "id": "fbd90f36",
   "metadata": {},
   "outputs": [],
   "source": [
    "comprobacion = int(f1, 16) % n"
   ]
  },
  {
   "cell_type": "code",
   "execution_count": 169,
   "id": "d3868c3b",
   "metadata": {},
   "outputs": [
    {
     "data": {
      "text/plain": [
       "True"
      ]
     },
     "execution_count": 169,
     "metadata": {},
     "output_type": "execute_result"
    }
   ],
   "source": [
    "comprobacion == x0"
   ]
  },
  {
   "cell_type": "code",
   "execution_count": 170,
   "id": "4cac34c1",
   "metadata": {},
   "outputs": [
    {
     "data": {
      "text/plain": [
       "65698509256174583349959437356701870316724411153934220427135920273881720117992"
      ]
     },
     "execution_count": 170,
     "metadata": {},
     "output_type": "execute_result"
    }
   ],
   "source": [
    "comprobacion"
   ]
  },
  {
   "cell_type": "code",
   "execution_count": 172,
   "id": "5e37de10",
   "metadata": {},
   "outputs": [
    {
     "data": {
      "text/plain": [
       "65698509256174583349959437356701870316724411153934220427135920273881720117992"
      ]
     },
     "execution_count": 172,
     "metadata": {},
     "output_type": "execute_result"
    }
   ],
   "source": [
    "int(x0)"
   ]
  },
  {
   "cell_type": "code",
   "execution_count": null,
   "id": "c727d625",
   "metadata": {},
   "outputs": [],
   "source": []
  }
 ],
 "metadata": {
  "kernelspec": {
   "display_name": "Python 3 (ipykernel)",
   "language": "python",
   "name": "python3"
  },
  "language_info": {
   "codemirror_mode": {
    "name": "ipython",
    "version": 3
   },
   "file_extension": ".py",
   "mimetype": "text/x-python",
   "name": "python",
   "nbconvert_exporter": "python",
   "pygments_lexer": "ipython3",
   "version": "3.8.10"
  }
 },
 "nbformat": 4,
 "nbformat_minor": 5
}
