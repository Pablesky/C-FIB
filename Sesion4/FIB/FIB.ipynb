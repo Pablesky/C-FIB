{
  "nbformat": 4,
  "nbformat_minor": 0,
  "metadata": {
    "colab": {
      "provenance": []
    },
    "kernelspec": {
      "name": "python3",
      "display_name": "Python 3"
    },
    "language_info": {
      "name": "python"
    }
  },
  "cells": [
    {
      "cell_type": "markdown",
      "source": [
        "# Período de validez del certificado"
      ],
      "metadata": {
        "id": "1bIqVzZCoXuG"
      }
    },
    {
      "cell_type": "markdown",
      "source": [
        "Posterior a: 28/3/22, 2:00:00 CEST\n",
        "\n",
        "Anterio a: 29/3/23, 1:59:59 CEST"
      ],
      "metadata": {
        "id": "FQIu7hlWoliX"
      }
    },
    {
      "cell_type": "markdown",
      "source": [
        "# Clave pública"
      ],
      "metadata": {
        "id": "k5KV-Rvwo170"
      }
    },
    {
      "cell_type": "code",
      "source": [
        "exponentePublico = 0x010001\n",
        "modulo = '''9D B2 C7 CA 34 D4 0C 97 E6 70 AC 3A 98 0C 22 EE\n",
        "51 67 3F B1 5A 1B 9E B1 78 DB CB 21 7D 60 A7 87\n",
        "D7 98 62 34 5D C3 8B B8 B1 99 A7 AF 7E D6 BA 8C\n",
        "6C 31 3B 55 D0 0F E9 5C D6 CE 62 04 6A 54 19 03\n",
        "34 E7 FC 94 7E 7E 49 EE E1 E1 0C 10 00 B4 3E 76\n",
        "A0 1D 25 49 AC A3 DB D6 F4 48 CE 09 C8 74 B8 4F\n",
        "DE FE B6 20 3F FD 7E 69 D7 34 A7 44 B7 49 2F E7\n",
        "08 6A 1A B8 1E 8E C2 3C F9 E9 76 6C 15 A1 ED 80\n",
        "F7 64 C3 76 1D 6C 1A 52 37 0F 19 87 99 67 FF 4B\n",
        "44 93 4F BD 21 0A 72 8F 89 72 90 A5 8C 7D 3B 8A\n",
        "B7 04 08 FE 1A BB E5 8C BA 3C FA BB 3E B4 7B CD\n",
        "47 59 9B A6 21 D3 12 86 94 24 39 9E 2D 89 C6 94\n",
        "AA F7 20 89 91 0B 2C 0A 25 69 F1 09 E1 85 BB 03\n",
        "B1 29 29 A2 F2 93 5C 40 CC 36 45 D2 42 30 C5 18\n",
        "52 1F C3 8C C6 ED E3 88 19 1A C3 15 EE 1C A4 DA\n",
        "E4 F8 B3 7A 34 E1 54 5A B3 EC 61 D2 E6 3D 0D 97\n",
        "A6 73 CB 49 B7 0E D3 F8 D4 DB 35 3A 5F 0D 97 3F\n",
        "FE AF B7 56 CC 2C DE FE DB 1A FD 9D 5E 67 C6 2B\n",
        "F5 13 8A 1A 53 21 0E 1B 8F 1E D0 F6 83 6A 01 39\n",
        "1B B2 03 1C F8 01 DF A5 14 13 4A 30 C5 D3 23 AA\n",
        "DB 2D 07 7B 1A 2E C9 4E 6C 69 0D 92 F3 69 1B 45\n",
        "8E 68 5B F7 43 42 3B C8 98 80 9B AC 59 3D AB 1C\n",
        "73 6A 83 A2 20 31 1F 20 02 16 DF 28 2F 84 4A 72\n",
        "C3 F1 23 8F FD FC AA 32 92 1E C2 18 D9 13 29 B6\n",
        "A2 CC 5F AC CD EB A5 48 AE 6A 80 8B 47 06 41 D3\n",
        "6D BE 80 B6 5A 7C 86 3E 39 DA 65 FF 78 C8 3C 53\n",
        "D6 BD A2 27 AF 94 DD CE C2 05 FD A9 EB 63 DD ED\n",
        "4E A1 17 8E 4F 57 98 4B B2 F4 2E B5 DD 5C 38 AE\n",
        "39 94 3A 3D FF 03 00 15 92 B3 5E 7E BF 25 A1 E8\n",
        "D0 D3 13 B4 99 79 80 93 60 E5 42 4B 1E A8 DF 7B\n",
        "7A B5 B0 55 07 7E E4 C7 6A 7D 4D 01 E9 6E D9 76\n",
        "02 71 8A DD 58 E3 4E 1E E7 45 C7 EF C8 18 A3 77'''"
      ],
      "metadata": {
        "id": "t4bVDagbo1FG"
      },
      "execution_count": 47,
      "outputs": []
    },
    {
      "cell_type": "code",
      "execution_count": 48,
      "metadata": {
        "id": "EguhqsgIoOTl"
      },
      "outputs": [],
      "source": [
        "modulo = modulo.replace(' ', '')\n",
        "modulo = modulo.replace('\\n', '')\n",
        "modulo = int(modulo, 16)"
      ]
    },
    {
      "cell_type": "code",
      "source": [
        "print('El modulo es:')\n",
        "print(modulo)\n",
        "print('El modulo tiene', len(str(modulo)), 'dígitos')\n",
        "print('El exponente público es', exponentePublico)"
      ],
      "metadata": {
        "colab": {
          "base_uri": "https://localhost:8080/"
        },
        "id": "pgS1RClbpRKZ",
        "outputId": "ea7cf5a8-7b94-4aea-e942-e238e059759c"
      },
      "execution_count": 49,
      "outputs": [
        {
          "output_type": "stream",
          "name": "stdout",
          "text": [
            "El modulo es:\n",
            "643353183200092094287771675345221470010077629570715127404791684658292676146258015596958199149307800248646412074806402713345405555081170237753105542354684208619132518842723761824119200367033102378675040596360890232050015927575092514853608500408281492709084825821114563373317007098338129291091372712149614623307473988341465977307145752705448273512348134128938358986609643424139880228535842593559221687695145242873591558628568048836430658763963628457559544656711786049228438123628688782475462783972073491969055071501707972940833772753016350946584992156170455681183858334172706286837128565378248759075309162659580574430676771515129978897420613649359259526062256680143079870493073398084497931098873418020976977974721325500443350148701944644764873813928657096695060301865446376943751792046183219540156504462769309116980510428926960863497599865711668561576864719822190421309237150056376914612222922525939922046810299500313041779504422706733308439869413686737049578366809035296945443953798010938544066680985820077138377974822115049336106352949077227851726631333176196420428097177276681272065534315670606060953264744935518704733533552192151247631322510337116144318115750922555584769639254837994316871502659521941029235075453497312888953021303\n",
            "El modulo tiene 1233 dígitos\n",
            "El exponente público es 65537\n"
          ]
        }
      ]
    },
    {
      "cell_type": "markdown",
      "source": [
        "#  ¿Qué tipo de claves públicas y tamaños admite?\n"
      ],
      "metadata": {
        "id": "bUfF-nkVqkOe"
      }
    },
    {
      "cell_type": "markdown",
      "source": [
        " RSA keys whose modulus size in bits is divisible by 8, and is at least 2048 bits\n",
        "  - Code Signing certificates for end users will have at least 3072 bits\n",
        "  - ECDSA keys on the P-256 or P-384 curves"
      ],
      "metadata": {
        "id": "gWP-8PAErVdi"
      }
    },
    {
      "cell_type": "markdown",
      "source": [
        "# ¿Cúantos certificados revocados contiene la CRL?"
      ],
      "metadata": {
        "id": "nGEZy-nDrfwQ"
      }
    },
    {
      "cell_type": "code",
      "source": [
        "!openssl crl -inform DER -text -noout -in /content/GEANTOVRSACA4.crl -out /content/certificados.txt"
      ],
      "metadata": {
        "id": "s7nZ1H9ErmXb"
      },
      "execution_count": 50,
      "outputs": []
    },
    {
      "cell_type": "code",
      "source": [
        "with open('/content/certificados.txt', 'r') as f:\n",
        "  certificados = f.read()"
      ],
      "metadata": {
        "id": "mI2iJBKesBq9"
      },
      "execution_count": 51,
      "outputs": []
    },
    {
      "cell_type": "code",
      "source": [
        "print('El numero de certificados revocados es', certificados.count('Serial Number'))"
      ],
      "metadata": {
        "colab": {
          "base_uri": "https://localhost:8080/"
        },
        "id": "5Qyr8upcshhb",
        "outputId": "a7b3a206-8603-402f-ad65-b82a29613d07"
      },
      "execution_count": 52,
      "outputs": [
        {
          "output_type": "stream",
          "name": "stdout",
          "text": [
            "El numero de certificados revocados es 13997\n"
          ]
        }
      ]
    },
    {
      "cell_type": "markdown",
      "source": [
        "#  ¿Cuál es el estatus del certificado y hasta cuándo es válido dicho estatus?\n"
      ],
      "metadata": {
        "id": "U5oVkKwRs1t_"
      }
    },
    {
      "cell_type": "markdown",
      "source": [
        "Convertimos en PEM ya que no funcionaba correctamente con el .crt"
      ],
      "metadata": {
        "id": "WRnh-DXz4DNS"
      }
    },
    {
      "cell_type": "code",
      "source": [
        "!openssl x509 -in /content/GEANTOVRSACA4.crt -inform der -out /content/GEANTOVRSACA4.pem"
      ],
      "metadata": {
        "id": "japhmJh232pN"
      },
      "execution_count": 55,
      "outputs": []
    },
    {
      "cell_type": "code",
      "source": [
        "!openssl ocsp -issuer /content/GEANTOVRSACA4.pem -cert /content/www-fib-upc-es.pem -text -url http://GEANT.ocsp.sectigo.com"
      ],
      "metadata": {
        "colab": {
          "base_uri": "https://localhost:8080/"
        },
        "id": "Inwcovxez2jA",
        "outputId": "bf179ed8-f237-497f-dfff-ba4e2681d534"
      },
      "execution_count": 56,
      "outputs": [
        {
          "output_type": "stream",
          "name": "stdout",
          "text": [
            "OCSP Request Data:\n",
            "    Version: 1 (0x0)\n",
            "    Requestor List:\n",
            "        Certificate ID:\n",
            "          Hash Algorithm: sha1\n",
            "          Issuer Name Hash: C3FDEA1EAA0EBEDE75016EEC6E5BB393F0F12E5D\n",
            "          Issuer Key Hash: 6F1D3549106C32FA59A09EBC8AE81F95BE717A0C\n",
            "          Serial Number: 6B5C1B440B67BE12F2211067F58A3AAA\n",
            "    Request Extensions:\n",
            "        OCSP Nonce: \n",
            "            0410E9CD5574BDED6BC727C16D2970171732\n",
            "OCSP Response Data:\n",
            "    OCSP Response Status: successful (0x0)\n",
            "    Response Type: Basic OCSP Response\n",
            "    Version: 1 (0x0)\n",
            "    Responder Id: 6F1D3549106C32FA59A09EBC8AE81F95BE717A0C\n",
            "    Produced At: Dec 12 08:34:05 2022 GMT\n",
            "    Responses:\n",
            "    Certificate ID:\n",
            "      Hash Algorithm: sha1\n",
            "      Issuer Name Hash: C3FDEA1EAA0EBEDE75016EEC6E5BB393F0F12E5D\n",
            "      Issuer Key Hash: 6F1D3549106C32FA59A09EBC8AE81F95BE717A0C\n",
            "      Serial Number: 6B5C1B440B67BE12F2211067F58A3AAA\n",
            "    Cert Status: good\n",
            "    This Update: Dec 12 08:34:05 2022 GMT\n",
            "    Next Update: Dec 19 08:34:04 2022 GMT\n",
            "\n",
            "    Signature Algorithm: sha384WithRSAEncryption\n",
            "         8a:b3:59:f3:bb:fb:08:f9:06:75:98:47:09:60:36:8b:32:5b:\n",
            "         17:e2:18:bc:a5:ba:8d:8e:6e:93:9f:15:38:6d:f3:14:3c:a5:\n",
            "         dc:9d:65:72:26:d9:1e:4b:5c:2f:84:bf:8e:f1:3d:8e:38:f1:\n",
            "         3c:14:ce:50:48:f4:83:7e:e1:39:ee:b9:01:a6:25:0f:f6:21:\n",
            "         48:9b:00:70:04:47:40:f8:a0:ca:80:39:c3:63:e7:2a:d0:14:\n",
            "         71:7c:be:ca:43:64:ae:ed:61:1e:bf:22:02:42:9b:92:3a:5e:\n",
            "         1a:e3:65:a2:ae:e5:70:0c:ca:4a:ab:d7:ae:06:71:09:df:c3:\n",
            "         7a:83:24:37:d0:7b:8f:00:3d:60:39:53:b7:b8:2d:bf:7d:76:\n",
            "         24:01:a2:d3:a6:10:44:8f:1f:2f:e8:47:77:c6:6d:99:e4:76:\n",
            "         12:fe:05:23:f5:7c:e9:75:66:00:b6:58:af:0d:1d:5c:cc:9f:\n",
            "         45:d5:c8:7c:84:01:1e:22:c8:df:fa:ed:bd:3b:b1:ac:d8:7b:\n",
            "         1a:7f:a9:d1:b0:d3:f5:1e:22:a2:f4:81:7b:8c:dc:df:f5:aa:\n",
            "         fe:29:3a:80:65:92:c5:53:aa:1f:d6:23:04:16:bf:2a:6e:46:\n",
            "         c6:92:40:2b:f1:0e:9d:cc:b1:c7:1b:23:33:0f:c8:7b:c0:6d:\n",
            "         38:3e:8b:55:98:bd:c1:a4:8e:28:bf:1b:d3:ea:c5:dc:29:c3:\n",
            "         93:55:cd:1c:11:f3:61:76:42:f2:14:b7:18:db:65:85:51:e4:\n",
            "         a4:77:c0:3e:59:27:71:e2:4f:b6:a4:47:e2:c6:62:bc:f2:db:\n",
            "         3e:3d:dd:3d:d0:3c:20:e8:a6:6f:2b:cc:99:de:4f:a0:ad:63:\n",
            "         71:bb:71:73:9b:8f:3e:37:b9:6d:78:70:97:be:b6:1d:00:ec:\n",
            "         23:eb:88:29:08:6a:d0:1f:48:6e:4b:2d:ed:96:1a:33:1a:fe:\n",
            "         ae:06:00:0d:76:b5:ef:3d:b0:0e:a7:3f:e0:65:e7:2c:63:f9:\n",
            "         c4:21:90:4d:aa:2f:f4:9c:90:6b:cf:3a:f2:1a:38:e5:7c:63:\n",
            "         05:7f:9d:3f:5e:a7:85:db:df:6e:5d:85:d1:e6:6d:f9:ac:96:\n",
            "         06:89:e2:20:a8:e7:c6:4a:8b:12:46:a2:e2:de:41:ff:c7:01:\n",
            "         76:40:55:7a:3d:c3:58:d9:63:0f:af:f0:16:fa:cb:4a:62:b1:\n",
            "         15:18:f7:3e:78:5c:de:b5:d2:d5:2f:43:cb:46:f0:fc:34:4b:\n",
            "         ef:67:e1:40:b7:74:d5:f4:dd:17:b1:78:d5:6b:4c:42:3f:7c:\n",
            "         f0:0a:69:ac:74:ef:87:2f:47:35:a4:ef:ef:6e:d1:53:51:b1:\n",
            "         b2:8f:af:33:89:e2:50:93\n",
            "WARNING: no nonce in response\n",
            "Response verify OK\n",
            "/content/www-fib-upc-es.pem: good\n",
            "\tThis Update: Dec 12 08:34:05 2022 GMT\n",
            "\tNext Update: Dec 19 08:34:04 2022 GMT\n"
          ]
        }
      ]
    },
    {
      "cell_type": "code",
      "source": [],
      "metadata": {
        "id": "sDaqlkri0spk"
      },
      "execution_count": 46,
      "outputs": []
    }
  ]
}