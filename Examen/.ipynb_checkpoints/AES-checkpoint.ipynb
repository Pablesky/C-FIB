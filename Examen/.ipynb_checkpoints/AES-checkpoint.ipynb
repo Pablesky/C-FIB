{
 "cells": [
  {
   "cell_type": "markdown",
   "id": "4cbbf025",
   "metadata": {},
   "source": [
    "# AES\n",
    "Prueba todos los modos con las claves e iv seleccionadas.\n",
    "\n",
    "Guarda los posibles ficheros con el siguiente sentido:\n",
    "\n",
    "    -Primero el numero de la lista\n",
    "    \n",
    "    -El modo de AES\n",
    "    \n",
    "    -La extension"
   ]
  },
  {
   "cell_type": "code",
   "execution_count": 15,
   "id": "7471c4d9",
   "metadata": {},
   "outputs": [],
   "source": [
    "from Crypto.Cipher import AES\n",
    "import filetype"
   ]
  },
  {
   "cell_type": "code",
   "execution_count": 16,
   "id": "dd13826b",
   "metadata": {},
   "outputs": [],
   "source": [
    "modos = [AES.MODE_ECB, AES.MODE_CBC, AES.MODE_CFB, AES.MODE_OFB, AES.MODE_CTR, AES.MODE_OPENPGP, AES.MODE_CCM, AES.MODE_EAX, AES.MODE_GCM, AES.MODE_SIV, AES.MODE_OCB]\n",
    "translate = {AES.MODE_ECB:'ECB', AES.MODE_CBC:'CBC', AES.MODE_CFB:'CFB', AES.MODE_OFB:'OFB', AES.MODE_CTR:'CTR', AES.MODE_OPENPGP:'OPENPGP', AES.MODE_CCM:'CCM', AES.MODE_EAX:'EAX', AES.MODE_GCM:'GCM', AES.MODE_SIV:'SIV', AES.MODE_OCB:'OCB'}"
   ]
  },
  {
   "cell_type": "code",
   "execution_count": 17,
   "id": "0e9832d3",
   "metadata": {},
   "outputs": [],
   "source": [
    "key = open('AES_pablo.vega.gallego_2022_09_29_11_10_44.key', 'rb').read()\n",
    "iv = open('AES_pablo.vega.gallego_2022_09_29_11_10_44.iv', 'rb').read()\n",
    "texto = open('AES_pablo.vega.gallego_2022_09_29_11_10_44.enc', 'rb').read()"
   ]
  },
  {
   "cell_type": "code",
   "execution_count": 18,
   "id": "2b64a2c6",
   "metadata": {},
   "outputs": [],
   "source": [
    "extensiones = []\n",
    "contenido = []\n",
    "modosF = []\n",
    "for modo in modos:\n",
    "    try:\n",
    "        obj = AES.new(key, modo, iv)\n",
    "        algo = obj.decrypt(texto)\n",
    "        tipo = filetype.guess(algo)\n",
    "        if not tipo is None:\n",
    "            extensiones.append(tipo)\n",
    "            contenido.append(algo)\n",
    "            modosF.append(modo)\n",
    "    except:\n",
    "        continue"
   ]
  },
  {
   "cell_type": "code",
   "execution_count": 20,
   "id": "558f8a90",
   "metadata": {},
   "outputs": [],
   "source": [
    "for i in range(0, len(extensiones)):\n",
    "    with open(str(i) + translate[modosF[i]] + '.' + extensiones[i].extension, \"wb\") as binary_file:\n",
    "        binary_file.write(contenido[i])"
   ]
  }
 ],
 "metadata": {
  "kernelspec": {
   "display_name": "Python 3 (ipykernel)",
   "language": "python",
   "name": "python3"
  },
  "language_info": {
   "codemirror_mode": {
    "name": "ipython",
    "version": 3
   },
   "file_extension": ".py",
   "mimetype": "text/x-python",
   "name": "python",
   "nbconvert_exporter": "python",
   "pygments_lexer": "ipython3",
   "version": "3.10.6"
  }
 },
 "nbformat": 4,
 "nbformat_minor": 5
}
