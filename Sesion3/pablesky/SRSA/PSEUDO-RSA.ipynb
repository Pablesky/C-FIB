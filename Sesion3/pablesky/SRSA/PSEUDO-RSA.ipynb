{
 "cells": [
  {
   "cell_type": "code",
   "execution_count": 2,
   "id": "5b6906f0",
   "metadata": {},
   "outputs": [
    {
     "name": "stdout",
     "output_type": "stream",
     "text": [
      "Requirement already satisfied: pycryptodome in /home/deeplearning/.local/lib/python3.8/site-packages (3.15.0)\n",
      "Collecting filetype\n",
      "  Downloading filetype-1.2.0-py2.py3-none-any.whl (19 kB)\n",
      "Installing collected packages: filetype\n",
      "Successfully installed filetype-1.2.0\n",
      "Collecting sympy\n",
      "\u001b[33m  WARNING: Retrying (Retry(total=4, connect=None, read=None, redirect=None, status=None)) after connection broken by 'NewConnectionError('<urllib3.connection.VerifiedHTTPSConnection object at 0x7efcec442a60>: Failed to establish a new connection: [Errno 101] Network is unreachable')': /packages/2d/49/a2d03101e2d28ad528968144831d506344418ef1cc04839acdbe185889c2/sympy-1.11.1-py3-none-any.whl\u001b[0m\n",
      "  Downloading sympy-1.11.1-py3-none-any.whl (6.5 MB)\n",
      "\u001b[K     |████████████████████████████████| 6.5 MB 945 kB/s eta 0:00:01\n",
      "\u001b[?25hCollecting mpmath>=0.19\n",
      "  Downloading mpmath-1.2.1-py3-none-any.whl (532 kB)\n",
      "\u001b[K     |████████████████████████████████| 532 kB 8.2 MB/s eta 0:00:01\n",
      "\u001b[?25hInstalling collected packages: mpmath, sympy\n",
      "Successfully installed mpmath-1.2.1 sympy-1.11.1\n"
     ]
    }
   ],
   "source": [
    "!pip install pycryptodome\n",
    "!pip install filetype\n",
    "!pip install sympy"
   ]
  },
  {
   "cell_type": "code",
   "execution_count": 24,
   "id": "d9859b41",
   "metadata": {},
   "outputs": [],
   "source": [
    "from Crypto.Cipher import AES\n",
    "import filetype\n",
    "from Crypto.PublicKey import RSA\n",
    "from glob import glob\n",
    "from math import gcd\n",
    "from sympy import *\n",
    "import os"
   ]
  },
  {
   "cell_type": "code",
   "execution_count": 25,
   "id": "73d82bde",
   "metadata": {},
   "outputs": [],
   "source": [
    "ruta = \"./keys/\""
   ]
  },
  {
   "cell_type": "code",
   "execution_count": 26,
   "id": "1a38ec91",
   "metadata": {},
   "outputs": [],
   "source": [
    "aes = ruta + \"pablo.vega.gallego_AES_pseudo.enc\""
   ]
  },
  {
   "cell_type": "code",
   "execution_count": 27,
   "id": "8bf11177",
   "metadata": {},
   "outputs": [],
   "source": [
    "pem = ruta + \"pablo.vega.gallego_pubkeyRSA_pseudo.pem\"\n",
    "\n",
    "#pem = ruta + 'natasha.trojan_pubkeyRSA_pseudo.pem'"
   ]
  },
  {
   "cell_type": "code",
   "execution_count": 28,
   "id": "efe4c2ac",
   "metadata": {},
   "outputs": [],
   "source": [
    "rsa = ruta + \"pablo.vega.gallego_RSA_pseudo.enc\""
   ]
  },
  {
   "cell_type": "code",
   "execution_count": 29,
   "id": "742ab440",
   "metadata": {},
   "outputs": [
    {
     "name": "stdout",
     "output_type": "stream",
     "text": [
      "17181231366303391873898577062930202499686979673305764574003306725162865918368116170678711032740944866138728394952134921252076775494646966652528085073991005136796750544201756132167645132364489116331195797880318163043267901242371677507354398880152587459039524433867736413865889982908266981823772901806382704891433640877282195304210220797188640215793024246713166930444294299041192797079131083907161337063825387274276191724839801313077693863230989409842085334969211920098270734758450805660228044269541846233922766893573054831835886332001513741764232672226913247574014565476793791378670286881130358838909791886138854955169\n",
      "\n",
      "65537\n"
     ]
    }
   ],
   "source": [
    "with open(pem, 'r') as f:\n",
    "    rsakey = f.read()\n",
    "\n",
    "pubkey = RSA.importKey(rsakey)\n",
    "personal = pubkey.n\n",
    "public_exponent = pubkey.e\n",
    "print(personal)\n",
    "print()\n",
    "print(public_exponent)"
   ]
  },
  {
   "cell_type": "code",
   "execution_count": 30,
   "id": "ae77b796",
   "metadata": {},
   "outputs": [
    {
     "data": {
      "text/plain": [
       "True"
      ]
     },
     "execution_count": 30,
     "metadata": {},
     "output_type": "execute_result"
    }
   ],
   "source": [
    "len(bin(personal)[2:]) % 4 == 0"
   ]
  },
  {
   "cell_type": "code",
   "execution_count": 31,
   "id": "62af5638",
   "metadata": {},
   "outputs": [
    {
     "data": {
      "text/plain": [
       "512"
      ]
     },
     "execution_count": 31,
     "metadata": {},
     "output_type": "execute_result"
    }
   ],
   "source": [
    "N = len(bin(personal)[2:])//4\n",
    "N"
   ]
  },
  {
   "cell_type": "code",
   "execution_count": 32,
   "id": "917f4872",
   "metadata": {},
   "outputs": [],
   "source": [
    "binpersona = bin(personal)[2:]"
   ]
  },
  {
   "cell_type": "code",
   "execution_count": 33,
   "id": "80374bfb",
   "metadata": {},
   "outputs": [],
   "source": [
    "primero = binpersona[0:N]\n",
    "segundo = binpersona[N:2*N]\n",
    "tercero = binpersona[2*N:3*N]\n",
    "cuarto = binpersona[3*N:4*N]"
   ]
  },
  {
   "cell_type": "code",
   "execution_count": 34,
   "id": "04d9f0ba",
   "metadata": {},
   "outputs": [
    {
     "data": {
      "text/plain": [
       "True"
      ]
     },
     "execution_count": 34,
     "metadata": {},
     "output_type": "execute_result"
    }
   ],
   "source": [
    "personal == int(primero+segundo+tercero+cuarto, 2)"
   ]
  },
  {
   "cell_type": "code",
   "execution_count": 35,
   "id": "40aa6f75",
   "metadata": {},
   "outputs": [
    {
     "name": "stdout",
     "output_type": "stream",
     "text": [
      "[8120470032484937215252352830373054957005429959946418105737831966927293227804430640111052886726065514448123577935787451501083134212657907371004421738067647, 11769487670416003154947777018232547194230957256023044363985701026726845357363799664299211884815687412739135955509843804465741245736272155354245040492439711]\n"
     ]
    }
   ],
   "source": [
    "var('x')\n",
    "for i in range(0, 2**N):\n",
    "    c = int(bin(i)[2:] + segundo + tercero, 2)\n",
    "    primeroAct = bin(int(primero, 2) - i)[2:]\n",
    "    RS = int(primeroAct + cuarto, 2)\n",
    "    RSinv = int(cuarto + primeroAct, 2)\n",
    "    r2s2 = c - RSinv\n",
    "    rs2 = r2s2 + 2*RS\n",
    "    rs = sqrt(rs2)\n",
    "    sol = solve(x**2 - x*rs + RS, x)\n",
    "    if type(sol[0]) == Integer:\n",
    "        print(sol)\n",
    "        break"
   ]
  },
  {
   "cell_type": "code",
   "execution_count": 36,
   "id": "08b1ffa6",
   "metadata": {},
   "outputs": [
    {
     "data": {
      "text/plain": [
       "[8120470032484937215252352830373054957005429959946418105737831966927293227804430640111052886726065514448123577935787451501083134212657907371004421738067647,\n",
       " 11769487670416003154947777018232547194230957256023044363985701026726845357363799664299211884815687412739135955509843804465741245736272155354245040492439711]"
      ]
     },
     "execution_count": 36,
     "metadata": {},
     "output_type": "execute_result"
    }
   ],
   "source": [
    "sol"
   ]
  },
  {
   "cell_type": "code",
   "execution_count": 37,
   "id": "f5d81198",
   "metadata": {},
   "outputs": [],
   "source": [
    "p = int(bin(sol[0])[2:] + bin(sol[1])[2:], 2)\n",
    "q = int(bin(sol[1])[2:] + bin(sol[0])[2:], 2)"
   ]
  },
  {
   "cell_type": "code",
   "execution_count": 38,
   "id": "d7833b10",
   "metadata": {},
   "outputs": [
    {
     "data": {
      "text/plain": [
       "True"
      ]
     },
     "execution_count": 38,
     "metadata": {},
     "output_type": "execute_result"
    }
   ],
   "source": [
    "p * q == personal"
   ]
  },
  {
   "cell_type": "code",
   "execution_count": 39,
   "id": "47365ca6",
   "metadata": {},
   "outputs": [],
   "source": [
    "phi = (p-1)*(q-1)\n",
    "\n",
    "private_exponent = pow(public_exponent, -1, phi)\n",
    "\n",
    "key = RSA.construct((int(personal), int(public_exponent), int(private_exponent)), consistency_check=False)"
   ]
  },
  {
   "cell_type": "code",
   "execution_count": 40,
   "id": "0b2b5b56",
   "metadata": {},
   "outputs": [],
   "source": [
    "f = open('privateKey_Pablo_Vega.pem','wb')\n",
    "f.write(key.exportKey('PEM'))\n",
    "f.close()"
   ]
  },
  {
   "cell_type": "code",
   "execution_count": 41,
   "id": "2f6e225a",
   "metadata": {},
   "outputs": [
    {
     "data": {
      "text/plain": [
       "0"
      ]
     },
     "execution_count": 41,
     "metadata": {},
     "output_type": "execute_result"
    }
   ],
   "source": [
    "os.system('openssl rsautl -decrypt -in pablo.vega.gallego_RSA_pseudo.enc -out AESkey.txt -inkey privateKey_Pablo_Vega.pem')"
   ]
  },
  {
   "cell_type": "code",
   "execution_count": 42,
   "id": "7d558e3c",
   "metadata": {},
   "outputs": [
    {
     "data": {
      "text/plain": [
       "0"
      ]
     },
     "execution_count": 42,
     "metadata": {},
     "output_type": "execute_result"
    }
   ],
   "source": [
    "os.system('openssl enc -d -aes-128-cbc -pbkdf2 -kfile AESkey.txt -in pablo.vega.gallego_AES_pseudo.enc -out desencriptado.txt')"
   ]
  },
  {
   "cell_type": "code",
   "execution_count": 43,
   "id": "0eb0939e",
   "metadata": {},
   "outputs": [],
   "source": [
    "with open('desencriptado.txt', 'rb') as f:\n",
    "    desencriptado = f.read()"
   ]
  },
  {
   "cell_type": "code",
   "execution_count": 44,
   "id": "d1bf5f77",
   "metadata": {},
   "outputs": [
    {
     "name": "stdout",
     "output_type": "stream",
     "text": [
      "jpg\n"
     ]
    }
   ],
   "source": [
    "tipo = filetype.guess(desencriptado)\n",
    "extension = tipo.extension\n",
    "print(extension)"
   ]
  },
  {
   "cell_type": "code",
   "execution_count": 45,
   "id": "0618a851",
   "metadata": {},
   "outputs": [],
   "source": [
    "with open('PabloVega.' + extension, \"wb\") as binary_file:\n",
    "        binary_file.write(desencriptado)"
   ]
  },
  {
   "cell_type": "code",
   "execution_count": null,
   "id": "fee298c6",
   "metadata": {},
   "outputs": [],
   "source": []
  }
 ],
 "metadata": {
  "kernelspec": {
   "display_name": "Python 3 (ipykernel)",
   "language": "python",
   "name": "python3"
  },
  "language_info": {
   "codemirror_mode": {
    "name": "ipython",
    "version": 3
   },
   "file_extension": ".py",
   "mimetype": "text/x-python",
   "name": "python",
   "nbconvert_exporter": "python",
   "pygments_lexer": "ipython3",
   "version": "3.8.10"
  }
 },
 "nbformat": 4,
 "nbformat_minor": 5
}
