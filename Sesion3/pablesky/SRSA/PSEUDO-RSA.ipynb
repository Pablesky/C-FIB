{
 "cells": [
  {
   "cell_type": "code",
   "execution_count": 1,
   "id": "d9859b41",
   "metadata": {},
   "outputs": [],
   "source": [
    "from Crypto.Cipher import AES\n",
    "import filetype\n",
    "from Crypto.PublicKey import RSA\n",
    "from glob import glob\n",
    "from math import gcd\n",
    "from sympy import *\n",
    "import os"
   ]
  },
  {
   "cell_type": "code",
   "execution_count": 2,
   "id": "73d82bde",
   "metadata": {},
   "outputs": [],
   "source": [
    "ruta = \"./keys/\""
   ]
  },
  {
   "cell_type": "code",
   "execution_count": 3,
   "id": "1a38ec91",
   "metadata": {},
   "outputs": [],
   "source": [
    "aes = ruta + \"pablo.vega.gallego_AES_pseudo.enc\""
   ]
  },
  {
   "cell_type": "code",
   "execution_count": 13,
   "id": "8bf11177",
   "metadata": {},
   "outputs": [],
   "source": [
    "pem = ruta + \"pablo.vega.gallego_pubkeyRSA_pseudo.pem\"\n",
    "\n",
    "pem = ruta + 'natasha.trojan_pubkeyRSA_pseudo.pem'"
   ]
  },
  {
   "cell_type": "code",
   "execution_count": 5,
   "id": "efe4c2ac",
   "metadata": {},
   "outputs": [],
   "source": [
    "rsa = ruta + \"pablo.vega.gallego_RSA_pseudo.enc\""
   ]
  },
  {
   "cell_type": "code",
   "execution_count": 14,
   "id": "742ab440",
   "metadata": {},
   "outputs": [
    {
     "name": "stdout",
     "output_type": "stream",
     "text": [
      "21228709888260993109738529818092331932017625154792132658524539262261695428472333282238868788988830233993262565457190379712573509325772228622985502106064673014779230362576916690807467149087625889102461212634961805480984957312450261548919984169493892133015536155758300914767745245258165563771508208144796530313571810409714310998922221766450889468049655436793779994891476780612207817517407008396701644614922727860794070071130084187111808701112953498899394441214461098124270194608340738237694954697622550811680350905977649299820008903967471297393232894320581670732540393517218730450741857927882197017278655790244328926189\n",
      "\n",
      "65537\n"
     ]
    }
   ],
   "source": [
    "with open(pem, 'r') as f:\n",
    "    rsakey = f.read()\n",
    "\n",
    "pubkey = RSA.importKey(rsakey)\n",
    "personal = pubkey.n\n",
    "public_exponent = pubkey.e\n",
    "print(personal)\n",
    "print()\n",
    "print(public_exponent)"
   ]
  },
  {
   "cell_type": "code",
   "execution_count": 15,
   "id": "ae77b796",
   "metadata": {},
   "outputs": [
    {
     "data": {
      "text/plain": [
       "True"
      ]
     },
     "execution_count": 15,
     "metadata": {},
     "output_type": "execute_result"
    }
   ],
   "source": [
    "len(bin(personal)[2:]) % 4 == 0"
   ]
  },
  {
   "cell_type": "code",
   "execution_count": 16,
   "id": "62af5638",
   "metadata": {},
   "outputs": [
    {
     "data": {
      "text/plain": [
       "512"
      ]
     },
     "execution_count": 16,
     "metadata": {},
     "output_type": "execute_result"
    }
   ],
   "source": [
    "N = len(bin(personal)[2:])//4\n",
    "N"
   ]
  },
  {
   "cell_type": "code",
   "execution_count": 17,
   "id": "917f4872",
   "metadata": {},
   "outputs": [],
   "source": [
    "binpersona = bin(personal)[2:]"
   ]
  },
  {
   "cell_type": "code",
   "execution_count": 18,
   "id": "80374bfb",
   "metadata": {},
   "outputs": [],
   "source": [
    "primero = binpersona[0:N]\n",
    "segundo = binpersona[N:2*N]\n",
    "tercero = binpersona[2*N:3*N]\n",
    "cuarto = binpersona[3*N:4*N]"
   ]
  },
  {
   "cell_type": "code",
   "execution_count": 19,
   "id": "04d9f0ba",
   "metadata": {},
   "outputs": [
    {
     "data": {
      "text/plain": [
       "True"
      ]
     },
     "execution_count": 19,
     "metadata": {},
     "output_type": "execute_result"
    }
   ],
   "source": [
    "personal == int(primero+segundo+tercero+cuarto, 2)"
   ]
  },
  {
   "cell_type": "code",
   "execution_count": 20,
   "id": "40aa6f75",
   "metadata": {},
   "outputs": [
    {
     "name": "stdout",
     "output_type": "stream",
     "text": [
      "[9374304029389676731118239817282212946710593812728057328804809275979400326783275909773320912557274933077812019697023993333812096630983187439627817023997145, 12597054478421417822621364716021607058230767954589934264498239771721149603200799594203091533950150551468880092278902908930834791730802831672326137656468277]\n"
     ]
    }
   ],
   "source": [
    "var('x')\n",
    "for i in range(0, 2**N):\n",
    "    c = int(bin(i)[2:] + segundo + tercero, 2)\n",
    "    primeroAct = bin(int(primero, 2) - i)[2:]\n",
    "    RS = int(primeroAct + cuarto, 2)\n",
    "    RSinv = int(cuarto + primeroAct, 2)\n",
    "    r2s2 = c - RSinv\n",
    "    rs2 = r2s2 + 2*RS\n",
    "    rs = sqrt(rs2)\n",
    "    sol = solve(x**2 - x*rs + RS, x)\n",
    "    if type(sol[0]) == Integer:\n",
    "        print(sol)\n",
    "        break"
   ]
  },
  {
   "cell_type": "code",
   "execution_count": 13,
   "id": "08b1ffa6",
   "metadata": {},
   "outputs": [
    {
     "data": {
      "text/plain": [
       "[8120470032484937215252352830373054957005429959946418105737831966927293227804430640111052886726065514448123577935787451501083134212657907371004421738067647,\n",
       " 11769487670416003154947777018232547194230957256023044363985701026726845357363799664299211884815687412739135955509843804465741245736272155354245040492439711]"
      ]
     },
     "execution_count": 13,
     "metadata": {},
     "output_type": "execute_result"
    }
   ],
   "source": [
    "sol"
   ]
  },
  {
   "cell_type": "code",
   "execution_count": 14,
   "id": "f5d81198",
   "metadata": {},
   "outputs": [],
   "source": [
    "p = int(bin(sol[0])[2:] + bin(sol[1])[2:], 2)\n",
    "q = int(bin(sol[1])[2:] + bin(sol[0])[2:], 2)"
   ]
  },
  {
   "cell_type": "code",
   "execution_count": 15,
   "id": "d7833b10",
   "metadata": {},
   "outputs": [
    {
     "data": {
      "text/plain": [
       "True"
      ]
     },
     "execution_count": 15,
     "metadata": {},
     "output_type": "execute_result"
    }
   ],
   "source": [
    "p * q == personal"
   ]
  },
  {
   "cell_type": "code",
   "execution_count": 62,
   "id": "47365ca6",
   "metadata": {},
   "outputs": [],
   "source": [
    "phi = (p-1)*(q-1)\n",
    "\n",
    "private_exponent = pow(public_exponent, -1, phi)\n",
    "\n",
    "key = RSA.construct((int(personal), int(public_exponent), int(private_exponent)), consistency_check=False)"
   ]
  },
  {
   "cell_type": "code",
   "execution_count": 63,
   "id": "0b2b5b56",
   "metadata": {},
   "outputs": [],
   "source": [
    "f = open('privateKey_Pablo_Vega.pem','wb')\n",
    "f.write(key.exportKey('PEM'))\n",
    "f.close()"
   ]
  },
  {
   "cell_type": "code",
   "execution_count": 64,
   "id": "2f6e225a",
   "metadata": {},
   "outputs": [
    {
     "name": "stderr",
     "output_type": "stream",
     "text": [
      "The command rsautl was deprecated in version 3.0. Use 'pkeyutl' instead.\n"
     ]
    },
    {
     "data": {
      "text/plain": [
       "0"
      ]
     },
     "execution_count": 64,
     "metadata": {},
     "output_type": "execute_result"
    }
   ],
   "source": [
    "os.system('openssl rsautl -decrypt -in pablo.vega.gallego_RSA_pseudo.enc -out AESkey.txt -inkey privateKey_Pablo_Vega.pem')"
   ]
  },
  {
   "cell_type": "code",
   "execution_count": 65,
   "id": "7d558e3c",
   "metadata": {},
   "outputs": [
    {
     "data": {
      "text/plain": [
       "0"
      ]
     },
     "execution_count": 65,
     "metadata": {},
     "output_type": "execute_result"
    }
   ],
   "source": [
    "os.system('openssl enc -d -aes-128-cbc -pbkdf2 -kfile AESkey.txt -in pablo.vega.gallego_AES_pseudo.enc -out desencriptado.txt')"
   ]
  },
  {
   "cell_type": "code",
   "execution_count": 66,
   "id": "0eb0939e",
   "metadata": {},
   "outputs": [],
   "source": [
    "with open('desencriptado.txt', 'rb') as f:\n",
    "    desencriptado = f.read()"
   ]
  },
  {
   "cell_type": "code",
   "execution_count": 67,
   "id": "d1bf5f77",
   "metadata": {},
   "outputs": [
    {
     "data": {
      "text/plain": [
       "<filetype.types.image.Jpeg at 0x7fd48456aaa0>"
      ]
     },
     "execution_count": 67,
     "metadata": {},
     "output_type": "execute_result"
    }
   ],
   "source": [
    "filetype.guess(desencriptado)"
   ]
  },
  {
   "cell_type": "code",
   "execution_count": 68,
   "id": "0618a851",
   "metadata": {},
   "outputs": [],
   "source": [
    "with open('foto.png', \"wb\") as binary_file:\n",
    "        binary_file.write(desencriptado)"
   ]
  },
  {
   "cell_type": "code",
   "execution_count": null,
   "id": "fee298c6",
   "metadata": {},
   "outputs": [],
   "source": []
  }
 ],
 "metadata": {
  "kernelspec": {
   "display_name": "Python 3 (ipykernel)",
   "language": "python",
   "name": "python3"
  },
  "language_info": {
   "codemirror_mode": {
    "name": "ipython",
    "version": 3
   },
   "file_extension": ".py",
   "mimetype": "text/x-python",
   "name": "python",
   "nbconvert_exporter": "python",
   "pygments_lexer": "ipython3",
   "version": "3.10.6"
  }
 },
 "nbformat": 4,
 "nbformat_minor": 5
}
