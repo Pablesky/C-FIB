{
 "cells": [
  {
   "cell_type": "code",
   "execution_count": 134,
   "id": "8c0abbbe",
   "metadata": {},
   "outputs": [],
   "source": [
    "from Crypto.Cipher import AES\n",
    "import filetype\n",
    "from Crypto.PublicKey import RSA\n",
    "from glob import glob\n",
    "from math import gcd\n",
    "from sympy import *"
   ]
  },
  {
   "cell_type": "code",
   "execution_count": 135,
   "id": "aab95a50",
   "metadata": {},
   "outputs": [],
   "source": [
    "r = 215\n",
    "s = 223\n",
    "N = 8"
   ]
  },
  {
   "cell_type": "code",
   "execution_count": 136,
   "id": "8b985b4b",
   "metadata": {},
   "outputs": [],
   "source": [
    "binr = bin(r)[2:]\n",
    "bins = bin(s)[2:]"
   ]
  },
  {
   "cell_type": "code",
   "execution_count": 137,
   "id": "35ce9d5a",
   "metadata": {},
   "outputs": [],
   "source": [
    "p = int(binr + bins, 2)\n",
    "q = int(bins + binr, 2)\n",
    "n = p * q\n",
    "binn = bin(n)[2:]"
   ]
  },
  {
   "cell_type": "code",
   "execution_count": 148,
   "id": "7e86cbb9",
   "metadata": {},
   "outputs": [],
   "source": [
    "primero = binn[0:N]\n",
    "segundo = binn[N:2*N]\n",
    "tercero = binn[2*N:3*N]\n",
    "cuarto = binn[3*N:4*N]"
   ]
  },
  {
   "cell_type": "code",
   "execution_count": 139,
   "id": "ea15d2d0",
   "metadata": {
    "scrolled": true
   },
   "outputs": [
    {
     "name": "stdout",
     "output_type": "stream",
     "text": [
      "188\n",
      "192\n",
      "141\n",
      "73\n"
     ]
    }
   ],
   "source": [
    "print(int(primero, 2))\n",
    "print(int(segundo, 2))\n",
    "print(int(tercero, 2))\n",
    "print(int(cuarto,2))"
   ]
  },
  {
   "cell_type": "code",
   "execution_count": 140,
   "id": "3e20780d",
   "metadata": {},
   "outputs": [
    {
     "data": {
      "text/plain": [
       "True"
      ]
     },
     "execution_count": 140,
     "metadata": {},
     "output_type": "execute_result"
    }
   ],
   "source": [
    "n == int(primero+segundo+tercero+cuarto, 2)"
   ]
  },
  {
   "cell_type": "code",
   "execution_count": 141,
   "id": "1a604782",
   "metadata": {},
   "outputs": [],
   "source": [
    "primero = bin(int(primero, 2) - 1)[2:]"
   ]
  },
  {
   "cell_type": "code",
   "execution_count": 142,
   "id": "863b7752",
   "metadata": {},
   "outputs": [],
   "source": [
    "RS = int(primero + cuarto, 2)\n",
    "RSinv = int(cuarto + primero, 2)\n",
    "c = int(bin(1)[2:] + segundo + tercero, 2)"
   ]
  },
  {
   "cell_type": "code",
   "execution_count": 143,
   "id": "f32467de",
   "metadata": {},
   "outputs": [
    {
     "data": {
      "text/plain": [
       "True"
      ]
     },
     "execution_count": 143,
     "metadata": {},
     "output_type": "execute_result"
    }
   ],
   "source": [
    "RS == r*s"
   ]
  },
  {
   "cell_type": "code",
   "execution_count": 144,
   "id": "181af7d5",
   "metadata": {},
   "outputs": [],
   "source": [
    "r2s2 = c - RSinv"
   ]
  },
  {
   "cell_type": "code",
   "execution_count": 145,
   "id": "cfa1d4dc",
   "metadata": {},
   "outputs": [],
   "source": [
    "rs2 = r2s2 + 2*RS"
   ]
  },
  {
   "cell_type": "code",
   "execution_count": 146,
   "id": "16979455",
   "metadata": {},
   "outputs": [
    {
     "data": {
      "text/latex": [
       "$\\displaystyle 438$"
      ],
      "text/plain": [
       "438"
      ]
     },
     "execution_count": 146,
     "metadata": {},
     "output_type": "execute_result"
    }
   ],
   "source": [
    "rs = sqrt(rs2)\n",
    "rs"
   ]
  },
  {
   "cell_type": "code",
   "execution_count": 132,
   "id": "975210b8",
   "metadata": {},
   "outputs": [
    {
     "data": {
      "text/plain": [
       "[215, 223]"
      ]
     },
     "execution_count": 132,
     "metadata": {},
     "output_type": "execute_result"
    }
   ],
   "source": [
    "var('x')\n",
    "solve(x**2 - x*rs + RS, x)"
   ]
  },
  {
   "cell_type": "code",
   "execution_count": 150,
   "id": "5bf72864",
   "metadata": {},
   "outputs": [
    {
     "name": "stdout",
     "output_type": "stream",
     "text": [
      "[sqrt(31577) - 4*sqrt(1023)*I, sqrt(31577) + 4*sqrt(1023)*I]\n",
      "[215, 223]\n",
      "[-20*sqrt(41) + sqrt(64345), 20*sqrt(41) + sqrt(64345)]\n",
      "[-4*sqrt(2049) + sqrt(80729), 4*sqrt(2049) + sqrt(80729)]\n",
      "[-4*sqrt(3073) + sqrt(97113), 4*sqrt(3073) + sqrt(97113)]\n",
      "[-4*sqrt(4097) + sqrt(113497), 4*sqrt(4097) + sqrt(113497)]\n",
      "[-12*sqrt(569) + sqrt(129881), 12*sqrt(569) + sqrt(129881)]\n",
      "[-4*sqrt(6145) + 7*sqrt(2985), 4*sqrt(6145) + 7*sqrt(2985)]\n",
      "[-4*sqrt(7169) + sqrt(162649), 4*sqrt(7169) + sqrt(162649)]\n",
      "[-4*sqrt(8193) + sqrt(179033), 4*sqrt(8193) + sqrt(179033)]\n",
      "[-4*sqrt(9217) + 3*sqrt(21713), 4*sqrt(9217) + 3*sqrt(21713)]\n",
      "[-28*sqrt(209) + sqrt(211801), 28*sqrt(209) + sqrt(211801)]\n",
      "[-4*sqrt(11265) + sqrt(228185), 4*sqrt(11265) + sqrt(228185)]\n",
      "[-4*sqrt(12289) + sqrt(244569), 4*sqrt(12289) + sqrt(244569)]\n",
      "[-4*sqrt(13313) + sqrt(260953), 4*sqrt(13313) + sqrt(260953)]\n",
      "[-36*sqrt(177) + sqrt(277337), 36*sqrt(177) + sqrt(277337)]\n",
      "[-4*sqrt(15361) + sqrt(293721), 4*sqrt(15361) + sqrt(293721)]\n",
      "[-4*sqrt(16385) + sqrt(310105), 4*sqrt(16385) + sqrt(310105)]\n",
      "[-4*sqrt(17409) + sqrt(326489), 4*sqrt(17409) + sqrt(326489)]\n",
      "[-4*sqrt(18433) + 9*sqrt(4233), 4*sqrt(18433) + 9*sqrt(4233)]\n",
      "[-4*sqrt(19457) + sqrt(359257), 4*sqrt(19457) + sqrt(359257)]\n",
      "[-4*sqrt(20481) + sqrt(375641), 4*sqrt(20481) + sqrt(375641)]\n",
      "[-4*sqrt(21505) + 5*sqrt(15681), 4*sqrt(21505) + 5*sqrt(15681)]\n",
      "[-4*sqrt(22529) + sqrt(408409), 4*sqrt(22529) + sqrt(408409)]\n",
      "[-12*sqrt(2617) + sqrt(424793), 12*sqrt(2617) + sqrt(424793)]\n",
      "[-4*sqrt(24577) + sqrt(441177), 4*sqrt(24577) + sqrt(441177)]\n",
      "[-4*sqrt(25601) + sqrt(457561), 4*sqrt(25601) + sqrt(457561)]\n",
      "[-20*sqrt(1065) + sqrt(473945), 20*sqrt(1065) + sqrt(473945)]\n",
      "[-4*sqrt(27649) + 3*sqrt(54481), 4*sqrt(27649) + 3*sqrt(54481)]\n",
      "[-4*sqrt(28673) + sqrt(506713), 4*sqrt(28673) + sqrt(506713)]\n",
      "[-4*sqrt(29697) + sqrt(523097), 4*sqrt(29697) + sqrt(523097)]\n",
      "[-4*sqrt(30721) + sqrt(539481), 4*sqrt(30721) + sqrt(539481)]\n",
      "[-4*sqrt(31745) + sqrt(555865), 4*sqrt(31745) + sqrt(555865)]\n",
      "[-12*sqrt(3641) + sqrt(572249), 12*sqrt(3641) + sqrt(572249)]\n",
      "[-4*sqrt(33793) + sqrt(588633), 4*sqrt(33793) + sqrt(588633)]\n",
      "[-4*sqrt(34817) + sqrt(605017), 4*sqrt(34817) + sqrt(605017)]\n",
      "[-4*sqrt(35841) + sqrt(621401), 4*sqrt(35841) + sqrt(621401)]\n",
      "[-4*sqrt(36865) + 3*sqrt(70865), 4*sqrt(36865) + 3*sqrt(70865)]\n",
      "[-4*sqrt(37889) + sqrt(654169), 4*sqrt(37889) + sqrt(654169)]\n",
      "[-4*sqrt(38913) + sqrt(670553), 4*sqrt(38913) + sqrt(670553)]\n",
      "[-4*sqrt(39937) + sqrt(686937), 4*sqrt(39937) + sqrt(686937)]\n",
      "[-4*sqrt(40961) + sqrt(703321), 4*sqrt(40961) + sqrt(703321)]\n",
      "[-12*sqrt(4665) + sqrt(719705), 12*sqrt(4665) + sqrt(719705)]\n",
      "[-4*sqrt(43009) + sqrt(736089), 4*sqrt(43009) + sqrt(736089)]\n",
      "[-4*sqrt(44033) + sqrt(752473), 4*sqrt(44033) + sqrt(752473)]\n",
      "[-4*sqrt(45057) + sqrt(768857), 4*sqrt(45057) + sqrt(768857)]\n",
      "[-4*sqrt(46081) + 3*sqrt(87249), 4*sqrt(46081) + 3*sqrt(87249)]\n",
      "[-4*sqrt(47105) + 55*sqrt(265), 4*sqrt(47105) + 55*sqrt(265)]\n",
      "[-4*sqrt(48129) + sqrt(818009), 4*sqrt(48129) + sqrt(818009)]\n",
      "[-4*sqrt(49153) + sqrt(834393), 4*sqrt(49153) + sqrt(834393)]\n",
      "[-4*sqrt(50177) + sqrt(850777), 4*sqrt(50177) + sqrt(850777)]\n",
      "[-12*sqrt(5689) + sqrt(867161), 12*sqrt(5689) + sqrt(867161)]\n",
      "[-20*sqrt(2089) + sqrt(883545), 20*sqrt(2089) + sqrt(883545)]\n",
      "[-4*sqrt(53249) + sqrt(899929), 4*sqrt(53249) + sqrt(899929)]\n",
      "[-4*sqrt(54273) + sqrt(916313), 4*sqrt(54273) + sqrt(916313)]\n",
      "[-44*sqrt(457) + 3*sqrt(103633), 44*sqrt(457) + 3*sqrt(103633)]\n",
      "[-4*sqrt(56321) + 7*sqrt(19369), 4*sqrt(56321) + 7*sqrt(19369)]\n",
      "[-4*sqrt(57345) + sqrt(965465), 4*sqrt(57345) + sqrt(965465)]\n",
      "[-4*sqrt(58369) + sqrt(981849), 4*sqrt(58369) + sqrt(981849)]\n",
      "[-4*sqrt(59393) + sqrt(998233), 4*sqrt(59393) + sqrt(998233)]\n",
      "[-84*sqrt(137) + sqrt(1014617), 84*sqrt(137) + sqrt(1014617)]\n",
      "[-4*sqrt(61441) + sqrt(1031001), 4*sqrt(61441) + sqrt(1031001)]\n",
      "[-124*sqrt(65) + sqrt(1047385), 124*sqrt(65) + sqrt(1047385)]\n",
      "[-4*sqrt(63489) + sqrt(1063769), 4*sqrt(63489) + sqrt(1063769)]\n",
      "[-4*sqrt(64513) + 3*sqrt(120017), 4*sqrt(64513) + 3*sqrt(120017)]\n",
      "[-4*sqrt(65537) + sqrt(1096537), 4*sqrt(65537) + sqrt(1096537)]\n",
      "[-4*sqrt(66561) + sqrt(1112921), 4*sqrt(66561) + sqrt(1112921)]\n",
      "[-4*sqrt(67585) + sqrt(1129305), 4*sqrt(67585) + sqrt(1129305)]\n",
      "[-4*sqrt(68609) + sqrt(1145689), 4*sqrt(68609) + sqrt(1145689)]\n",
      "[-12*sqrt(7737) + sqrt(1162073), 12*sqrt(7737) + sqrt(1162073)]\n",
      "[-4*sqrt(70657) + sqrt(1178457), 4*sqrt(70657) + sqrt(1178457)]\n",
      "[-4*sqrt(71681) + sqrt(1194841), 4*sqrt(71681) + sqrt(1194841)]\n",
      "[-4*sqrt(72705) + 5*sqrt(48449), 4*sqrt(72705) + 5*sqrt(48449)]\n",
      "[-4*sqrt(73729) + 3*sqrt(136401), 4*sqrt(73729) + 3*sqrt(136401)]\n",
      "[-4*sqrt(74753) + sqrt(1243993), 4*sqrt(74753) + sqrt(1243993)]\n",
      "[-4*sqrt(75777) + sqrt(1260377), 4*sqrt(75777) + sqrt(1260377)]\n",
      "[-4*sqrt(76801) + sqrt(1276761), 4*sqrt(76801) + sqrt(1276761)]\n",
      "[-20*sqrt(3113) + sqrt(1293145), 20*sqrt(3113) + sqrt(1293145)]\n",
      "[-12*sqrt(8761) + sqrt(1309529), 12*sqrt(8761) + sqrt(1309529)]\n",
      "[-4*sqrt(79873) + sqrt(1325913), 4*sqrt(79873) + sqrt(1325913)]\n",
      "[-4*sqrt(80897) + sqrt(1342297), 4*sqrt(80897) + sqrt(1342297)]\n",
      "[-4*sqrt(81921) + sqrt(1358681), 4*sqrt(81921) + sqrt(1358681)]\n",
      "[-4*sqrt(82945) + 3*sqrt(152785), 4*sqrt(82945) + 3*sqrt(152785)]\n",
      "[-4*sqrt(83969) + sqrt(1391449), 4*sqrt(83969) + sqrt(1391449)]\n",
      "[-4*sqrt(84993) + sqrt(1407833), 4*sqrt(84993) + sqrt(1407833)]\n",
      "[-4*sqrt(86017) + sqrt(1424217), 4*sqrt(86017) + sqrt(1424217)]\n",
      "[-4*sqrt(87041) + sqrt(1440601), 4*sqrt(87041) + sqrt(1440601)]\n",
      "[-12*sqrt(9785) + sqrt(1456985), 12*sqrt(9785) + sqrt(1456985)]\n",
      "[-4*sqrt(89089) + sqrt(1473369), 4*sqrt(89089) + sqrt(1473369)]\n",
      "[-4*sqrt(90113) + sqrt(1489753), 4*sqrt(90113) + sqrt(1489753)]\n",
      "[-4*sqrt(91137) + sqrt(1506137), 4*sqrt(91137) + sqrt(1506137)]\n",
      "[-4*sqrt(92161) + 39*sqrt(1001), 4*sqrt(92161) + 39*sqrt(1001)]\n",
      "[-4*sqrt(93185) + sqrt(1538905), 4*sqrt(93185) + sqrt(1538905)]\n",
      "[-4*sqrt(94209) + sqrt(1555289), 4*sqrt(94209) + sqrt(1555289)]\n",
      "[-4*sqrt(95233) + sqrt(1571673), 4*sqrt(95233) + sqrt(1571673)]\n",
      "[-4*sqrt(96257) + sqrt(1588057), 4*sqrt(96257) + sqrt(1588057)]\n",
      "[-36*sqrt(1201) + sqrt(1604441), 36*sqrt(1201) + sqrt(1604441)]\n",
      "[-4*sqrt(98305) + 5*sqrt(64833), 4*sqrt(98305) + 5*sqrt(64833)]\n",
      "[-4*sqrt(99329) + sqrt(1637209), 4*sqrt(99329) + sqrt(1637209)]\n",
      "[-4*sqrt(100353) + sqrt(1653593), 4*sqrt(100353) + sqrt(1653593)]\n"
     ]
    }
   ],
   "source": [
    "var('x')\n",
    "for i in range(0, 100):\n",
    "    c = int(bin(i)[2:] + segundo + tercero, 2)\n",
    "    primeroAct = bin(int(primero, 2) - 1)[2:]\n",
    "    RS = int(primeroAct + cuarto, 2)\n",
    "    RSinv = int(cuarto + primeroAct, 2)\n",
    "    r2s2 = c - RSinv\n",
    "    rs2 = r2s2 + 2*RS\n",
    "    rs = sqrt(rs2)\n",
    "    print(solve(x**2 - x*rs + RS, x))"
   ]
  },
  {
   "cell_type": "code",
   "execution_count": null,
   "id": "2ab83ab0",
   "metadata": {},
   "outputs": [],
   "source": []
  }
 ],
 "metadata": {
  "kernelspec": {
   "display_name": "Python 3 (ipykernel)",
   "language": "python",
   "name": "python3"
  },
  "language_info": {
   "codemirror_mode": {
    "name": "ipython",
    "version": 3
   },
   "file_extension": ".py",
   "mimetype": "text/x-python",
   "name": "python",
   "nbconvert_exporter": "python",
   "pygments_lexer": "ipython3",
   "version": "3.10.6"
  }
 },
 "nbformat": 4,
 "nbformat_minor": 5
}
