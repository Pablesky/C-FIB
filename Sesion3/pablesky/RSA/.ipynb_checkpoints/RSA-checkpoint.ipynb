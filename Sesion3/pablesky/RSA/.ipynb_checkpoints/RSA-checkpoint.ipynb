{
 "cells": [
  {
   "cell_type": "code",
   "execution_count": null,
   "id": "5fa1384f",
   "metadata": {},
   "outputs": [],
   "source": [
    "%pip install pycryptodome\n",
    "%pip install filetype"
   ]
  },
  {
   "cell_type": "code",
   "execution_count": 32,
   "id": "0a9d1ad3",
   "metadata": {},
   "outputs": [],
   "source": [
    "from Crypto.Cipher import AES\n",
    "import filetype\n",
    "from Crypto.PublicKey import RSA\n",
    "from glob import glob\n",
    "from math import gcd\n",
    "import os"
   ]
  },
  {
   "cell_type": "code",
   "execution_count": 33,
   "id": "670cd55f",
   "metadata": {},
   "outputs": [
    {
     "name": "stdout",
     "output_type": "stream",
     "text": [
      "12800032670689292379526711945669482043487644976317237084263536174427345983772924727880182264579537914882316347485871273755269325840083142846267548498275386577325621609154693549802432360724902595749054391305874152266688458518322778001102404549748858924981207582702596762785750401021852347195467284376043073127222606912814391000794852408679675720120427317505218600443973367638315189539502819941309684926841578467131023876206996157169195958796218132479233059116942731820413857791016251857680764505251311773878791754973215607683168941534093112281587782163869950615984559634404885208421648577538375731290884054354814931151\n",
      "\n",
      "65537\n"
     ]
    }
   ],
   "source": [
    "ficheros = glob('./*.pem')\n",
    "with open(ficheros[-1], 'r') as f:\n",
    "        key_encoded = f.read()\n",
    "\n",
    "pubkey = RSA.importKey(key_encoded)\n",
    "personal = pubkey.n\n",
    "public_exponent = pubkey.e\n",
    "print(personal)\n",
    "print()\n",
    "print(public_exponent)"
   ]
  },
  {
   "cell_type": "code",
   "execution_count": 34,
   "id": "0681be6b",
   "metadata": {},
   "outputs": [],
   "source": [
    "ficheros = glob('./publickeys/*')\n",
    "posibles = []\n",
    "for fichero in ficheros:\n",
    "    with open(fichero, 'r') as f:\n",
    "        key_encoded = f.read()\n",
    "        \n",
    "    pubkey = RSA.importKey(key_encoded)\n",
    "    others = pubkey.n\n",
    "    p = gcd(personal, others)\n",
    "    if p != 1:\n",
    "        posibles.append(p)\n",
    "    "
   ]
  },
  {
   "cell_type": "code",
   "execution_count": 35,
   "id": "86ccb734",
   "metadata": {},
   "outputs": [
    {
     "data": {
      "text/plain": [
       "True"
      ]
     },
     "execution_count": 35,
     "metadata": {},
     "output_type": "execute_result"
    }
   ],
   "source": [
    "p = posibles[0]\n",
    "q = posibles[1]\n",
    "\n",
    "(p*q) == personal"
   ]
  },
  {
   "cell_type": "code",
   "execution_count": 36,
   "id": "09f94a81",
   "metadata": {},
   "outputs": [],
   "source": [
    "inverse = (2**16+1)^-1\n",
    "phi = (p-1)*(q-1)\n",
    "\n",
    "private_exponent = mod(inverse, phi)"
   ]
  },
  {
   "cell_type": "code",
   "execution_count": 37,
   "id": "9ef55252",
   "metadata": {},
   "outputs": [],
   "source": [
    "key = RSA.construct((int(personal), int(public_exponent), int(private_exponent)), consistency_check=False)\n",
    "\n",
    "f = open('privateKey_Pablo_Vega.pem','wb')\n",
    "f.write(key.export_key('PEM'))\n",
    "f.close()"
   ]
  },
  {
   "cell_type": "code",
   "execution_count": 38,
   "id": "082db908",
   "metadata": {},
   "outputs": [
    {
     "name": "stderr",
     "output_type": "stream",
     "text": [
      "The command rsautl was deprecated in version 3.0. Use 'pkeyutl' instead.\n"
     ]
    },
    {
     "data": {
      "text/plain": [
       "0"
      ]
     },
     "execution_count": 38,
     "metadata": {},
     "output_type": "execute_result"
    }
   ],
   "source": [
    "os.system('openssl rsautl -decrypt -in pablo.vega.gallego_RSA_RW.enc -out AESkey.txt -inkey privateKey_Pablo_Vega.pem')"
   ]
  },
  {
   "cell_type": "code",
   "execution_count": 39,
   "id": "3c85cb8a",
   "metadata": {},
   "outputs": [],
   "source": [
    "with open('AESkey.txt', 'rb') as f:\n",
    "    AESkey = f.read()"
   ]
  },
  {
   "cell_type": "code",
   "execution_count": 40,
   "id": "b0282c67",
   "metadata": {},
   "outputs": [
    {
     "data": {
      "text/plain": [
       "0"
      ]
     },
     "execution_count": 40,
     "metadata": {},
     "output_type": "execute_result"
    }
   ],
   "source": [
    "os.system('openssl enc -d -aes-128-cbc -pbkdf2 -kfile AESkey.txt -in pablo.vega.gallego_AES_RW.enc -out desencriptado.txt')"
   ]
  },
  {
   "cell_type": "code",
   "execution_count": 41,
   "id": "d2462982",
   "metadata": {},
   "outputs": [],
   "source": [
    "with open('desencriptado.txt', 'rb') as f:\n",
    "    desencriptado = f.read()"
   ]
  },
  {
   "cell_type": "code",
   "execution_count": 42,
   "id": "0f2c5d6f",
   "metadata": {},
   "outputs": [
    {
     "data": {
      "text/plain": [
       "<filetype.types.image.Png object at 0x7fc5a3887bb0>"
      ]
     },
     "execution_count": 42,
     "metadata": {},
     "output_type": "execute_result"
    }
   ],
   "source": [
    "filetype.guess(desencriptado)"
   ]
  },
  {
   "cell_type": "code",
   "execution_count": 43,
   "id": "eede5185",
   "metadata": {},
   "outputs": [],
   "source": [
    "with open('foto.png', \"wb\") as binary_file:\n",
    "        binary_file.write(desencriptado)"
   ]
  },
  {
   "cell_type": "code",
   "execution_count": null,
   "id": "0456e77a",
   "metadata": {},
   "outputs": [],
   "source": []
  }
 ],
 "metadata": {
  "kernelspec": {
   "display_name": "SageMath 9.5",
   "language": "sage",
   "name": "sagemath"
  },
  "language_info": {
   "codemirror_mode": {
    "name": "ipython",
    "version": 3
   },
   "file_extension": ".py",
   "mimetype": "text/x-python",
   "name": "python",
   "nbconvert_exporter": "python",
   "pygments_lexer": "ipython3",
   "version": "3.10.6"
  }
 },
 "nbformat": 4,
 "nbformat_minor": 5
}
