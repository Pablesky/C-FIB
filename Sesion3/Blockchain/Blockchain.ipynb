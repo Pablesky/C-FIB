{
 "cells": [
  {
   "cell_type": "markdown",
   "id": "218a2487",
   "metadata": {},
   "source": [
    "# Blockchain Main Classes"
   ]
  },
  {
   "cell_type": "code",
   "execution_count": 28,
   "id": "7e5f08c8",
   "metadata": {},
   "outputs": [],
   "source": [
    "import hashlib\n",
    "import pickle"
   ]
  },
  {
   "cell_type": "markdown",
   "id": "ac71a465",
   "metadata": {},
   "source": [
    "## Completar la clase RSA_KEY"
   ]
  },
  {
   "cell_type": "code",
   "execution_count": 81,
   "id": "778f6cda",
   "metadata": {},
   "outputs": [],
   "source": [
    "class rsa_key:            \n",
    "    def __init__(self,bits_modulo=2048,e=2**16+1):\n",
    "        def generatePQ(NdeBits):\n",
    "            r1=randint(0,2^(NdeBits/2));\n",
    "            r2=randint(0,2^(NdeBits/2));\n",
    "            p=next_probable_prime(r1);\n",
    "            while gcd(e,p-1)!=1:\n",
    "                print( \".\");\n",
    "                p=next_probable_prime(p+2);\n",
    "\n",
    "            q=next_probable_prime(r2);\n",
    "            while gcd(e,q-1)!=1:\n",
    "                print( \"+\");\n",
    "                q=next_probable_prime(q+2);\n",
    "            return p, q\n",
    "\n",
    "        \n",
    "        self.primeP, self.primeQ = generatePQ(bits_modulo)\n",
    "        self.publicExponent = e\n",
    "        self.privateExponent = mod(e^-1, (self.primeP-1)*(self.primeQ-1))\n",
    "        self.modulus = self.primeP * self.primeQ\n",
    "        self.privateExponentModulusPhiP = mod(self.privateExponent, self.primeP-1)\n",
    "        self.privateExponentModulusPhiQ = mod(self.privateExponent, self.primeQ-1)\n",
    "        self.inverseQModulusP = mod(self.primeQ^-1, self.primeP)\n",
    "        \n",
    "    def sign(self,message):\n",
    "        mp=Integer(mod(message^self.privateExponentModulusPhiP,self.primeP));\n",
    "        mq=Integer(mod(message^self.privateExponentModulusPhiQ,self.primeQ));\n",
    "        h=mod((mp-mq)*Integer(self.inverseQModulusP),self.modulus);\n",
    "        m_tcr=mod((mq+self.primeQ*h),self.modulus);\n",
    "        return m_tcr\n",
    "    \n",
    "    def sign_slow(self,message):\n",
    "        return pow(message,self.privateExponent,self.modulus)"
   ]
  },
  {
   "cell_type": "markdown",
   "id": "c0b782f4",
   "metadata": {},
   "source": [
    "## Completar la clase RSA_PUBLIC_KEY"
   ]
  },
  {
   "cell_type": "code",
   "execution_count": 30,
   "id": "e3f63823",
   "metadata": {},
   "outputs": [],
   "source": [
    "class rsa_public_key:\n",
    "    def __init__(self, rsa_key):\n",
    "        self.publicExponent = rsa_key.publicExponent\n",
    "        self.modulus = rsa_key.modulus\n",
    "    def verify(self, message, signature):\n",
    "        return message == pow(signature,self.publicExponent,self.modulus)"
   ]
  },
  {
   "cell_type": "markdown",
   "id": "db3a8dbe",
   "metadata": {},
   "source": [
    "## Completar la clase TRANSACTION"
   ]
  },
  {
   "cell_type": "code",
   "execution_count": 31,
   "id": "40557a7e",
   "metadata": {},
   "outputs": [],
   "source": [
    "class transaction:\n",
    "    def __init__(self, message, RSAkey):\n",
    "        self.public_key = rsa_public_key(RSAkey)\n",
    "        self.message = message\n",
    "        self.signature = RSAkey.sign(message)\n",
    "    def verify(self):\n",
    "        return self.public_key.verify(self.message, self.signature)"
   ]
  },
  {
   "cell_type": "markdown",
   "id": "eef9ff98",
   "metadata": {},
   "source": [
    "## Completar la clase BLOCK"
   ]
  },
  {
   "cell_type": "code",
   "execution_count": 32,
   "id": "005f8a8a",
   "metadata": {},
   "outputs": [],
   "source": [
    "class block:\n",
    "    def __init__(self):\n",
    "        self.block_hash = 0\n",
    "        self.previous_block_hash = 0\n",
    "        self.transaction = transaction(0, rsa_key())\n",
    "        self.seed = -1\n",
    "        self.rango = 2^32\n",
    "        \n",
    "    def genesis(self,transaction):\n",
    "        d = 16\n",
    "        previous_block_hash = 0\n",
    "        valido = False\n",
    "        while not valido and self.seed < self.rango:\n",
    "            self.seed += 1\n",
    "            entrada=str(previous_block_hash)\n",
    "            entrada=entrada+str(transaction.public_key.publicExponent)\n",
    "            entrada=entrada+str(transaction.public_key.modulus)\n",
    "            entrada=entrada+str(transaction.message)\n",
    "            entrada=entrada+str(transaction.signature)\n",
    "            entrada=entrada+str(seed)\n",
    "            h=int(hashlib.sha256(entrada.encode()).hexdigest(),d)\n",
    "            valido = verify_hash(h, d)\n",
    "            \n",
    "        \n",
    "        self.previous_block = 0\n",
    "        self.block_hash = h\n",
    "        self.transaction = transaction\n",
    "        \n",
    "    def next_block(self, transaction):\n",
    "        d = 16\n",
    "        previous_block_hash = self.block_hash\n",
    "        self.seed = -1\n",
    "        while not valido and self.seed < self.rango:\n",
    "            self.seed += 1\n",
    "            entrada=str(previous_block_hash)\n",
    "            entrada=entrada+str(transaction.public_key.publicExponent)\n",
    "            entrada=entrada+str(transaction.public_key.modulus)\n",
    "            entrada=entrada+str(transaction.message)\n",
    "            entrada=entrada+str(transaction.signature)\n",
    "            entrada=entrada+str(seed)\n",
    "            h=int(hashlib.sha256(entrada.encode()).hexdigest(),d)\n",
    "            valido = verify_hash(h, d)\n",
    "        \n",
    "        self.previous_block = self.block_hash\n",
    "        self.block_hash = h\n",
    "        self.transaction = transaction\n",
    "        \n",
    "    def verify_block(self):\n",
    "        d = 16\n",
    "        condicion1 = self.transaction.verify()\n",
    "        condicion2 = self.block_hash < (2^(256-d))\n",
    "        condicion3 = self.previous_block_hash < (2^(256-d))\n",
    "        \n",
    "        return condicion1 and condicion2 and condicion3\n",
    "    \n",
    "    def verify_hash(self, hash_code, d):\n",
    "        return hash_code < (2^(256-d))"
   ]
  },
  {
   "cell_type": "markdown",
   "id": "1b2f838e",
   "metadata": {},
   "source": [
    "## Completar la clase BLOCK_CHAIN"
   ]
  },
  {
   "cell_type": "code",
   "execution_count": 36,
   "id": "f74df3d0",
   "metadata": {},
   "outputs": [],
   "source": [
    "class block_chain:\n",
    "    def __init__(self,transaction):\n",
    "        genBloques = block()\n",
    "        first_block = first_block.genesis(transaction)\n",
    "        self.list_of_blocks = [first_block]\n",
    "        \n",
    "    def add_block(self,transaction):\n",
    "        ultimo = self.list_of_blocks[-1]\n",
    "        siguiente = ultimo.next_block(transaction)\n",
    "        self.list_of_blocks.append(siguiente)\n",
    "        \n",
    "    def verify(self):\n",
    "        d = 16\n",
    "        bien = True\n",
    "        index = 0\n",
    "        \n",
    "        bien = self.list_of_blocks[0].previous_block_hash == 0\n",
    "        if not bien:\n",
    "            return bien\n",
    "        \n",
    "        while index < len(self.list_of_blocks) and bien:\n",
    "            actual = self.list_of_blocks[index]\n",
    "            bien = actual.verify_block()\n",
    "            index += 1\n",
    "        \n",
    "        if not bien:\n",
    "            return bien\n",
    "        \n",
    "        index = 0\n",
    "        while index < len(self.list_of_blocks) - 1 and bien:\n",
    "            index += 1\n",
    "            bien = self.list_of_blocks[index-1].block_hash == self.list_of_blocks[index].previous_block_hash\n",
    "        \n",
    "        if not bien:\n",
    "            return bien\n",
    "        \n",
    "        index = -1\n",
    "        while index < len(self.list_of_blocks) - 1 and bien:\n",
    "            index += 1\n",
    "            \n",
    "            previous_block_hash = self.list_of_blocks[index].previous_block_hash\n",
    "            transaction = self.list_of_blocks[index].transaction\n",
    "            seed = self.list_of_blocks[index].seed\n",
    "            \n",
    "            entrada=str(previous_block_hash)\n",
    "            entrada=entrada+str(transaction.public_key.publicExponent)\n",
    "            entrada=entrada+str(transaction.public_key.modulus)\n",
    "            entrada=entrada+str(transaction.message)\n",
    "            entrada=entrada+str(transaction.signature)\n",
    "            entrada=entrada+str(seed)\n",
    "            h=int(hashlib.sha256(entrada.encode()).hexdigest(),d)\n",
    "            \n",
    "            bien = h == self.list_of_blocks[index].block_hash\n",
    "        \n",
    "        return bien"
   ]
  },
  {
   "cell_type": "markdown",
   "id": "f425b34c",
   "metadata": {},
   "source": [
    "# Comprobación de la implementación"
   ]
  },
  {
   "cell_type": "code",
   "execution_count": 53,
   "id": "d3b6d2a6",
   "metadata": {},
   "outputs": [],
   "source": [
    "fichero = 'Cadena_bloques_valida.block'\n",
    "lectura = open(fichero, 'rb')\n",
    "cadenaBloques = pickle.load(lectura)\n",
    "lectura.close()"
   ]
  },
  {
   "cell_type": "code",
   "execution_count": 54,
   "id": "2ba5b7c9",
   "metadata": {},
   "outputs": [
    {
     "name": "stdout",
     "output_type": "stream",
     "text": [
      "True\n"
     ]
    }
   ],
   "source": [
    "print(cadenaBloques.verify())"
   ]
  },
  {
   "cell_type": "code",
   "execution_count": 55,
   "id": "6b487a90",
   "metadata": {},
   "outputs": [],
   "source": [
    "fichero = 'Cadena_bloques_bloque_falso.block'\n",
    "lectura = open(fichero, 'rb')\n",
    "cadenaBloques = pickle.load(lectura)\n",
    "lectura.close()"
   ]
  },
  {
   "cell_type": "code",
   "execution_count": 56,
   "id": "b72a841e",
   "metadata": {},
   "outputs": [
    {
     "name": "stdout",
     "output_type": "stream",
     "text": [
      "False\n"
     ]
    }
   ],
   "source": [
    "print(cadenaBloques.verify())"
   ]
  },
  {
   "cell_type": "code",
   "execution_count": 57,
   "id": "59205052",
   "metadata": {},
   "outputs": [],
   "source": [
    "fichero = 'Cadena_bloques_seed_falsa.block'\n",
    "lectura = open(fichero, 'rb')\n",
    "cadenaBloques = pickle.load(lectura)\n",
    "lectura.close()"
   ]
  },
  {
   "cell_type": "code",
   "execution_count": 58,
   "id": "326c53b1",
   "metadata": {},
   "outputs": [
    {
     "name": "stdout",
     "output_type": "stream",
     "text": [
      "False\n"
     ]
    }
   ],
   "source": [
    "print(cadenaBloques.verify())"
   ]
  },
  {
   "cell_type": "code",
   "execution_count": 59,
   "id": "dd4efc0a",
   "metadata": {},
   "outputs": [],
   "source": [
    "fichero = 'Cadena_bloques_transaccion_falsa.block'\n",
    "lectura = open(fichero, 'rb')\n",
    "cadenaBloques = pickle.load(lectura)\n",
    "lectura.close()"
   ]
  },
  {
   "cell_type": "code",
   "execution_count": 60,
   "id": "d5e9f6af",
   "metadata": {},
   "outputs": [
    {
     "name": "stdout",
     "output_type": "stream",
     "text": [
      "False\n"
     ]
    }
   ],
   "source": [
    "print(cadenaBloques.verify())"
   ]
  },
  {
   "cell_type": "markdown",
   "id": "e99b65d9",
   "metadata": {},
   "source": [
    "# Tablas comparación firmado con TCR y sin TCR"
   ]
  },
  {
   "cell_type": "code",
   "execution_count": null,
   "id": "e6e2c3a5",
   "metadata": {},
   "outputs": [],
   "source": []
  },
  {
   "cell_type": "markdown",
   "id": "6565d929",
   "metadata": {},
   "source": [
    "# Cadena válida de 100 bloques"
   ]
  },
  {
   "cell_type": "code",
   "execution_count": null,
   "id": "f573e1c2",
   "metadata": {},
   "outputs": [],
   "source": []
  },
  {
   "cell_type": "markdown",
   "id": "54691890",
   "metadata": {},
   "source": [
    "# Cadena 100 bloques válida hasta la 41"
   ]
  },
  {
   "cell_type": "code",
   "execution_count": 82,
   "id": "d34d6d74",
   "metadata": {},
   "outputs": [
    {
     "ename": "OverflowError",
     "evalue": "exponent must be at most 9223372036854775807",
     "output_type": "error",
     "traceback": [
      "\u001b[0;31m---------------------------------------------------------------------------\u001b[0m",
      "\u001b[0;31mOverflowError\u001b[0m                             Traceback (most recent call last)",
      "\u001b[0;32m/tmp/ipykernel_4307/742579344.py\u001b[0m in \u001b[0;36m<module>\u001b[0;34m\u001b[0m\n\u001b[1;32m      1\u001b[0m \u001b[0ma\u001b[0m \u001b[0;34m=\u001b[0m \u001b[0mrsa_key\u001b[0m\u001b[0;34m(\u001b[0m\u001b[0;34m)\u001b[0m\u001b[0;34m\u001b[0m\u001b[0;34m\u001b[0m\u001b[0m\n\u001b[1;32m      2\u001b[0m \u001b[0ma\u001b[0m\u001b[0;34m.\u001b[0m\u001b[0msign_slow\u001b[0m\u001b[0;34m(\u001b[0m\u001b[0mInteger\u001b[0m\u001b[0;34m(\u001b[0m\u001b[0;36m2\u001b[0m\u001b[0;34m)\u001b[0m\u001b[0;34m)\u001b[0m\u001b[0;34m\u001b[0m\u001b[0;34m\u001b[0m\u001b[0m\n\u001b[0;32m----> 3\u001b[0;31m \u001b[0ma\u001b[0m\u001b[0;34m.\u001b[0m\u001b[0msign\u001b[0m\u001b[0;34m(\u001b[0m\u001b[0mInteger\u001b[0m\u001b[0;34m(\u001b[0m\u001b[0;36m2\u001b[0m\u001b[0;34m)\u001b[0m\u001b[0;34m)\u001b[0m\u001b[0;34m\u001b[0m\u001b[0;34m\u001b[0m\u001b[0m\n\u001b[0m",
      "\u001b[0;32m/tmp/ipykernel_4307/686292347.py\u001b[0m in \u001b[0;36msign\u001b[0;34m(self, message)\u001b[0m\n\u001b[1;32m     25\u001b[0m \u001b[0;34m\u001b[0m\u001b[0m\n\u001b[1;32m     26\u001b[0m     \u001b[0;32mdef\u001b[0m \u001b[0msign\u001b[0m\u001b[0;34m(\u001b[0m\u001b[0mself\u001b[0m\u001b[0;34m,\u001b[0m\u001b[0mmessage\u001b[0m\u001b[0;34m)\u001b[0m\u001b[0;34m:\u001b[0m\u001b[0;34m\u001b[0m\u001b[0;34m\u001b[0m\u001b[0m\n\u001b[0;32m---> 27\u001b[0;31m         \u001b[0mmp\u001b[0m\u001b[0;34m=\u001b[0m\u001b[0mInteger\u001b[0m\u001b[0;34m(\u001b[0m\u001b[0mmod\u001b[0m\u001b[0;34m(\u001b[0m\u001b[0mmessage\u001b[0m\u001b[0;34m**\u001b[0m\u001b[0mself\u001b[0m\u001b[0;34m.\u001b[0m\u001b[0mprivateExponentModulusPhiP\u001b[0m\u001b[0;34m,\u001b[0m\u001b[0mself\u001b[0m\u001b[0;34m.\u001b[0m\u001b[0mprimeP\u001b[0m\u001b[0;34m)\u001b[0m\u001b[0;34m)\u001b[0m\u001b[0;34m;\u001b[0m\u001b[0;34m\u001b[0m\u001b[0;34m\u001b[0m\u001b[0m\n\u001b[0m\u001b[1;32m     28\u001b[0m         \u001b[0mmq\u001b[0m\u001b[0;34m=\u001b[0m\u001b[0mInteger\u001b[0m\u001b[0;34m(\u001b[0m\u001b[0mmod\u001b[0m\u001b[0;34m(\u001b[0m\u001b[0mmessage\u001b[0m\u001b[0;34m**\u001b[0m\u001b[0mself\u001b[0m\u001b[0;34m.\u001b[0m\u001b[0mprivateExponentModulusPhiQ\u001b[0m\u001b[0;34m,\u001b[0m\u001b[0mself\u001b[0m\u001b[0;34m.\u001b[0m\u001b[0mprimeQ\u001b[0m\u001b[0;34m)\u001b[0m\u001b[0;34m)\u001b[0m\u001b[0;34m;\u001b[0m\u001b[0;34m\u001b[0m\u001b[0;34m\u001b[0m\u001b[0m\n\u001b[1;32m     29\u001b[0m         \u001b[0mh\u001b[0m\u001b[0;34m=\u001b[0m\u001b[0mmod\u001b[0m\u001b[0;34m(\u001b[0m\u001b[0;34m(\u001b[0m\u001b[0mmp\u001b[0m\u001b[0;34m-\u001b[0m\u001b[0mmq\u001b[0m\u001b[0;34m)\u001b[0m\u001b[0;34m*\u001b[0m\u001b[0mInteger\u001b[0m\u001b[0;34m(\u001b[0m\u001b[0mself\u001b[0m\u001b[0;34m.\u001b[0m\u001b[0minverseQModulusP\u001b[0m\u001b[0;34m)\u001b[0m\u001b[0;34m,\u001b[0m\u001b[0mself\u001b[0m\u001b[0;34m.\u001b[0m\u001b[0mmodulus\u001b[0m\u001b[0;34m)\u001b[0m\u001b[0;34m;\u001b[0m\u001b[0;34m\u001b[0m\u001b[0;34m\u001b[0m\u001b[0m\n",
      "\u001b[0;32m/usr/lib/python3/dist-packages/sage/rings/integer.pyx\u001b[0m in \u001b[0;36msage.rings.integer.Integer.__pow__ (build/cythonized/sage/rings/integer.c:14550)\u001b[0;34m()\u001b[0m\n\u001b[1;32m   2151\u001b[0m             \u001b[0;32mreturn\u001b[0m \u001b[0;34m(\u001b[0m\u001b[0;34m<\u001b[0m\u001b[0mInteger\u001b[0m\u001b[0;34m>\u001b[0m\u001b[0mleft\u001b[0m\u001b[0;34m)\u001b[0m\u001b[0;34m.\u001b[0m\u001b[0m_pow_\u001b[0m\u001b[0;34m(\u001b[0m\u001b[0mright\u001b[0m\u001b[0;34m)\u001b[0m\u001b[0;34m\u001b[0m\u001b[0;34m\u001b[0m\u001b[0m\n\u001b[1;32m   2152\u001b[0m         \u001b[0;32melif\u001b[0m \u001b[0misinstance\u001b[0m\u001b[0;34m(\u001b[0m\u001b[0mleft\u001b[0m\u001b[0;34m,\u001b[0m \u001b[0mElement\u001b[0m\u001b[0;34m)\u001b[0m\u001b[0;34m:\u001b[0m\u001b[0;34m\u001b[0m\u001b[0;34m\u001b[0m\u001b[0m\n\u001b[0;32m-> 2153\u001b[0;31m             \u001b[0;32mreturn\u001b[0m \u001b[0mcoercion_model\u001b[0m\u001b[0;34m.\u001b[0m\u001b[0mbin_op\u001b[0m\u001b[0;34m(\u001b[0m\u001b[0mleft\u001b[0m\u001b[0;34m,\u001b[0m \u001b[0mright\u001b[0m\u001b[0;34m,\u001b[0m \u001b[0moperator\u001b[0m\u001b[0;34m.\u001b[0m\u001b[0mpow\u001b[0m\u001b[0;34m)\u001b[0m\u001b[0;34m\u001b[0m\u001b[0;34m\u001b[0m\u001b[0m\n\u001b[0m\u001b[1;32m   2154\u001b[0m         \u001b[0;31m# left is a non-Element: do the powering with a Python int\u001b[0m\u001b[0;34m\u001b[0m\u001b[0;34m\u001b[0m\u001b[0m\n\u001b[1;32m   2155\u001b[0m         \u001b[0;32mreturn\u001b[0m \u001b[0mleft\u001b[0m \u001b[0;34m**\u001b[0m \u001b[0mint\u001b[0m\u001b[0;34m(\u001b[0m\u001b[0mright\u001b[0m\u001b[0;34m)\u001b[0m\u001b[0;34m\u001b[0m\u001b[0;34m\u001b[0m\u001b[0m\n",
      "\u001b[0;32m/usr/lib/python3/dist-packages/sage/structure/coerce.pyx\u001b[0m in \u001b[0;36msage.structure.coerce.CoercionModel.bin_op (build/cythonized/sage/structure/coerce.c:10722)\u001b[0;34m()\u001b[0m\n\u001b[1;32m   1194\u001b[0m                 \u001b[0;32mreturn\u001b[0m \u001b[0;34m(\u001b[0m\u001b[0;34m<\u001b[0m\u001b[0mAction\u001b[0m\u001b[0;34m>\u001b[0m\u001b[0maction\u001b[0m\u001b[0;34m)\u001b[0m\u001b[0;34m.\u001b[0m\u001b[0m_act_\u001b[0m\u001b[0;34m(\u001b[0m\u001b[0mx\u001b[0m\u001b[0;34m,\u001b[0m \u001b[0my\u001b[0m\u001b[0;34m)\u001b[0m\u001b[0;34m\u001b[0m\u001b[0;34m\u001b[0m\u001b[0m\n\u001b[1;32m   1195\u001b[0m             \u001b[0;32melse\u001b[0m\u001b[0;34m:\u001b[0m\u001b[0;34m\u001b[0m\u001b[0;34m\u001b[0m\u001b[0m\n\u001b[0;32m-> 1196\u001b[0;31m                 \u001b[0;32mreturn\u001b[0m \u001b[0;34m(\u001b[0m\u001b[0;34m<\u001b[0m\u001b[0mAction\u001b[0m\u001b[0;34m>\u001b[0m\u001b[0maction\u001b[0m\u001b[0;34m)\u001b[0m\u001b[0;34m.\u001b[0m\u001b[0m_act_\u001b[0m\u001b[0;34m(\u001b[0m\u001b[0my\u001b[0m\u001b[0;34m,\u001b[0m \u001b[0mx\u001b[0m\u001b[0;34m)\u001b[0m\u001b[0;34m\u001b[0m\u001b[0;34m\u001b[0m\u001b[0m\n\u001b[0m\u001b[1;32m   1197\u001b[0m \u001b[0;34m\u001b[0m\u001b[0m\n\u001b[1;32m   1198\u001b[0m         \u001b[0;31m# Now coerce to a common parent and do the operation there\u001b[0m\u001b[0;34m\u001b[0m\u001b[0;34m\u001b[0m\u001b[0m\n",
      "\u001b[0;32m/usr/lib/python3/dist-packages/sage/structure/coerce_actions.pyx\u001b[0m in \u001b[0;36msage.structure.coerce_actions.IntegerPowAction._act_ (build/cythonized/sage/structure/coerce_actions.c:10696)\u001b[0;34m()\u001b[0m\n\u001b[1;32m    891\u001b[0m         \u001b[0;32mif\u001b[0m \u001b[0;32mnot\u001b[0m \u001b[0merr\u001b[0m\u001b[0;34m:\u001b[0m\u001b[0;34m\u001b[0m\u001b[0;34m\u001b[0m\u001b[0m\n\u001b[1;32m    892\u001b[0m             \u001b[0;32mreturn\u001b[0m \u001b[0me\u001b[0m\u001b[0;34m.\u001b[0m\u001b[0m_pow_long\u001b[0m\u001b[0;34m(\u001b[0m\u001b[0mvalue\u001b[0m\u001b[0;34m)\u001b[0m\u001b[0;34m\u001b[0m\u001b[0;34m\u001b[0m\u001b[0m\n\u001b[0;32m--> 893\u001b[0;31m         \u001b[0;32mreturn\u001b[0m \u001b[0me\u001b[0m\u001b[0;34m.\u001b[0m\u001b[0m_pow_int\u001b[0m\u001b[0;34m(\u001b[0m\u001b[0mn\u001b[0m\u001b[0;34m)\u001b[0m\u001b[0;34m\u001b[0m\u001b[0;34m\u001b[0m\u001b[0m\n\u001b[0m\u001b[1;32m    894\u001b[0m \u001b[0;34m\u001b[0m\u001b[0m\n\u001b[1;32m    895\u001b[0m     \u001b[0;32mdef\u001b[0m \u001b[0m_repr_name_\u001b[0m\u001b[0;34m(\u001b[0m\u001b[0mself\u001b[0m\u001b[0;34m)\u001b[0m\u001b[0;34m:\u001b[0m\u001b[0;34m\u001b[0m\u001b[0;34m\u001b[0m\u001b[0m\n",
      "\u001b[0;32m/usr/lib/python3/dist-packages/sage/rings/integer.pyx\u001b[0m in \u001b[0;36msage.rings.integer.Integer._pow_int (build/cythonized/sage/rings/integer.c:15365)\u001b[0;34m()\u001b[0m\n\u001b[1;32m   2276\u001b[0m             \u001b[0;36m1\u001b[0m\u001b[0;34m\u001b[0m\u001b[0;34m\u001b[0m\u001b[0m\n\u001b[1;32m   2277\u001b[0m         \"\"\"\n\u001b[0;32m-> 2278\u001b[0;31m         \u001b[0;32mreturn\u001b[0m \u001b[0mself\u001b[0m\u001b[0;34m.\u001b[0m\u001b[0m_pow_\u001b[0m\u001b[0;34m(\u001b[0m\u001b[0mInteger\u001b[0m\u001b[0;34m(\u001b[0m\u001b[0mn\u001b[0m\u001b[0;34m)\u001b[0m\u001b[0;34m)\u001b[0m\u001b[0;34m\u001b[0m\u001b[0;34m\u001b[0m\u001b[0m\n\u001b[0m\u001b[1;32m   2279\u001b[0m \u001b[0;34m\u001b[0m\u001b[0m\n\u001b[1;32m   2280\u001b[0m     \u001b[0;32mdef\u001b[0m \u001b[0mnth_root\u001b[0m\u001b[0;34m(\u001b[0m\u001b[0mself\u001b[0m\u001b[0;34m,\u001b[0m \u001b[0mint\u001b[0m \u001b[0mn\u001b[0m\u001b[0;34m,\u001b[0m \u001b[0mbint\u001b[0m \u001b[0mtruncate_mode\u001b[0m\u001b[0;34m=\u001b[0m\u001b[0;36m0\u001b[0m\u001b[0;34m)\u001b[0m\u001b[0;34m:\u001b[0m\u001b[0;34m\u001b[0m\u001b[0;34m\u001b[0m\u001b[0m\n",
      "\u001b[0;32m/usr/lib/python3/dist-packages/sage/rings/integer.pyx\u001b[0m in \u001b[0;36msage.rings.integer.Integer._pow_ (build/cythonized/sage/rings/integer.c:14864)\u001b[0;34m()\u001b[0m\n\u001b[1;32m   2229\u001b[0m                 \u001b[0mr\u001b[0m \u001b[0;34m=\u001b[0m \u001b[0msmallInteger\u001b[0m\u001b[0;34m(\u001b[0m\u001b[0;36m1\u001b[0m\u001b[0;34m)\u001b[0m\u001b[0;34m\u001b[0m\u001b[0;34m\u001b[0m\u001b[0m\n\u001b[1;32m   2230\u001b[0m         \u001b[0;32melse\u001b[0m\u001b[0;34m:\u001b[0m\u001b[0;34m\u001b[0m\u001b[0;34m\u001b[0m\u001b[0m\n\u001b[0;32m-> 2231\u001b[0;31m             \u001b[0;32mraise\u001b[0m \u001b[0mOverflowError\u001b[0m\u001b[0;34m(\u001b[0m\u001b[0;34mf\"exponent must be at most {LONG_MAX}\"\u001b[0m\u001b[0;34m)\u001b[0m\u001b[0;34m\u001b[0m\u001b[0;34m\u001b[0m\u001b[0m\n\u001b[0m\u001b[1;32m   2232\u001b[0m         \u001b[0;32mif\u001b[0m \u001b[0mmpz_sgn\u001b[0m\u001b[0;34m(\u001b[0m\u001b[0mexp\u001b[0m\u001b[0;34m)\u001b[0m \u001b[0;34m>=\u001b[0m \u001b[0;36m0\u001b[0m\u001b[0;34m:\u001b[0m\u001b[0;34m\u001b[0m\u001b[0;34m\u001b[0m\u001b[0m\n\u001b[1;32m   2233\u001b[0m             \u001b[0;32mreturn\u001b[0m \u001b[0mr\u001b[0m\u001b[0;34m\u001b[0m\u001b[0;34m\u001b[0m\u001b[0m\n",
      "\u001b[0;31mOverflowError\u001b[0m: exponent must be at most 9223372036854775807"
     ]
    }
   ],
   "source": [
    "a = rsa_key()\n",
    "a.sign_slow(2)\n",
    "a.sign(2)"
   ]
  },
  {
   "cell_type": "code",
   "execution_count": null,
   "id": "33fa0ae4",
   "metadata": {},
   "outputs": [],
   "source": []
  }
 ],
 "metadata": {
  "kernelspec": {
   "display_name": "SageMath 9.5",
   "language": "sage",
   "name": "sagemath"
  },
  "language_info": {
   "codemirror_mode": {
    "name": "ipython",
    "version": 3
   },
   "file_extension": ".py",
   "mimetype": "text/x-python",
   "name": "python",
   "nbconvert_exporter": "python",
   "pygments_lexer": "ipython3",
   "version": "3.10.6"
  }
 },
 "nbformat": 4,
 "nbformat_minor": 5
}
