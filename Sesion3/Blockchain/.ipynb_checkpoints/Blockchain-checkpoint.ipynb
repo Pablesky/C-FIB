{
 "cells": [
  {
   "cell_type": "markdown",
   "id": "218a2487",
   "metadata": {},
   "source": [
    "# Blockchain Main Classes"
   ]
  },
  {
   "cell_type": "code",
   "execution_count": 1,
   "id": "3165cde2",
   "metadata": {},
   "outputs": [],
   "source": [
    "class block:\n",
    "    def __init__(self):\n",
    "        self.block_hash\n",
    "        self.previous_block_hash\n",
    "        self.transaction\n",
    "        self.seed\n",
    "\n",
    "class transaction:\n",
    "    def __init__(self, message, RSAkey):\n",
    "        self.public_key\n",
    "        self.message\n",
    "        self.signature\n",
    "\n",
    "class rsa_key:\n",
    "    def __init__(self,bits_modulo=2048,e=2**16+1):\n",
    "        self.publicExponent\n",
    "        self.privateExponent\n",
    "        self.modulus\n",
    "        self.primeP\n",
    "        self.primeQ\n",
    "        self.privateExponentModulusPhiP\n",
    "        self.privateExponentModulusPhiQ\n",
    "        self.inverseQModulusP\n",
    "\n",
    "class rsa_public_key:\n",
    "    def __init__(self, rsa_key):\n",
    "        self.publicExponent\n",
    "        self.modulus"
   ]
  },
  {
   "cell_type": "markdown",
   "id": "403325bb",
   "metadata": {},
   "source": [
    "# Calcular el Hash de un bloque\n",
    "entrada=str(previous_block_hash)\n",
    "entrada=entrada+str(transaction.public_key.publicExponent)\n",
    "entrada=entrada+str(transaction.public_key.modulus)\n",
    "entrada=entrada+str(transaction.message)\n",
    "entrada=entrada+str(transaction.signature)\n",
    "entrada=entrada+str(seed)\n",
    "h=int(hashlib.sha256(entrada.encode()).hexdigest(),16)"
   ]
  },
  {
   "cell_type": "markdown",
   "id": "ac71a465",
   "metadata": {},
   "source": [
    "# Completar la clase RSA_KEY"
   ]
  },
  {
   "cell_type": "code",
   "execution_count": 52,
   "id": "778f6cda",
   "metadata": {},
   "outputs": [],
   "source": [
    " class rsa_key:\n",
    "        \n",
    "    def generatePQ(self, NdeBits):\n",
    "        r1=randint(0,2^(NdeBits/2));\n",
    "        r2=randint(0,2^(NdeBits/2));\n",
    "        p=next_probable_prime(r1);\n",
    "        while gcd(e,p-1)!=1:\n",
    "            print( \".\");\n",
    "            p=next_probable_prime(p+2);\n",
    "\n",
    "        q=next_probable_prime(r2);\n",
    "        while gcd(e,q-1)!=1:\n",
    "            print( \"+\");\n",
    "            q=next_probable_prime(q+2);\n",
    "        return p, q\n",
    "            \n",
    "    def __init__(self,bits_modulo=2048,e=2**16+1):\n",
    "        \n",
    "        self.primeP, self.primeQ = generatePQ(bits_modulo)\n",
    "        self.publicExponent = e\n",
    "        self.privateExponent = mod_inverse(e, (p-1)*(q-1))\n",
    "        self.modulus = p * q\n",
    "        self.privateExponentModulusPhiP\n",
    "        self.privateExponentModulusPhiQ\n",
    "        self.inverseQModulusP\n",
    "        \n",
    "    def sign(self,message):\n",
    "        return None\n",
    "    def sign_slow(self,message):\n",
    "        return None"
   ]
  },
  {
   "cell_type": "code",
   "execution_count": 53,
   "id": "0ec75a00",
   "metadata": {},
   "outputs": [
    {
     "ename": "TypeError",
     "evalue": "rsa_key.__init__.<locals>.loadText() missing 1 required positional argument: 'fichero'",
     "output_type": "error",
     "traceback": [
      "\u001b[0;31m---------------------------------------------------------------------------\u001b[0m",
      "\u001b[0;31mTypeError\u001b[0m                                 Traceback (most recent call last)",
      "\u001b[0;32m/tmp/ipykernel_14464/2166192109.py\u001b[0m in \u001b[0;36m<module>\u001b[0;34m\u001b[0m\n\u001b[0;32m----> 1\u001b[0;31m \u001b[0ma\u001b[0m \u001b[0;34m=\u001b[0m \u001b[0mrsa_key\u001b[0m\u001b[0;34m(\u001b[0m\u001b[0;34m)\u001b[0m\u001b[0;34m\u001b[0m\u001b[0;34m\u001b[0m\u001b[0m\n\u001b[0m",
      "\u001b[0;32m/tmp/ipykernel_14464/1749100481.py\u001b[0m in \u001b[0;36m__init__\u001b[0;34m(self, bits_modulo, e)\u001b[0m\n\u001b[1;32m     13\u001b[0m             \u001b[0;32mreturn\u001b[0m \u001b[0mnumeros\u001b[0m\u001b[0;34m\u001b[0m\u001b[0;34m\u001b[0m\u001b[0m\n\u001b[1;32m     14\u001b[0m \u001b[0;34m\u001b[0m\u001b[0m\n\u001b[0;32m---> 15\u001b[0;31m         \u001b[0mnumeros\u001b[0m \u001b[0;34m=\u001b[0m \u001b[0mloadText\u001b[0m\u001b[0;34m(\u001b[0m\u001b[0;34m'claveRSA.txt'\u001b[0m\u001b[0;34m)\u001b[0m\u001b[0;34m\u001b[0m\u001b[0;34m\u001b[0m\u001b[0m\n\u001b[0m\u001b[1;32m     16\u001b[0m         \u001b[0mself\u001b[0m\u001b[0;34m.\u001b[0m\u001b[0mpublicExponent\u001b[0m \u001b[0;34m=\u001b[0m \u001b[0mnumeros\u001b[0m\u001b[0;34m[\u001b[0m\u001b[0mInteger\u001b[0m\u001b[0;34m(\u001b[0m\u001b[0;36m0\u001b[0m\u001b[0;34m)\u001b[0m\u001b[0;34m]\u001b[0m\u001b[0;34m\u001b[0m\u001b[0;34m\u001b[0m\u001b[0m\n\u001b[1;32m     17\u001b[0m         \u001b[0mself\u001b[0m\u001b[0;34m.\u001b[0m\u001b[0mprivateExponent\u001b[0m \u001b[0;34m=\u001b[0m \u001b[0mnumeros\u001b[0m\u001b[0;34m[\u001b[0m\u001b[0mInteger\u001b[0m\u001b[0;34m(\u001b[0m\u001b[0;36m2\u001b[0m\u001b[0;34m)\u001b[0m\u001b[0;34m]\u001b[0m\u001b[0;34m\u001b[0m\u001b[0;34m\u001b[0m\u001b[0m\n",
      "\u001b[0;31mTypeError\u001b[0m: rsa_key.__init__.<locals>.loadText() missing 1 required positional argument: 'fichero'"
     ]
    }
   ],
   "source": [
    "a = rsa_key()"
   ]
  },
  {
   "cell_type": "code",
   "execution_count": null,
   "id": "e3f63823",
   "metadata": {},
   "outputs": [],
   "source": []
  }
 ],
 "metadata": {
  "kernelspec": {
   "display_name": "SageMath 9.5",
   "language": "sage",
   "name": "sagemath"
  },
  "language_info": {
   "codemirror_mode": {
    "name": "ipython",
    "version": 3
   },
   "file_extension": ".py",
   "mimetype": "text/x-python",
   "name": "python",
   "nbconvert_exporter": "python",
   "pygments_lexer": "ipython3",
   "version": "3.10.6"
  }
 },
 "nbformat": 4,
 "nbformat_minor": 5
}
