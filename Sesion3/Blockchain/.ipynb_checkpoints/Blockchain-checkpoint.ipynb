{
 "cells": [
  {
   "cell_type": "markdown",
   "id": "218a2487",
   "metadata": {},
   "source": [
    "# Blockchain Main Classes"
   ]
  },
  {
   "cell_type": "markdown",
   "id": "ac71a465",
   "metadata": {},
   "source": [
    "## Completar la clase RSA_KEY"
   ]
  },
  {
   "cell_type": "code",
   "execution_count": 1,
   "id": "778f6cda",
   "metadata": {},
   "outputs": [],
   "source": [
    "class rsa_key:            \n",
    "    def __init__(self,bits_modulo=2048,e=2**16+1):\n",
    "        def generatePQ(NdeBits):\n",
    "            r1=randint(0,2^(NdeBits/2));\n",
    "            r2=randint(0,2^(NdeBits/2));\n",
    "            p=next_probable_prime(r1);\n",
    "            while gcd(e,p-1)!=1:\n",
    "                print( \".\");\n",
    "                p=next_probable_prime(p+2);\n",
    "\n",
    "            q=next_probable_prime(r2);\n",
    "            while gcd(e,q-1)!=1:\n",
    "                print( \"+\");\n",
    "                q=next_probable_prime(q+2);\n",
    "            return p, q\n",
    "\n",
    "        \n",
    "        self.primeP, self.primeQ = generatePQ(bits_modulo)\n",
    "        self.publicExponent = e\n",
    "        self.privateExponent = mod(e^-1, (self.primeP-1)*(self.primeQ-1))\n",
    "        self.modulus = self.primeP * self.primeQ\n",
    "        self.privateExponentModulusPhiP = mod(self.privateExponent, self.primeP-1)\n",
    "        self.privateExponentModulusPhiQ = mod(self.privateExponent, self.primeQ-1)\n",
    "        self.inverseQModulusP = mod(self.primeQ^-1, self.primeP)\n",
    "        \n",
    "    def sign(self,message):\n",
    "        mp=Integer(mod(new_message^self.privateExponentModulusPhiP,self.primeP));\n",
    "        mq=Integer(mod(new_message^self.privateExponentModulusPhiQ,self.primeQ));\n",
    "        h=mod((mp-mq)*Integer(self.inverseQModulusP),self.modulus);\n",
    "        m_tcr=mod((mq+self.primeQ*h),self.modulus);\n",
    "        return m_tcr\n",
    "    def sign_slow(self,message):\n",
    "        return pow(message,self.privateExponent,self.modulus)"
   ]
  },
  {
   "cell_type": "markdown",
   "id": "c0b782f4",
   "metadata": {},
   "source": [
    "## Completar la clase RSA_PUBLIC_KEY"
   ]
  },
  {
   "cell_type": "code",
   "execution_count": 2,
   "id": "e3f63823",
   "metadata": {},
   "outputs": [],
   "source": [
    "class rsa_public_key:\n",
    "    def __init__(self, rsa_key):\n",
    "        self.publicExponent = rsa_key.publicExponent\n",
    "        self.modulus = rsa_key.modulus\n",
    "    def verify(self, message, signature):\n",
    "        return message == pow(signature,self.publicExponent,self.modulus)"
   ]
  },
  {
   "cell_type": "markdown",
   "id": "db3a8dbe",
   "metadata": {},
   "source": [
    "## Completar la clase TRANSACTION"
   ]
  },
  {
   "cell_type": "code",
   "execution_count": 3,
   "id": "40557a7e",
   "metadata": {},
   "outputs": [],
   "source": [
    "class transaction:\n",
    "    def __init__(self, message, RSAkey):\n",
    "        self.public_key = rsa_public_key(RSAkey)\n",
    "        self.message = message\n",
    "        self.signature = RSAkey.sign(message)\n",
    "    def verify(self):\n",
    "        return self.public_key.verify(self.message, self.signature)"
   ]
  },
  {
   "cell_type": "markdown",
   "id": "eef9ff98",
   "metadata": {},
   "source": [
    "## Completar la clase BLOCK"
   ]
  },
  {
   "cell_type": "code",
   "execution_count": 9,
   "id": "005f8a8a",
   "metadata": {},
   "outputs": [],
   "source": [
    "class block:\n",
    "    def __init__(self):\n",
    "        self.block_hash = 0\n",
    "        self.previous_block_hash = 0\n",
    "        self.transaction = transaction(0, rsa_key())\n",
    "        self.seed = -1\n",
    "        self.rango = 2^32\n",
    "        \n",
    "    def genesis(self,transaction):\n",
    "        d = 16\n",
    "        previous_block_hash = 0\n",
    "        valido = False\n",
    "        while not valido and self.seed < self.rango:\n",
    "            self.seed += 1\n",
    "            entrada=str(previous_block_hash)\n",
    "            entrada=entrada+str(transaction.public_key.publicExponent)\n",
    "            entrada=entrada+str(transaction.public_key.modulus)\n",
    "            entrada=entrada+str(transaction.message)\n",
    "            entrada=entrada+str(transaction.signature)\n",
    "            entrada=entrada+str(seed)\n",
    "            h=int(hashlib.sha256(entrada.encode()).hexdigest(),d)\n",
    "            valido = verify_hash(h, d)\n",
    "            \n",
    "        \n",
    "        self.previous_block = 0\n",
    "        self.block_hash = h\n",
    "        self.transaction = transaction\n",
    "        \n",
    "    def next_block(self, transaction):\n",
    "        d = 16\n",
    "        previous_block_hash = self.block_hash\n",
    "        self.seed = -1\n",
    "        while not valido and self.seed < self.rango:\n",
    "            self.seed += 1\n",
    "            entrada=str(previous_block_hash)\n",
    "            entrada=entrada+str(transaction.public_key.publicExponent)\n",
    "            entrada=entrada+str(transaction.public_key.modulus)\n",
    "            entrada=entrada+str(transaction.message)\n",
    "            entrada=entrada+str(transaction.signature)\n",
    "            entrada=entrada+str(seed)\n",
    "            h=int(hashlib.sha256(entrada.encode()).hexdigest(),d)\n",
    "            valido = verify_hash(h, d)\n",
    "        \n",
    "        self.previous_block = self.block_hash\n",
    "        self.block_hash = h\n",
    "        self.transaction = transaction\n",
    "        \n",
    "    def verify_block(self):\n",
    "        d = 16\n",
    "        condicion1 = self.transaction.verify()\n",
    "        condicion2 = self.block_hash < (2^(256-d))\n",
    "        condicion3 = self.previous_block_hash < (2^(256-d))\n",
    "        \n",
    "        return condicion1 and condicion2 and condicion3\n",
    "    \n",
    "    def verify_hash(self, hash_code, d):\n",
    "        return hash_code < (2^(256-d))"
   ]
  },
  {
   "cell_type": "markdown",
   "id": "1b2f838e",
   "metadata": {},
   "source": [
    "## Completar la clase BLOCK_CHAIN"
   ]
  },
  {
   "cell_type": "code",
   "execution_count": 10,
   "id": "f74df3d0",
   "metadata": {},
   "outputs": [],
   "source": [
    "class block_chain:\n",
    "    def __init__(self,transaction):\n",
    "        genBloques = block()\n",
    "        first_block = first_block.genesis(transaction)\n",
    "        self.list_of_blocks = [first_block]\n",
    "        \n",
    "    def add_block(self,transaction):\n",
    "        ultimo = self.list_of_blocks[-1]\n",
    "        siguiente = ultimo.next_block(transaction)\n",
    "        self.list_of_blocks.append(siguiente)\n",
    "        \n",
    "    def verify(self):\n",
    "        bien = True\n",
    "        index = 0\n",
    "        \n",
    "        while index < len(self.list_of_blocks) and bien:\n",
    "            actual = self.list_of_blocks[index]\n",
    "            bien = actual.verify_block()\n",
    "            index += 1\n",
    "        return bien"
   ]
  },
  {
   "cell_type": "markdown",
   "id": "f425b34c",
   "metadata": {},
   "source": [
    "# Comprobación de la implementación"
   ]
  },
  {
   "cell_type": "code",
   "execution_count": 14,
   "id": "d3b6d2a6",
   "metadata": {},
   "outputs": [],
   "source": [
    "import pickle\n",
    "fichero = 'Cadena_bloques_valida.block'\n",
    "lectura = open(fichero, 'rb')\n",
    "cadenaBloques = pickle.load(lectura)\n",
    "lectura.close()"
   ]
  },
  {
   "cell_type": "code",
   "execution_count": 15,
   "id": "2ba5b7c9",
   "metadata": {},
   "outputs": [
    {
     "name": "stdout",
     "output_type": "stream",
     "text": [
      "True\n"
     ]
    }
   ],
   "source": [
    "print(cadenaBloques.verify())"
   ]
  }
 ],
 "metadata": {
  "kernelspec": {
   "display_name": "SageMath 9.5",
   "language": "sage",
   "name": "sagemath"
  },
  "language_info": {
   "codemirror_mode": {
    "name": "ipython",
    "version": 3
   },
   "file_extension": ".py",
   "mimetype": "text/x-python",
   "name": "python",
   "nbconvert_exporter": "python",
   "pygments_lexer": "ipython3",
   "version": "3.10.6"
  }
 },
 "nbformat": 4,
 "nbformat_minor": 5
}
