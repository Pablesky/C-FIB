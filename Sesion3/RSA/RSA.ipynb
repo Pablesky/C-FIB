{
 "cells": [
  {
   "cell_type": "code",
   "execution_count": 72,
   "id": "0a9d1ad3",
   "metadata": {},
   "outputs": [],
   "source": [
    "from Crypto.Cipher import AES\n",
    "import filetype\n",
    "from sympy.ntheory import factorint"
   ]
  },
  {
   "cell_type": "code",
   "execution_count": null,
   "id": "86ccb734",
   "metadata": {},
   "outputs": [],
   "source": []
  },
  {
   "cell_type": "code",
   "execution_count": null,
   "id": "fbe361f8",
   "metadata": {},
   "outputs": [],
   "source": [
    "#obj = AES.new(key, AES.MODE_CFB, iv)\n",
    "#algo = obj.decrypt(texto)\n",
    "\n",
    "#tipo = filetype.guess(algo)\n",
    "#print(tipo)"
   ]
  }
 ],
 "metadata": {
  "kernelspec": {
   "display_name": "Python 3 (ipykernel)",
   "language": "python",
   "name": "python3"
  },
  "language_info": {
   "codemirror_mode": {
    "name": "ipython",
    "version": 3
   },
   "file_extension": ".py",
   "mimetype": "text/x-python",
   "name": "python",
   "nbconvert_exporter": "python",
   "pygments_lexer": "ipython3",
   "version": "3.10.6"
  }
 },
 "nbformat": 4,
 "nbformat_minor": 5
}
