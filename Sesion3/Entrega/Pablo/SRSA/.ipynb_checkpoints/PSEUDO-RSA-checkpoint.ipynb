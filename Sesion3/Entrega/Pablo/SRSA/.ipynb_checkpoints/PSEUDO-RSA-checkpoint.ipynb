{
 "cells": [
  {
   "cell_type": "code",
   "execution_count": 1,
   "id": "d9859b41",
   "metadata": {},
   "outputs": [],
   "source": [
    "from Crypto.Cipher import AES\n",
    "import filetype\n",
    "from Crypto.PublicKey import RSA\n",
    "from glob import glob\n",
    "from math import gcd\n",
    "from sympy import *"
   ]
  },
  {
   "cell_type": "code",
   "execution_count": 2,
   "id": "73d82bde",
   "metadata": {},
   "outputs": [],
   "source": [
    "ruta = \"./keys/\""
   ]
  },
  {
   "cell_type": "code",
   "execution_count": 3,
   "id": "1a38ec91",
   "metadata": {},
   "outputs": [],
   "source": [
    "aes = ruta + \"pablo.vega.gallego_AES_pseudo.enc\""
   ]
  },
  {
   "cell_type": "code",
   "execution_count": 4,
   "id": "8bf11177",
   "metadata": {},
   "outputs": [],
   "source": [
    "pem = ruta + \"pablo.vega.gallego_pubkeyRSA_pseudo.pem\""
   ]
  },
  {
   "cell_type": "code",
   "execution_count": 5,
   "id": "efe4c2ac",
   "metadata": {},
   "outputs": [],
   "source": [
    "rsa = ruta + \"pablo.vega.gallego_RSA_pseudo.enc\""
   ]
  },
  {
   "cell_type": "code",
   "execution_count": 6,
   "id": "742ab440",
   "metadata": {},
   "outputs": [
    {
     "name": "stdout",
     "output_type": "stream",
     "text": [
      "17181231366303391873898577062930202499686979673305764574003306725162865918368116170678711032740944866138728394952134921252076775494646966652528085073991005136796750544201756132167645132364489116331195797880318163043267901242371677507354398880152587459039524433867736413865889982908266981823772901806382704891433640877282195304210220797188640215793024246713166930444294299041192797079131083907161337063825387274276191724839801313077693863230989409842085334969211920098270734758450805660228044269541846233922766893573054831835886332001513741764232672226913247574014565476793791378670286881130358838909791886138854955169\n",
      "\n",
      "65537\n"
     ]
    }
   ],
   "source": [
    "with open(pem, 'r') as f:\n",
    "    rsakey = f.read()\n",
    "\n",
    "pubkey = RSA.importKey(rsakey)\n",
    "personal = pubkey.n\n",
    "public_exponent = pubkey.e\n",
    "print(personal)\n",
    "print()\n",
    "print(public_exponent)"
   ]
  },
  {
   "cell_type": "code",
   "execution_count": 7,
   "id": "ae77b796",
   "metadata": {},
   "outputs": [
    {
     "data": {
      "text/plain": [
       "True"
      ]
     },
     "execution_count": 7,
     "metadata": {},
     "output_type": "execute_result"
    }
   ],
   "source": [
    "len(bin(personal)[2:]) % 4 == 0"
   ]
  },
  {
   "cell_type": "code",
   "execution_count": 8,
   "id": "62af5638",
   "metadata": {},
   "outputs": [
    {
     "data": {
      "text/plain": [
       "512"
      ]
     },
     "execution_count": 8,
     "metadata": {},
     "output_type": "execute_result"
    }
   ],
   "source": [
    "N = len(bin(personal)[2:])//4\n",
    "N"
   ]
  },
  {
   "cell_type": "code",
   "execution_count": 9,
   "id": "917f4872",
   "metadata": {},
   "outputs": [],
   "source": [
    "binpersona = bin(personal)[2:]"
   ]
  },
  {
   "cell_type": "code",
   "execution_count": 10,
   "id": "80374bfb",
   "metadata": {},
   "outputs": [],
   "source": [
    "primero = binpersona[0:N]\n",
    "segundo = binpersona[N:2*N]\n",
    "tercero = binpersona[2*N:3*N]\n",
    "cuarto = binpersona[3*N:4*N]"
   ]
  },
  {
   "cell_type": "code",
   "execution_count": 11,
   "id": "04d9f0ba",
   "metadata": {},
   "outputs": [
    {
     "data": {
      "text/plain": [
       "True"
      ]
     },
     "execution_count": 11,
     "metadata": {},
     "output_type": "execute_result"
    }
   ],
   "source": [
    "personal == int(primero+segundo+tercero+cuarto, 2)"
   ]
  },
  {
   "cell_type": "code",
   "execution_count": 12,
   "id": "40aa6f75",
   "metadata": {},
   "outputs": [
    {
     "name": "stdout",
     "output_type": "stream",
     "text": [
      "[8120470032484937215252352830373054957005429959946418105737831966927293227804430640111052886726065514448123577935787451501083134212657907371004421738067647, 11769487670416003154947777018232547194230957256023044363985701026726845357363799664299211884815687412739135955509843804465741245736272155354245040492439711]\n"
     ]
    }
   ],
   "source": [
    "var('x')\n",
    "for i in range(0, 2**N):\n",
    "    c = int(bin(i)[2:] + segundo + tercero, 2)\n",
    "    primeroAct = bin(int(primero, 2) - i)[2:]\n",
    "    RS = int(primeroAct + cuarto, 2)\n",
    "    RSinv = int(cuarto + primeroAct, 2)\n",
    "    r2s2 = c - RSinv\n",
    "    rs2 = r2s2 + 2*RS\n",
    "    rs = sqrt(rs2)\n",
    "    sol = solve(x**2 - x*rs + RS, x)\n",
    "    if type(sol[0]) == Integer:\n",
    "        print(sol)\n",
    "        break"
   ]
  },
  {
   "cell_type": "code",
   "execution_count": 13,
   "id": "08b1ffa6",
   "metadata": {},
   "outputs": [
    {
     "data": {
      "text/plain": [
       "[8120470032484937215252352830373054957005429959946418105737831966927293227804430640111052886726065514448123577935787451501083134212657907371004421738067647,\n",
       " 11769487670416003154947777018232547194230957256023044363985701026726845357363799664299211884815687412739135955509843804465741245736272155354245040492439711]"
      ]
     },
     "execution_count": 13,
     "metadata": {},
     "output_type": "execute_result"
    }
   ],
   "source": [
    "sol"
   ]
  },
  {
   "cell_type": "code",
   "execution_count": 14,
   "id": "f5d81198",
   "metadata": {},
   "outputs": [],
   "source": [
    "p = int(bin(sol[0])[2:] + bin(sol[1])[2:], 2)\n",
    "q = int(bin(sol[1])[2:] + bin(sol[0])[2:], 2)"
   ]
  },
  {
   "cell_type": "code",
   "execution_count": 15,
   "id": "d7833b10",
   "metadata": {},
   "outputs": [
    {
     "data": {
      "text/plain": [
       "True"
      ]
     },
     "execution_count": 15,
     "metadata": {},
     "output_type": "execute_result"
    }
   ],
   "source": [
    "p * q == personal"
   ]
  },
  {
   "cell_type": "code",
   "execution_count": 16,
   "id": "47365ca6",
   "metadata": {},
   "outputs": [],
   "source": [
    "phi = (p-1)*(q-1)\n",
    "\n",
    "private_exponent = pow(public_exponent, -1, phi)\n",
    "\n",
    "key = RSA.construct((int(personal), int(public_exponent), int(private_exponent)), consistency_check=False)"
   ]
  },
  {
   "cell_type": "code",
   "execution_count": 17,
   "id": "0b2b5b56",
   "metadata": {},
   "outputs": [],
   "source": [
    "f = open('privateKey_Pablo_Vega.pem','wb')\n",
    "f.write(key.exportKey('PEM'))\n",
    "f.close()"
   ]
  },
  {
   "cell_type": "code",
   "execution_count": null,
   "id": "30f43a88",
   "metadata": {},
   "outputs": [],
   "source": [
    "os.system('openssl rsautl -decrypt -in pablo.vega.gallego_RSA_pseudo.enc -out AESkey.txt -inkey privateKey.pem')"
   ]
  },
  {
   "cell_type": "code",
   "execution_count": null,
   "id": "2a297c6f",
   "metadata": {},
   "outputs": [],
   "source": [
    "os.system('openssl enc -d -aes-128-cbc -pbkdf2 -kfile AESkey.txt -in pablo.vega.gallego_AES_pseudo.enc -out desencriptado.txt')"
   ]
  },
  {
   "cell_type": "code",
   "execution_count": 18,
   "id": "0eb0939e",
   "metadata": {},
   "outputs": [],
   "source": [
    "with open('desencriptado.txt', 'rb') as f:\n",
    "    desencriptado = f.read()"
   ]
  },
  {
   "cell_type": "code",
   "execution_count": 19,
   "id": "d1bf5f77",
   "metadata": {},
   "outputs": [
    {
     "data": {
      "text/plain": [
       "<filetype.types.image.Jpeg at 0x7f84a024eaa0>"
      ]
     },
     "execution_count": 19,
     "metadata": {},
     "output_type": "execute_result"
    }
   ],
   "source": [
    "filetype.guess(desencriptado)"
   ]
  },
  {
   "cell_type": "code",
   "execution_count": 20,
   "id": "0618a851",
   "metadata": {},
   "outputs": [],
   "source": [
    "with open('foto.png', \"wb\") as binary_file:\n",
    "        binary_file.write(desencriptado)"
   ]
  },
  {
   "cell_type": "code",
   "execution_count": null,
   "id": "292f0b14",
   "metadata": {},
   "outputs": [],
   "source": []
  },
  {
   "cell_type": "code",
   "execution_count": null,
   "id": "fee298c6",
   "metadata": {},
   "outputs": [],
   "source": []
  }
 ],
 "metadata": {
  "kernelspec": {
   "display_name": "Python 3 (ipykernel)",
   "language": "python",
   "name": "python3"
  },
  "language_info": {
   "codemirror_mode": {
    "name": "ipython",
    "version": 3
   },
   "file_extension": ".py",
   "mimetype": "text/x-python",
   "name": "python",
   "nbconvert_exporter": "python",
   "pygments_lexer": "ipython3",
   "version": "3.10.6"
  }
 },
 "nbformat": 4,
 "nbformat_minor": 5
}
