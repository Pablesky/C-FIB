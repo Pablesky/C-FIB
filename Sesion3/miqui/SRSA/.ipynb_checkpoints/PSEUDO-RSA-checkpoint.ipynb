{
 "cells": [
  {
   "cell_type": "code",
   "execution_count": 1,
   "id": "d9859b41",
   "metadata": {},
   "outputs": [],
   "source": [
    "from Crypto.Cipher import AES\n",
    "import filetype\n",
    "from Crypto.PublicKey import RSA\n",
    "from glob import glob\n",
    "from math import gcd\n",
    "from sympy import *"
   ]
  },
  {
   "cell_type": "code",
   "execution_count": 2,
   "id": "73d82bde",
   "metadata": {},
   "outputs": [],
   "source": [
    "ruta = \"./keys/\""
   ]
  },
  {
   "cell_type": "code",
   "execution_count": 3,
   "id": "1a38ec91",
   "metadata": {},
   "outputs": [],
   "source": [
    "aes = ruta + \"miquel.umbert.bosch_AES_pseudo.enc\""
   ]
  },
  {
   "cell_type": "code",
   "execution_count": 4,
   "id": "8bf11177",
   "metadata": {},
   "outputs": [],
   "source": [
    "pem = ruta + \"miquel.umbert.bosch\" + \"_pubkeyRSA_pseudo.pem\""
   ]
  },
  {
   "cell_type": "code",
   "execution_count": 5,
   "id": "efe4c2ac",
   "metadata": {},
   "outputs": [],
   "source": [
    "rsa = ruta + \"miquel.umbert.bosch_RSA_pseudo.enc\""
   ]
  },
  {
   "cell_type": "code",
   "execution_count": 6,
   "id": "742ab440",
   "metadata": {},
   "outputs": [
    {
     "name": "stdout",
     "output_type": "stream",
     "text": [
      "21480175498539751428436914447616157245398064218512269363091426475010720513575067096409624123574417919917281058081314520520081813039462015597551240691757649068741333719452668722162067985183229670692342876321523830241441391055720270393331012876249364698564541529547943143327894588718403641405512517165098069320271203386154187615520979605105000683528885233998622790846447132350844950716645464749270401888013463811945436603516318889175596963945846513589211578330246067449709113772108686975512562489775137437585893387313621325722597716490059296607688290436508719041987188863149400902383943147121252585814892697701270568659\n",
      "\n",
      "65537\n"
     ]
    }
   ],
   "source": [
    "with open(pem, 'r') as f:\n",
    "    rsakey = f.read()\n",
    "\n",
    "pubkey = RSA.importKey(rsakey)\n",
    "personal = pubkey.n\n",
    "public_exponent = pubkey.e\n",
    "print(personal)\n",
    "print()\n",
    "print(public_exponent)"
   ]
  },
  {
   "cell_type": "code",
   "execution_count": 7,
   "id": "ae77b796",
   "metadata": {},
   "outputs": [
    {
     "name": "stdout",
     "output_type": "stream",
     "text": [
      "0\n"
     ]
    }
   ],
   "source": [
    "falta = len(bin(personal)[2:]) % 4\n",
    "print(falta)\n",
    "\n",
    "if falta != 0:\n",
    "    binpersona = (4 - falta)*'0' + bin(personal)[2:]\n",
    "else:\n",
    "    binpersona = bin(personal)[2:]"
   ]
  },
  {
   "cell_type": "code",
   "execution_count": 8,
   "id": "62af5638",
   "metadata": {},
   "outputs": [
    {
     "data": {
      "text/plain": [
       "512"
      ]
     },
     "execution_count": 8,
     "metadata": {},
     "output_type": "execute_result"
    }
   ],
   "source": [
    "N = len(binpersona)//4\n",
    "N"
   ]
  },
  {
   "cell_type": "code",
   "execution_count": 9,
   "id": "80374bfb",
   "metadata": {},
   "outputs": [],
   "source": [
    "primero = binpersona[0:N]\n",
    "segundo = binpersona[N:2*N]\n",
    "tercero = binpersona[2*N:3*N]\n",
    "cuarto = binpersona[3*N:4*N]"
   ]
  },
  {
   "cell_type": "code",
   "execution_count": 10,
   "id": "04d9f0ba",
   "metadata": {},
   "outputs": [
    {
     "data": {
      "text/plain": [
       "True"
      ]
     },
     "execution_count": 10,
     "metadata": {},
     "output_type": "execute_result"
    }
   ],
   "source": [
    "personal == int(primero+segundo+tercero+cuarto, 2)"
   ]
  },
  {
   "cell_type": "code",
   "execution_count": 11,
   "id": "131d0a19",
   "metadata": {},
   "outputs": [
    {
     "data": {
      "text/plain": [
       "179769313486231590772930519078902473361797697894230657273430081157732675805500963132708477322407536021120113879871393357658789768814416622492847430639474124377767893424865485276302219601246094119453082952085005768838150682342462881473913110540827237163350510684586298239947245938479716304835356329624224137216"
      ]
     },
     "execution_count": 11,
     "metadata": {},
     "output_type": "execute_result"
    }
   ],
   "source": [
    "maximo = 2**(2*N)\n",
    "maximo"
   ]
  },
  {
   "cell_type": "code",
   "execution_count": 12,
   "id": "40aa6f75",
   "metadata": {},
   "outputs": [
    {
     "name": "stdout",
     "output_type": "stream",
     "text": [
      "[9277935772435706960851542806112452521695201368671289570486443633209936969651642515965792810959618353409551798129710084457365197899124561553934898868088651, 12878666696514603471823345515110170619811871064264653197020057476597468977003373052144058183266541905850894313195966929060951959906930635651811512581640601]\n"
     ]
    }
   ],
   "source": [
    "var('x')\n",
    "for i in range(0, 2**N):\n",
    "    c = int(bin(i)[2:] + segundo + tercero, 2)\n",
    "    primeroAct = bin(int(primero, 2) - i)[2:]\n",
    "    RS = int(primeroAct + cuarto, 2)\n",
    "    RSinv = int(cuarto + primeroAct, 2)\n",
    "    r2s2 = c - RSinv\n",
    "    rs2 = r2s2 + 2*RS\n",
    "    rs = sqrt(rs2)\n",
    "    sol = solve(x**2 - x*rs + RS, x)\n",
    "    if type(sol[0]) == Integer:\n",
    "        print(sol)\n",
    "        break"
   ]
  },
  {
   "cell_type": "code",
   "execution_count": 13,
   "id": "08b1ffa6",
   "metadata": {},
   "outputs": [
    {
     "data": {
      "text/plain": [
       "[9277935772435706960851542806112452521695201368671289570486443633209936969651642515965792810959618353409551798129710084457365197899124561553934898868088651,\n",
       " 12878666696514603471823345515110170619811871064264653197020057476597468977003373052144058183266541905850894313195966929060951959906930635651811512581640601]"
      ]
     },
     "execution_count": 13,
     "metadata": {},
     "output_type": "execute_result"
    }
   ],
   "source": [
    "sol"
   ]
  },
  {
   "cell_type": "code",
   "execution_count": 14,
   "id": "f5d81198",
   "metadata": {},
   "outputs": [],
   "source": [
    "p = int(bin(sol[0])[2:] + bin(sol[1])[2:], 2)\n",
    "q = int(bin(sol[1])[2:] + bin(sol[0])[2:], 2)"
   ]
  },
  {
   "cell_type": "code",
   "execution_count": 15,
   "id": "d7833b10",
   "metadata": {},
   "outputs": [
    {
     "data": {
      "text/plain": [
       "True"
      ]
     },
     "execution_count": 15,
     "metadata": {},
     "output_type": "execute_result"
    }
   ],
   "source": [
    "p * q == personal"
   ]
  },
  {
   "cell_type": "code",
   "execution_count": 16,
   "id": "47365ca6",
   "metadata": {},
   "outputs": [],
   "source": [
    "phi = (p-1)*(q-1)\n",
    "\n",
    "private_exponent = pow(public_exponent, -1, phi)\n",
    "\n",
    "key = RSA.construct((int(personal), int(public_exponent), int(private_exponent)), consistency_check=False)"
   ]
  },
  {
   "cell_type": "code",
   "execution_count": 17,
   "id": "0b2b5b56",
   "metadata": {},
   "outputs": [],
   "source": [
    "f = open('privateKey.pem','wb')\n",
    "f.write(key.exportKey('PEM'))\n",
    "f.close()"
   ]
  },
  {
   "cell_type": "markdown",
   "id": "25e095f8",
   "metadata": {},
   "source": [
    "openssl rsautl -decrypt -in miquel.umbert.bosch_RSA_pseudo.enc -out AESkey.txt -inkey privateKey.pem"
   ]
  },
  {
   "cell_type": "markdown",
   "id": "d14651d4",
   "metadata": {},
   "source": [
    "openssl enc -d -aes-128-cbc -pbkdf2 -kfile AESkey.txt -in miquel.umbert.bosch_AES_pseudo.enc -out desencriptado.txt"
   ]
  },
  {
   "cell_type": "code",
   "execution_count": 18,
   "id": "0eb0939e",
   "metadata": {},
   "outputs": [],
   "source": [
    "with open('desencriptado.txt', 'rb') as f:\n",
    "    desencriptado = f.read()"
   ]
  },
  {
   "cell_type": "code",
   "execution_count": 19,
   "id": "d1bf5f77",
   "metadata": {},
   "outputs": [
    {
     "data": {
      "text/plain": [
       "<filetype.types.image.Jpeg at 0x7ff4dad52aa0>"
      ]
     },
     "execution_count": 19,
     "metadata": {},
     "output_type": "execute_result"
    }
   ],
   "source": [
    "filetype.guess(desencriptado)"
   ]
  },
  {
   "cell_type": "code",
   "execution_count": 20,
   "id": "0618a851",
   "metadata": {},
   "outputs": [],
   "source": [
    "with open('foto.png', \"wb\") as binary_file:\n",
    "        binary_file.write(desencriptado)"
   ]
  },
  {
   "cell_type": "code",
   "execution_count": null,
   "id": "21c3f663",
   "metadata": {},
   "outputs": [],
   "source": []
  }
 ],
 "metadata": {
  "kernelspec": {
   "display_name": "Python 3 (ipykernel)",
   "language": "python",
   "name": "python3"
  },
  "language_info": {
   "codemirror_mode": {
    "name": "ipython",
    "version": 3
   },
   "file_extension": ".py",
   "mimetype": "text/x-python",
   "name": "python",
   "nbconvert_exporter": "python",
   "pygments_lexer": "ipython3",
   "version": "3.10.6"
  }
 },
 "nbformat": 4,
 "nbformat_minor": 5
}
