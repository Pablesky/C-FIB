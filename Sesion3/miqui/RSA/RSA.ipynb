{
 "cells": [
  {
   "cell_type": "code",
   "execution_count": 1,
   "id": "0a9d1ad3",
   "metadata": {},
   "outputs": [],
   "source": [
    "from Crypto.Cipher import AES\n",
    "import filetype\n",
    "from Crypto.PublicKey import RSA\n",
    "from glob import glob\n",
    "from math import gcd\n",
    "import os"
   ]
  },
  {
   "cell_type": "code",
   "execution_count": 2,
   "id": "670cd55f",
   "metadata": {},
   "outputs": [
    {
     "name": "stdout",
     "output_type": "stream",
     "text": [
      "['./privateKey_Miquel_Umbert.pem', './miquel.umbert.bosch_pubkeyRSA_RW.pem', './privateKey.pem']\n",
      "15816893257019071598655805988416057339565322720230828253961046778726790224265921936328612793076616131722672055909157494574328369310713447415265974213266642012402594429751162600197567138820055157392530735437495716359465036277264287995515829442685327197744138204226748429140048031988827599728107740424157398928110822605136498414950967575015997784213587160771128214217612232483624473856000290743356646407851477918967841730277594078984456322598440668722523650357338535252452305963347185315940595903576378320465810680824653413906321461179771215558090822703857654037256820661973853518999822824516621646529241386432891471247\n",
      "\n",
      "65537\n"
     ]
    }
   ],
   "source": [
    "ficheros = glob('./*.pem')\n",
    "print(ficheros)\n",
    "with open(ficheros[-1], 'r') as f:\n",
    "        key_encoded = f.read()\n",
    "\n",
    "pubkey = RSA.importKey(key_encoded)\n",
    "personal = pubkey.n\n",
    "public_exponent = pubkey.e\n",
    "print(personal)\n",
    "print()\n",
    "print(public_exponent)"
   ]
  },
  {
   "cell_type": "code",
   "execution_count": 3,
   "id": "0681be6b",
   "metadata": {},
   "outputs": [],
   "source": [
    "ficheros = glob('./publickeys/*')\n",
    "posibles = []\n",
    "for fichero in ficheros:\n",
    "    with open(fichero, 'r') as f:\n",
    "        key_encoded = f.read()\n",
    "        \n",
    "    pubkey = RSA.importKey(key_encoded)\n",
    "    others = pubkey.n\n",
    "    p = gcd(personal, others)\n",
    "    if p != 1:\n",
    "        posibles.append(p)\n",
    "    "
   ]
  },
  {
   "cell_type": "code",
   "execution_count": 4,
   "id": "86ccb734",
   "metadata": {},
   "outputs": [
    {
     "data": {
      "text/plain": [
       "True"
      ]
     },
     "execution_count": 4,
     "metadata": {},
     "output_type": "execute_result"
    }
   ],
   "source": [
    "p = posibles[0]\n",
    "q = posibles[1]\n",
    "\n",
    "(p*q) == personal"
   ]
  },
  {
   "cell_type": "code",
   "execution_count": 5,
   "id": "09f94a81",
   "metadata": {},
   "outputs": [],
   "source": [
    "phi = (p-1)*(q-1)\n",
    "\n",
    "private_exponent = pow(public_exponent, -1, phi)"
   ]
  },
  {
   "cell_type": "code",
   "execution_count": 6,
   "id": "9ef55252",
   "metadata": {},
   "outputs": [],
   "source": [
    "key = RSA.construct((int(personal), int(public_exponent), int(private_exponent)), consistency_check=False)\n",
    "\n",
    "f = open('privateKey_Miquel_Umbert.pem','wb')\n",
    "f.write(key.exportKey('PEM'))\n",
    "f.close()"
   ]
  },
  {
   "cell_type": "code",
   "execution_count": 7,
   "id": "06ad1c08",
   "metadata": {},
   "outputs": [
    {
     "data": {
      "text/plain": [
       "0"
      ]
     },
     "execution_count": 7,
     "metadata": {},
     "output_type": "execute_result"
    }
   ],
   "source": [
    "os.system('openssl rsautl -decrypt -in miquel.umbert.bosch_RSA_RW.enc -out AESkey.txt -inkey privateKey_Miquel_Umbert.pem')"
   ]
  },
  {
   "cell_type": "code",
   "execution_count": 8,
   "id": "3c85cb8a",
   "metadata": {},
   "outputs": [],
   "source": [
    "with open('AESkey.txt', 'rb') as f:\n",
    "    AESkey = f.read()"
   ]
  },
  {
   "cell_type": "code",
   "execution_count": 9,
   "id": "1fcb9971",
   "metadata": {},
   "outputs": [
    {
     "data": {
      "text/plain": [
       "0"
      ]
     },
     "execution_count": 9,
     "metadata": {},
     "output_type": "execute_result"
    }
   ],
   "source": [
    "os.system('openssl enc -d -aes-128-cbc -pbkdf2 -kfile AESkey.txt -in miquel.umbert.bosch_AES_RW.enc -out desencriptado.txt')"
   ]
  },
  {
   "cell_type": "code",
   "execution_count": 10,
   "id": "d2462982",
   "metadata": {},
   "outputs": [],
   "source": [
    "with open('desencriptado.txt', 'rb') as f:\n",
    "    desencriptado = f.read()"
   ]
  },
  {
   "cell_type": "code",
   "execution_count": 13,
   "id": "0f2c5d6f",
   "metadata": {},
   "outputs": [
    {
     "name": "stdout",
     "output_type": "stream",
     "text": [
      "png\n"
     ]
    }
   ],
   "source": [
    "tipo = filetype.guess(desencriptado)\n",
    "extension = tipo.extension\n",
    "print(extension)"
   ]
  },
  {
   "cell_type": "code",
   "execution_count": 12,
   "id": "eede5185",
   "metadata": {},
   "outputs": [],
   "source": [
    "with open('foto.png', \"wb\") as binary_file:\n",
    "        binary_file.write(desencriptado)"
   ]
  },
  {
   "cell_type": "code",
   "execution_count": null,
   "id": "2253cc49",
   "metadata": {},
   "outputs": [],
   "source": []
  },
  {
   "cell_type": "code",
   "execution_count": null,
   "id": "7912dd4c",
   "metadata": {},
   "outputs": [],
   "source": []
  }
 ],
 "metadata": {
  "kernelspec": {
   "display_name": "Python 3 (ipykernel)",
   "language": "python",
   "name": "python3"
  },
  "language_info": {
   "codemirror_mode": {
    "name": "ipython",
    "version": 3
   },
   "file_extension": ".py",
   "mimetype": "text/x-python",
   "name": "python",
   "nbconvert_exporter": "python",
   "pygments_lexer": "ipython3",
   "version": "3.8.10"
  }
 },
 "nbformat": 4,
 "nbformat_minor": 5
}
