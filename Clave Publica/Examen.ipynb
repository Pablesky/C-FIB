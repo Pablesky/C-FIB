{
 "cells": [
  {
   "cell_type": "markdown",
   "id": "5d7ecb1d",
   "metadata": {},
   "source": [
    "# Diffie Hellman\n",
    "Se busca una p\n",
    "\n",
    "a -> 1 <= a <= p - 1\n",
    "\n",
    "b -> 1 <= b <= p - 1\n",
    "\n",
    "alpha = g ^ a mod p\n",
    "\n",
    "beta = g ^ b mod p\n",
    "\n",
    "alpha == beta"
   ]
  },
  {
   "cell_type": "code",
   "execution_count": 10,
   "id": "de13f6ad",
   "metadata": {},
   "outputs": [
    {
     "name": "stdout",
     "output_type": "stream",
     "text": [
      "Alpha: 25\n",
      "Beta: 5\n",
      "Se comparten las claves...\n",
      "ClaveA: 25\n",
      "CLaveB: 25\n",
      "Son iguales: True\n"
     ]
    }
   ],
   "source": [
    "p = 31\n",
    "g = 5\n",
    "a = 8\n",
    "b = 4\n",
    "\n",
    "alpha = pow(g, a, p)\n",
    "beta = pow(g, b, p)\n",
    "\n",
    "print('Alpha:', alpha)\n",
    "print('Beta:', beta)\n",
    "\n",
    "print(\"Se comparten las claves...\")\n",
    "\n",
    "claveA = pow(beta, a, p)\n",
    "claveB = pow(alpha, b, p)\n",
    "\n",
    "print('ClaveA:', claveA)\n",
    "print('CLaveB:', claveB)\n",
    "print('Son iguales:',claveA == claveB)"
   ]
  },
  {
   "cell_type": "markdown",
   "id": "41f476bb",
   "metadata": {},
   "source": [
    "# Calcular clave privada\n",
    "Recordar que d = e ^ -1 mod phi\n",
    "\n",
    "phi = (p - 1) * (q - 1)"
   ]
  },
  {
   "cell_type": "code",
   "execution_count": 11,
   "id": "17238036",
   "metadata": {},
   "outputs": [
    {
     "name": "stdout",
     "output_type": "stream",
     "text": [
      "Clave pública: 3\n",
      "Modulo: 33\n",
      "Factorizamos el modulo si no es muy grande...\n",
      "p: 3\n",
      "q: 11\n",
      "Phi: 20\n",
      "Clave privada: 7\n"
     ]
    }
   ],
   "source": [
    "e = 3\n",
    "n = 33\n",
    "print('Clave pública:', e)\n",
    "print('Modulo:', n)\n",
    "\n",
    "from sympy import factorint\n",
    "print('Factorizamos el modulo si no es muy grande...')\n",
    "factores = factorint(n)\n",
    "\n",
    "p = list(factores.keys())[0]\n",
    "q = list(factores.keys())[1]\n",
    "\n",
    "print('p:', p)\n",
    "print('q:', q)\n",
    "\n",
    "phi = (p - 1)*(q - 1)\n",
    "print('Phi:', phi)\n",
    "\n",
    "d = pow(e, -1, phi)\n",
    "print('Clave privada:', d)"
   ]
  },
  {
   "cell_type": "markdown",
   "id": "f12bf14f",
   "metadata": {},
   "source": [
    "# Puntos curva eliptica\n",
    "\n",
    "Saber el número de puntos de la curva que puede ser dado unos posibles\n",
    "\n",
    "𝑝 + 1 − 2√𝑝 ≤ | 𝐸(𝑍𝑝)| ≤ 𝑝 + 1 + 2√p"
   ]
  },
  {
   "cell_type": "code",
   "execution_count": 12,
   "id": "7d5ed26c",
   "metadata": {},
   "outputs": [
    {
     "data": {
      "text/plain": [
       "[988]"
      ]
     },
     "execution_count": 12,
     "metadata": {},
     "output_type": "execute_result"
    }
   ],
   "source": [
    "from math import sqrt\n",
    "posibles = [988, 2233, 1428]\n",
    "p = 1021\n",
    "inferior = p + 1 - 2 * sqrt(p)\n",
    "superior = p + 1 + 2 * sqrt(p)\n",
    "\n",
    "soluciones = [x for x in posibles if inferior <= x and x <= superior]\n",
    "soluciones"
   ]
  },
  {
   "cell_type": "markdown",
   "id": "f8fcbc37",
   "metadata": {},
   "source": [
    "# Calcular n * P en curvas elipticas\n",
    "\n",
    "Recordar que curva tiene forma y² = x³ + ax + b\n",
    "\n",
    "Luego las formulitas para sumar el mismo punto y con otro punto quedan definidas en el codigo"
   ]
  },
  {
   "cell_type": "code",
   "execution_count": 13,
   "id": "c128520d",
   "metadata": {},
   "outputs": [
    {
     "data": {
      "text/plain": [
       "(5 : 7 : 1)"
      ]
     },
     "execution_count": 13,
     "metadata": {},
     "output_type": "execute_result"
    }
   ],
   "source": [
    "a = -3\n",
    "b = 1\n",
    "\n",
    "n = 30\n",
    "\n",
    "px = 5\n",
    "py = 24\n",
    "\n",
    "p = 31\n",
    "\n",
    "Zp = Zmod(p)\n",
    "E = EllipticCurve(Zp, [a,b])\n",
    "P = E([px, py])\n",
    "resultado = n*P\n",
    "resultado"
   ]
  },
  {
   "cell_type": "markdown",
   "id": "4262bf64",
   "metadata": {},
   "source": [
    "# Econtrar clave privada Elipitic Curve\n",
    "\n",
    "Encontrar la **clave privada** o **k** a partir de dos firmas.\n",
    "\n",
    "Recuerda que si F1 = (f1, f2) y F2 = (f3, f4) ---> f1 == f3"
   ]
  },
  {
   "cell_type": "markdown",
   "id": "d3355e00",
   "metadata": {},
   "source": [
    "## Info curva P521"
   ]
  },
  {
   "cell_type": "code",
   "execution_count": 20,
   "id": "01e5f72a",
   "metadata": {},
   "outputs": [],
   "source": [
    "p = 6864797660130609714981900799081393217269435300143305409394463459185543183397656052122559640661454554977296311391480858037121987999716643812574028291115057151\n",
    "n = 6864797660130609714981900799081393217269435300143305409394463459185543183397655394245057746333217197532963996371363321113864768612440380340372808892707005449\n",
    "\n",
    "a = -3\n",
    "b = 0x051953eb9618e1c9a1f929a21a0b68540eea2da725b99b315f3b8b489918ef109e156193951ec7e937b1652c0bd3bb1bf073573df883d2c34f1ef451fd46b503f00\n",
    "\n",
    "Gx = 0xc6858e06b70404e9cd9e3ecb662395b4429c648139053fb521f828af606b4d3dbaa14b5e77efe75928fe1dc127a2ffa8de3348b3c1856a429bf97e7e31c2e5bd66\n",
    "Gy = 0x11839296a789a3bc0045c8a5fb42c7d1bd998f54449579b446817afbd17273e662c97ee72995ef42640c550b9013fad0761353c7086a272c24088be94769fd16650\n",
    "\n",
    "Zp = Zmod(p)\n",
    "E = EllipticCurve(Zp, [a, b])\n",
    "G = E([Gx, Gy])"
   ]
  },
  {
   "cell_type": "markdown",
   "id": "f8ad2e85",
   "metadata": {},
   "source": [
    "## Computo"
   ]
  },
  {
   "cell_type": "code",
   "execution_count": 15,
   "id": "6a4f016c",
   "metadata": {},
   "outputs": [
    {
     "name": "stdout",
     "output_type": "stream",
     "text": [
      "k: 623991723484262109290259914651842773227478591806173814752268809064593404574936452916711569573937399048232589295419225165719406988319229327044682173872500489\n",
      "\n",
      "d1: 5555555555555555222222222333333333322222222222\n",
      "\n",
      "d2: 5555555555555555222222222333333333322222222222\n",
      "\n"
     ]
    }
   ],
   "source": [
    "hashm1 = 0xb565aed85c06be130291043bae2b1b07d365a6a20639c23af7e28c28475845735293a4aa0fb2d6c8ce39495f6cb996bf50644c0a5cfdf87b9c0e52d5850efbbf46\n",
    "hashm2 = 0x27e4034d4ec68d5e00effb471f36846bb23b047b6aac2f553a19f453b64f3383bd4e0dce544d207ebf70026c720f3b287be10813677f572377def2042fa1a389b3\n",
    "r1 = 3911449040895969302299389335295125095797363627436980723776046944390356325141807661467361881891675022670957376381965588026709146128008101929124873226500936152\n",
    "s1 = 4598449208737667033824509063610520038731042068517227103085283478882430682180798922936576494362625140992181641953429368436399911305760367079747161386222289558\n",
    "r2 = 3911449040895969302299389335295125095797363627436980723776046944390356325141807661467361881891675022670957376381965588026709146128008101929124873226500936152\n",
    "s2 = 4459109425270026627208327987028367527457720679714012683883576699394137402102541878665783061980661891694929566040564502103926790309029111161417159322988415096\n",
    "\n",
    "\n",
    "k = mod((hashm1 - hashm2)/(s1 - s2), n)\n",
    "print('k:', k, end='\\n\\n')\n",
    "\n",
    "d1 = mod((s1 * k - hashm1)/r1, n)\n",
    "print('d1:', d1, end='\\n\\n')\n",
    "\n",
    "d2 = mod((s2 * k - hashm2)/r2, n)\n",
    "print('d2:', d2, end='\\n\\n')"
   ]
  },
  {
   "cell_type": "markdown",
   "id": "25585d0c",
   "metadata": {},
   "source": [
    "# Comprobar si la firma es cierta\n",
    "\n",
    "Comprobar info del documento del gobierno.\n",
    "\n",
    "secp384r1-> curva 384"
   ]
  },
  {
   "cell_type": "markdown",
   "id": "aba35be3",
   "metadata": {},
   "source": [
    "## Información sobre la curva"
   ]
  },
  {
   "cell_type": "code",
   "execution_count": 16,
   "id": "19596847",
   "metadata": {},
   "outputs": [],
   "source": [
    "p = 39402006196394479212279040100143613805079739270465446667948293404245721771496870329047266088258938001861606973112319\n",
    "n = 39402006196394479212279040100143613805079739270465446667946905279627659399113263569398956308152294913554433653942643\n",
    "\n",
    "a = -3\n",
    "b = 0xb3312fa7e23ee7e4988e056be3f82d19181d9c6efe8141120314088f5013875ac656398d8a2ed19d2a85c8edd3ec2aef\n",
    "Gx = 0xaa87ca22be8b05378eb1c71ef320ad746e1d3b628ba79b9859f741e082542a385502f25dbf55296c3a545e3872760ab7\n",
    "Gy = 0x3617de4a96262c6f5d9e98bf9292dc29f8f41dbd289a147ce9da3113b5f0b8c00a60b1ce1d7e819d7a431d7c90ea0e5f\n",
    "\n",
    "Qx = 21554695957800230453578361793554147862669903931891135752218034632502466519401861123747617222344189342247526267284586\n",
    "Qy = 20327129645024462790521110905399824856731630355374708645134943427352659033343267662575736125426319400206348898300821\n",
    "\n",
    "Zp = Zmod(p)\n",
    "E = EllipticCurve(Zp, [a, b])\n",
    "G = E([Gx, Gy])\n",
    "Q = E([Qx, Qy])\n",
    "\n",
    "m = 12754525131182270164906514479094622284225761991228043252243252470621484204042243900898254513522478062339915380101927\n",
    "\n",
    "f1 = 1326375194565468942881832034925435252366538386823203312779720477764136837879626623603007158954480648405509845348254\n",
    "f2 = 3214635848606469213998391114295476926208450451311945003671828938573799776090192419560738914575886775115758880684303"
   ]
  },
  {
   "cell_type": "markdown",
   "id": "2a9a48d1",
   "metadata": {},
   "source": [
    "## Verificación de la firma"
   ]
  },
  {
   "cell_type": "code",
   "execution_count": 17,
   "id": "a9dc821e",
   "metadata": {},
   "outputs": [
    {
     "data": {
      "text/plain": [
       "True"
      ]
     },
     "execution_count": 17,
     "metadata": {},
     "output_type": "execute_result"
    }
   ],
   "source": [
    "w = pow(f2, -1, n)\n",
    "u1 = Integer(mod((m*w), n))\n",
    "u2 = Integer(mod((f1*w), n))\n",
    "punto = u1 * G + u2 * Q\n",
    "\n",
    "v = Integer(mod(punto[0], n))\n",
    "v == f1"
   ]
  },
  {
   "cell_type": "markdown",
   "id": "a91594b7",
   "metadata": {},
   "source": [
    "# Crackear RSA\n",
    "\n",
    "Modulo compartido"
   ]
  },
  {
   "cell_type": "code",
   "execution_count": 21,
   "id": "55f5b510",
   "metadata": {},
   "outputs": [],
   "source": [
    "ea = 443\n",
    "na = 122089277670347173171607547816668187071730015942892952856703286447766223907280517077462035537967882663265994749822065229917729846544417253954671736359186898569727358200821807840342449874199695889785600537160559223296990137453698379741169106713978754677382296325088965179474230908923313940247720240508197941323\n",
    "ca = 66060123348973565342063095842046855462569803680841399735773205233710592938695318120909665374484300787418913373182176952117516358583752860087400621407648492891855296088375093434677032943558653703804016445836483952197444528334342443234505511249310064161334172498131948029279703590942230255064297789577770503087 \n",
    "\n",
    "eb = 367\n",
    "nb = 122089277670347173171607547816668187071730015942892952856703286447766223907280517077462035537967882663265994749822065229917729846544417253954671736359186898569727358200821807840342449874199695889785600537160559223296990137453698379741169106713978754677382296325088965179474230908923313940247720240508197941323\n",
    "cb = 93044403983738724326419405156008870746155147215620369050237840106092280321169025230325128748041105660774081058066916662286789425101592155002031867806241001609952118827263339682753796839562845492172867764094159566525332809044342734176152312070228804963095165609038147104022241896363842152387665525730192725865 \n",
    "\n",
    "if na == nb:\n",
    "    n = na\n",
    "else:\n",
    "    n = None"
   ]
  },
  {
   "cell_type": "code",
   "execution_count": 22,
   "id": "df4942b4",
   "metadata": {},
   "outputs": [
    {
     "name": "stdout",
     "output_type": "stream",
     "text": [
      "Mensaje recuperado: 777777777777777777777777777777773333333333333333333333333333333333333333999999999999999999999999999999999966666666666666666666666666666666222222222222222222222222222222222222222\n"
     ]
    }
   ],
   "source": [
    "if n == None:\n",
    "    print(\"No se puede hacer este ataque\")\n",
    "else:\n",
    "    bezout=xgcd(ea,eb)\n",
    "    m_rec=mod(mod(ca^bezout[1],n)*mod(cb^bezout[2],n),n)\n",
    "\n",
    "    print('Mensaje recuperado:', m_rec)"
   ]
  },
  {
   "cell_type": "code",
   "execution_count": null,
   "id": "8ba5079f",
   "metadata": {},
   "outputs": [],
   "source": []
  }
 ],
 "metadata": {
  "kernelspec": {
   "display_name": "SageMath 9.0",
   "language": "sage",
   "name": "sagemath"
  },
  "language_info": {
   "codemirror_mode": {
    "name": "ipython",
    "version": 3
   },
   "file_extension": ".py",
   "mimetype": "text/x-python",
   "name": "python",
   "nbconvert_exporter": "python",
   "pygments_lexer": "ipython3",
   "version": "3.8.10"
  }
 },
 "nbformat": 4,
 "nbformat_minor": 5
}
