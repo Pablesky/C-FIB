{
 "cells": [
  {
   "cell_type": "markdown",
   "id": "218a2487",
   "metadata": {},
   "source": [
    "# Blockchain Main Classes"
   ]
  },
  {
   "cell_type": "code",
   "execution_count": 3,
   "id": "7e5f08c8",
   "metadata": {},
   "outputs": [],
   "source": [
    "import hashlib\n",
    "import pickle\n",
    "import copy\n",
    "import timeit\n",
    "import matplotlib.pyplot as plt"
   ]
  },
  {
   "cell_type": "markdown",
   "id": "ac71a465",
   "metadata": {},
   "source": [
    "## Completar la clase RSA_KEY"
   ]
  },
  {
   "cell_type": "code",
   "execution_count": 4,
   "id": "778f6cda",
   "metadata": {},
   "outputs": [],
   "source": [
    "class rsa_key:            \n",
    "    def __init__(self,bits_modulo=2048,e=2**16+1):\n",
    "        def generatePQ(NdeBits):\n",
    "            r1=randint(0,2^(NdeBits/2));\n",
    "            r2=randint(0,2^(NdeBits/2));\n",
    "            p=next_probable_prime(r1);\n",
    "            while gcd(e,p-1)!=1:\n",
    "                print( \".\");\n",
    "                p=next_probable_prime(p+2);\n",
    "\n",
    "            q=next_probable_prime(r2);\n",
    "            while gcd(e,q-1)!=1:\n",
    "                print( \"+\");\n",
    "                q=next_probable_prime(q+2);\n",
    "            return p, q\n",
    "\n",
    "        \n",
    "        self.primeP, self.primeQ = generatePQ(bits_modulo)\n",
    "        self.publicExponent = e\n",
    "        self.privateExponent = mod(e^-1, (self.primeP-1)*(self.primeQ-1))\n",
    "        self.modulus = self.primeP * self.primeQ\n",
    "        self.privateExponentModulusPhiP = mod(self.privateExponent, self.primeP-1)\n",
    "        self.privateExponentModulusPhiQ = mod(self.privateExponent, self.primeQ-1)\n",
    "        self.inverseQModulusP = mod(self.primeQ^-1, self.primeP)\n",
    "        \n",
    "    def sign(self,message):\n",
    "        cp=mod(message,self.primeP); #Necesario para que trabaje en Zp, si no tarda mucho\n",
    "        cq=mod(message,self.primeQ); #Necesario para que trabaje en Zq, si no tarda mucho\n",
    "        mp=Integer(mod(cp ^ self.privateExponentModulusPhiP,self.primeP));\n",
    "        mq=Integer(mod(cq ^ self.privateExponentModulusPhiQ,self.primeQ));\n",
    "        h=mod((mp-mq)*Integer(self.inverseQModulusP),self.modulus);\n",
    "        m_tcr=mod((mq+self.primeQ*h),self.modulus);\n",
    "        return m_tcr\n",
    "    \n",
    "    def sign_slow(self,message):\n",
    "        return pow(message,self.privateExponent,self.modulus)"
   ]
  },
  {
   "cell_type": "markdown",
   "id": "c0b782f4",
   "metadata": {},
   "source": [
    "## Completar la clase RSA_PUBLIC_KEY"
   ]
  },
  {
   "cell_type": "code",
   "execution_count": 5,
   "id": "e3f63823",
   "metadata": {},
   "outputs": [],
   "source": [
    "class rsa_public_key:\n",
    "    def __init__(self, modulus, public):\n",
    "        self.publicExponent = public\n",
    "        self.modulus = modulus\n",
    "    def verify(self, message, signature):\n",
    "        return message == pow(signature,self.publicExponent,self.modulus)"
   ]
  },
  {
   "cell_type": "markdown",
   "id": "db3a8dbe",
   "metadata": {},
   "source": [
    "## Completar la clase TRANSACTION"
   ]
  },
  {
   "cell_type": "code",
   "execution_count": 6,
   "id": "40557a7e",
   "metadata": {},
   "outputs": [],
   "source": [
    "class transaction:\n",
    "    def __init__(self, message, RSAkey, signature):\n",
    "        self.public_key = RSAkey\n",
    "        self.message = message\n",
    "        self.signature = signature\n",
    "    def verify(self):\n",
    "        return self.public_key.verify(self.message, self.signature)"
   ]
  },
  {
   "cell_type": "markdown",
   "id": "eef9ff98",
   "metadata": {},
   "source": [
    "## Completar la clase BLOCK"
   ]
  },
  {
   "cell_type": "code",
   "execution_count": 7,
   "id": "005f8a8a",
   "metadata": {},
   "outputs": [],
   "source": [
    "class block:\n",
    "    def __init__(self):\n",
    "        self.block_hash = 0\n",
    "        self.previous_block_hash = 0\n",
    "        #self.transaction = transaction(0, rsa_key())\n",
    "        self.seed = -1\n",
    "        self.rango = 2^32\n",
    "        \n",
    "    def defecto(self, actual, previous, transaction, seed):\n",
    "        self.block_hash = actual\n",
    "        self.previous_block_hash = previous\n",
    "        self.transaction = transaction\n",
    "        self.seed = seed\n",
    "        \n",
    "    def genesis(self,transaction):\n",
    "        d = 8\n",
    "        previous_block_hash = 0\n",
    "        valido = False\n",
    "        while (not valido) and self.seed < self.rango:\n",
    "            self.seed += 1\n",
    "            entrada=str(previous_block_hash)\n",
    "            entrada=entrada+str(transaction.public_key.publicExponent)\n",
    "            entrada=entrada+str(transaction.public_key.modulus)\n",
    "            entrada=entrada+str(transaction.message)\n",
    "            entrada=entrada+str(transaction.signature)\n",
    "            entrada=entrada+str(self.seed)\n",
    "            h=int(hashlib.sha256(entrada.encode()).hexdigest(),d)\n",
    "            valido = h < (2^(256-d))\n",
    "                    \n",
    "        self.previous_block_hash = 0\n",
    "        self.block_hash = h\n",
    "        self.transaction = transaction\n",
    "        \n",
    "    def next_block(self, transaction):\n",
    "        d = 8\n",
    "        previous_block_hash = self.block_hash\n",
    "        self.seed = -1\n",
    "        valido = False\n",
    "        while not valido and self.seed < self.rango:\n",
    "            self.seed += 1\n",
    "            entrada=str(previous_block_hash)\n",
    "            entrada=entrada+str(transaction.public_key.publicExponent)\n",
    "            entrada=entrada+str(transaction.public_key.modulus)\n",
    "            entrada=entrada+str(transaction.message)\n",
    "            entrada=entrada+str(transaction.signature)\n",
    "            entrada=entrada+str(self.seed)\n",
    "            h=int(hashlib.sha256(entrada.encode()).hexdigest(),d)\n",
    "            valido = h < (2^(256-d))\n",
    "        self.previous_block_hash = self.block_hash\n",
    "        self.block_hash = h\n",
    "        self.transaction = transaction\n",
    "        \n",
    "    def verify_block(self):\n",
    "        d = 8\n",
    "        condicion1 = self.transaction.verify()\n",
    "        condicion2 = self.block_hash < (2^(256-d))\n",
    "        condicion3 = self.previous_block_hash < (2^(256-d))\n",
    "        \n",
    "        entrada=str(self.previous_block_hash)\n",
    "        entrada=entrada+str(self.transaction.public_key.publicExponent)\n",
    "        entrada=entrada+str(self.transaction.public_key.modulus)\n",
    "        entrada=entrada+str(self.transaction.message)\n",
    "        entrada=entrada+str(self.transaction.signature)\n",
    "        entrada=entrada+str(self.seed)\n",
    "        h=int(hashlib.sha256(entrada.encode()).hexdigest(),16)\n",
    "        \n",
    "        condicion4 = self.block_hash == h\n",
    "        \n",
    "        if not condicion1:\n",
    "            print(\"Transaccion no valida\")\n",
    "            \n",
    "        if not condicion2:\n",
    "            print(\"Hash de tamaño no correcto\")\n",
    "        \n",
    "        if not condicion3:\n",
    "            print(\"Hash del bloque anterior malo\")\n",
    "        \n",
    "        if not condicion4:\n",
    "            print(\"La seed esta mal\")\n",
    "        \n",
    "        return condicion1 and condicion2 and condicion3 and condicion4"
   ]
  },
  {
   "cell_type": "markdown",
   "id": "1b2f838e",
   "metadata": {},
   "source": [
    "## Completar la clase BLOCK_CHAIN"
   ]
  },
  {
   "cell_type": "code",
   "execution_count": 8,
   "id": "f74df3d0",
   "metadata": {},
   "outputs": [],
   "source": [
    "class block_chain:\n",
    "    def __init__(self,transaction):\n",
    "        first_block = block()\n",
    "        first_block.genesis(transaction)\n",
    "        self.list_of_blocks = [first_block]\n",
    "        \n",
    "    def add_block(self,transaction):\n",
    "        ultimo = copy.deepcopy(self.list_of_blocks[-1])\n",
    "        ultimo.next_block(transaction)\n",
    "        self.list_of_blocks.append(ultimo)\n",
    "        \n",
    "    def verify(self):\n",
    "        d = 8\n",
    "        bien = True\n",
    "        index = 0\n",
    "        \n",
    "        bien = self.list_of_blocks[0].previous_block_hash == 0\n",
    "        if not bien:\n",
    "            print(f'Hay un fallo en la iteración {index}: bloque inicial con hash diferente de 0')\n",
    "            return bien\n",
    "        \n",
    "        while index < len(self.list_of_blocks) and bien:\n",
    "            actual = self.list_of_blocks[index]\n",
    "            bien = actual.verify_block()\n",
    "            index += 1\n",
    "        \n",
    "        if not bien:\n",
    "            print(f'Hay un fallo en la iteración {index}: causa bloque no valido.')\n",
    "            return bien\n",
    "        \n",
    "        index = 0\n",
    "        while index < len(self.list_of_blocks) - 1 and bien:\n",
    "            index += 1\n",
    "            bien = self.list_of_blocks[index-1].block_hash == self.list_of_blocks[index].previous_block_hash\n",
    "        \n",
    "        if not bien:\n",
    "            print(f'Hay un fallo en la iteración {index}: causa mal hash conectado.')\n",
    "            return bien\n",
    "        \n",
    "        index = -1\n",
    "        while index < len(self.list_of_blocks) - 1 and bien:\n",
    "            index += 1\n",
    "            \n",
    "            previous_block_hash = self.list_of_blocks[index].previous_block_hash\n",
    "            transaction = self.list_of_blocks[index].transaction\n",
    "            seed = self.list_of_blocks[index].seed\n",
    "            \n",
    "            entrada=str(previous_block_hash)\n",
    "            entrada=entrada+str(transaction.public_key.publicExponent)\n",
    "            entrada=entrada+str(transaction.public_key.modulus)\n",
    "            entrada=entrada+str(transaction.message)\n",
    "            entrada=entrada+str(transaction.signature)\n",
    "            entrada=entrada+str(seed)\n",
    "            h=int(hashlib.sha256(entrada.encode()).hexdigest(),d)\n",
    "            \n",
    "            bien = h == self.list_of_blocks[index].block_hash\n",
    "        \n",
    "        if not bien:\n",
    "            print(f'Hay un fallo en la iteración {index}: causa mala seed')\n",
    "        \n",
    "        return bien\n",
    "    \n",
    "    def falso(self, transaction):\n",
    "        ultimo = copy.deepcopy(self.list_of_blocks[-1])\n",
    "        ultimo.next_block(transaction)\n",
    "        ultimo.block_hash = 0\n",
    "        self.list_of_blocks.append(ultimo)"
   ]
  },
  {
   "cell_type": "markdown",
   "id": "3f826be3",
   "metadata": {},
   "source": [
    "# Examen"
   ]
  },
  {
   "cell_type": "code",
   "execution_count": 9,
   "id": "65ac9e5b",
   "metadata": {},
   "outputs": [],
   "source": [
    "modulus = 17609275718897705797693944927749287888098244670668123740639071754645310623129481163456157175152182448859534944406503550063680832132391217767945865892791446701045300663542231860126167946761334266310775875215974588540130332715652080668109605032193091094381386062991019989923988755261615483526208151537459902377091178704741629061653924653619269147925439410819658680918614713976644830989135022928100235342831933477257862730290709342557366103932579480407236923267397181905380652289162708336347529812558300142444957614597991783784594577910954543574671560060468339162220918942208119768314466039044657851139303014324171751473\n",
    "expPublic = 65537\n",
    "rsa = rsa_public_key(modulus, expPublic)"
   ]
  },
  {
   "cell_type": "code",
   "execution_count": 11,
   "id": "3ebc8c39",
   "metadata": {},
   "outputs": [
    {
     "name": "stdout",
     "output_type": "stream",
     "text": [
      "Transaccion correcta: True\n"
     ]
    }
   ],
   "source": [
    "mensaje = 74978285425673526727744618033707927825626444397979562261062263846703991521232\n",
    "seed = 6306714462597086943864166428997195756246047584818563356624388711605293265512004643270621363757311633853686407911299042681324831062031939006448252465864316154210553408929313124594310633253211597300372011199757340195192141062673992021263319153394339390091671489462185019891530862567107337292757654243736433524940103034897680086348329193893311876271379794330527836764028061347576294800408673070408006725853291638167052717629792975737036226866898699689308998507847894294564707798890152714902931899430409016696396691053922354964984394806772752312690374469466150646983385381906139685745256122316098042154355375822111997070\n",
    "transaccion = transaction(mensaje, rsa, seed)\n",
    "print('Transaccion correcta:',transaccion.verify())"
   ]
  },
  {
   "cell_type": "code",
   "execution_count": 12,
   "id": "47d51451",
   "metadata": {},
   "outputs": [],
   "source": [
    "actual = 32913054361703563669153793576202057517067728388035989298541810241209692097\n",
    "previo = 312242924808911849479051425103604997481886996854157223258323582102268035232\n",
    "seed = 3141683475901211307547989473453913452684045358938510538598389160685116442738799022\n",
    "bloque = block()\n",
    "bloque.defecto(actual, previo, transaccion, seed)"
   ]
  },
  {
   "cell_type": "code",
   "execution_count": 13,
   "id": "d7211e9e",
   "metadata": {},
   "outputs": [
    {
     "name": "stdout",
     "output_type": "stream",
     "text": [
      "La seed esta mal\n"
     ]
    },
    {
     "data": {
      "text/plain": [
       "False"
      ]
     },
     "execution_count": 13,
     "metadata": {},
     "output_type": "execute_result"
    }
   ],
   "source": [
    "bloque.verify_block()"
   ]
  },
  {
   "cell_type": "code",
   "execution_count": null,
   "id": "994682f8",
   "metadata": {},
   "outputs": [],
   "source": []
  }
 ],
 "metadata": {
  "kernelspec": {
   "display_name": "SageMath 9.0",
   "language": "sage",
   "name": "sagemath"
  },
  "language_info": {
   "codemirror_mode": {
    "name": "ipython",
    "version": 3
   },
   "file_extension": ".py",
   "mimetype": "text/x-python",
   "name": "python",
   "nbconvert_exporter": "python",
   "pygments_lexer": "ipython3",
   "version": "3.8.10"
  }
 },
 "nbformat": 4,
 "nbformat_minor": 5
}
