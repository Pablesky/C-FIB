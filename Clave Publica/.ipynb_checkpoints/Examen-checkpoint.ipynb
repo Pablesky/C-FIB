{
 "cells": [
  {
   "cell_type": "markdown",
   "id": "5d7ecb1d",
   "metadata": {},
   "source": [
    "# Diffie Hellman\n",
    "Se busca una p\n",
    "\n",
    "a -> 1 <= a <= p - 1\n",
    "\n",
    "b -> 1 <= b <= p - 1\n",
    "\n",
    "alpha = g ^ a mod p\n",
    "\n",
    "beta = g ^ b mod p\n",
    "\n",
    "alpha == beta"
   ]
  },
  {
   "cell_type": "code",
   "execution_count": 1,
   "id": "de13f6ad",
   "metadata": {},
   "outputs": [
    {
     "name": "stdout",
     "output_type": "stream",
     "text": [
      "Alpha: 20\n",
      "Beta: 11\n",
      "Se comparten las claves...\n",
      "ClaveA: 5\n",
      "CLaveB: 5\n",
      "Son iguales: True\n"
     ]
    }
   ],
   "source": [
    "p = 23\n",
    "g = 5\n",
    "a = 5\n",
    "b = 9\n",
    "\n",
    "alpha = pow(g, a, p)\n",
    "beta = pow(g, b, p)\n",
    "\n",
    "print('Alpha:', alpha)\n",
    "print('Beta:', beta)\n",
    "\n",
    "print(\"Se comparten las claves...\")\n",
    "\n",
    "claveA = pow(beta, a, p)\n",
    "claveB = pow(alpha, b, p)\n",
    "\n",
    "print('ClaveA:', claveA)\n",
    "print('CLaveB:', claveB)\n",
    "print('Son iguales:',claveA == claveB)"
   ]
  },
  {
   "cell_type": "markdown",
   "id": "41f476bb",
   "metadata": {},
   "source": [
    "# Calcular clave privada\n",
    "Recordar que d = e ^ -1 mod phi\n",
    "\n",
    "phi = (p - 1) * (q - 1)"
   ]
  },
  {
   "cell_type": "code",
   "execution_count": 2,
   "id": "17238036",
   "metadata": {},
   "outputs": [
    {
     "name": "stdout",
     "output_type": "stream",
     "text": [
      "Clave pública: 3\n",
      "Modulo: 33\n",
      "Factorizamos el modulo si no es muy grande...\n",
      "p: 3\n",
      "q: 11\n",
      "Phi: 20\n",
      "Clave privada: 7\n"
     ]
    }
   ],
   "source": [
    "e = 3\n",
    "n = 33\n",
    "print('Clave pública:', e)\n",
    "print('Modulo:', n)\n",
    "\n",
    "from sympy import factorint\n",
    "print('Factorizamos el modulo si no es muy grande...')\n",
    "factores = factorint(n)\n",
    "\n",
    "p = list(factores.keys())[0]\n",
    "q = list(factores.keys())[1]\n",
    "\n",
    "print('p:', p)\n",
    "print('q:', q)\n",
    "\n",
    "phi = (p - 1)*(q - 1)\n",
    "print('Phi:', phi)\n",
    "\n",
    "d = pow(e, -1, phi)\n",
    "print('Clave privada:', d)"
   ]
  },
  {
   "cell_type": "markdown",
   "id": "f12bf14f",
   "metadata": {},
   "source": [
    "# Puntos curva eliptica\n",
    "\n",
    "Saber el número de puntos de la curva que puede ser dado unos posibles\n",
    "\n",
    "𝑝 + 1 − 2√𝑝 ≤ | 𝐸(𝑍𝑝)| ≤ 𝑝 + 1 + 2√p"
   ]
  },
  {
   "cell_type": "code",
   "execution_count": 3,
   "id": "7d5ed26c",
   "metadata": {},
   "outputs": [
    {
     "data": {
      "text/plain": [
       "[41]"
      ]
     },
     "execution_count": 3,
     "metadata": {},
     "output_type": "execute_result"
    }
   ],
   "source": [
    "from math import sqrt\n",
    "posibles = [41, 79, 31]\n",
    "p = 53\n",
    "inferior = p + 1 - 2 * sqrt(p)\n",
    "superior = p + 1 + 2 * sqrt(p)\n",
    "\n",
    "soluciones = [x for x in posibles if inferior <= x and x <= superior]\n",
    "soluciones"
   ]
  },
  {
   "cell_type": "markdown",
   "id": "f8fcbc37",
   "metadata": {},
   "source": [
    "# Calcular n * P en curvas elipticas\n",
    "\n",
    "Recordar que curva tiene forma y² = x³ + ax + b\n",
    "\n",
    "Luego las formulitas para sumar el mismo punto y con otro punto quedan definidas en el codigo"
   ]
  },
  {
   "cell_type": "code",
   "execution_count": 4,
   "id": "7ac7248d",
   "metadata": {},
   "outputs": [],
   "source": [
    "def multiplicarPor2(a, b, x1, y1):\n",
    "    lambdaCurva = (3 * pow(x1, 2) + a) / (2 * y1)\n",
    "    x3 = pow(lambdaCurva, 2) - 2 * x1\n",
    "    y3 = lambdaCurva * (x1 - x3) - y1\n",
    "    return x3, y3"
   ]
  },
  {
   "cell_type": "code",
   "execution_count": 5,
   "id": "0c0c6ef5",
   "metadata": {},
   "outputs": [],
   "source": [
    "def sumar2Puntos(a, b, x1, x2, y1, y2):\n",
    "    lambdaCurva = (y2 - y1)/(x2 - x1)\n",
    "    x3 = pow(lambdaCurva, 2) - x1 - x2\n",
    "    y3 = lambdaCurva(x1 - x3) - y1\n",
    "    return x3, y3"
   ]
  },
  {
   "cell_type": "code",
   "execution_count": 7,
   "id": "c128520d",
   "metadata": {},
   "outputs": [
    {
     "ename": "TypeError",
     "evalue": "'sage.rings.rational.Rational' object is not callable",
     "output_type": "error",
     "traceback": [
      "\u001b[0;31m---------------------------------------------------------------------------\u001b[0m",
      "\u001b[0;31mTypeError\u001b[0m                                 Traceback (most recent call last)",
      "Input \u001b[0;32mIn [7]\u001b[0m, in \u001b[0;36m<cell line: 15>\u001b[0;34m()\u001b[0m\n\u001b[1;32m     13\u001b[0m     n \u001b[38;5;241m=\u001b[39m n \u001b[38;5;241m/\u001b[39m\u001b[38;5;241m/\u001b[39m Integer(\u001b[38;5;241m2\u001b[39m)\n\u001b[1;32m     15\u001b[0m \u001b[38;5;28;01mif\u001b[39;00m n \u001b[38;5;241m%\u001b[39m Integer(\u001b[38;5;241m2\u001b[39m) \u001b[38;5;241m==\u001b[39m Integer(\u001b[38;5;241m1\u001b[39m):\n\u001b[0;32m---> 16\u001b[0m     rx, ry \u001b[38;5;241m=\u001b[39m \u001b[43msumar2Puntos\u001b[49m\u001b[43m(\u001b[49m\u001b[43ma\u001b[49m\u001b[43m,\u001b[49m\u001b[43m \u001b[49m\u001b[43mb\u001b[49m\u001b[43m,\u001b[49m\u001b[43m \u001b[49m\u001b[43mrx\u001b[49m\u001b[43m,\u001b[49m\u001b[43m \u001b[49m\u001b[43mry\u001b[49m\u001b[43m,\u001b[49m\u001b[43m \u001b[49m\u001b[43mpx\u001b[49m\u001b[43m,\u001b[49m\u001b[43m \u001b[49m\u001b[43mpy\u001b[49m\u001b[43m)\u001b[49m\n\u001b[1;32m     18\u001b[0m \u001b[38;5;28mprint\u001b[39m(\u001b[38;5;124m'\u001b[39m\u001b[38;5;124m(\u001b[39m\u001b[38;5;124m'\u001b[39m, rx, \u001b[38;5;124m'\u001b[39m\u001b[38;5;124m,\u001b[39m\u001b[38;5;124m'\u001b[39m, ry, \u001b[38;5;124m'\u001b[39m\u001b[38;5;124m)\u001b[39m\u001b[38;5;124m'\u001b[39m)\n",
      "Input \u001b[0;32mIn [5]\u001b[0m, in \u001b[0;36msumar2Puntos\u001b[0;34m(a, b, x1, x2, y1, y2)\u001b[0m\n\u001b[1;32m      2\u001b[0m lambdaCurva \u001b[38;5;241m=\u001b[39m (y2 \u001b[38;5;241m-\u001b[39m y1)\u001b[38;5;241m/\u001b[39m(x2 \u001b[38;5;241m-\u001b[39m x1)\n\u001b[1;32m      3\u001b[0m x3 \u001b[38;5;241m=\u001b[39m \u001b[38;5;28mpow\u001b[39m(lambdaCurva, Integer(\u001b[38;5;241m2\u001b[39m)) \u001b[38;5;241m-\u001b[39m x1 \u001b[38;5;241m-\u001b[39m x2\n\u001b[0;32m----> 4\u001b[0m y3 \u001b[38;5;241m=\u001b[39m \u001b[43mlambdaCurva\u001b[49m\u001b[43m(\u001b[49m\u001b[43mx1\u001b[49m\u001b[43m \u001b[49m\u001b[38;5;241;43m-\u001b[39;49m\u001b[43m \u001b[49m\u001b[43mx3\u001b[49m\u001b[43m)\u001b[49m \u001b[38;5;241m-\u001b[39m y1\n\u001b[1;32m      5\u001b[0m \u001b[38;5;28;01mreturn\u001b[39;00m x3, y3\n",
      "\u001b[0;31mTypeError\u001b[0m: 'sage.rings.rational.Rational' object is not callable"
     ]
    }
   ],
   "source": [
    "a = -3\n",
    "b = 1\n",
    "n = 30\n",
    "px = 5\n",
    "py = 24\n",
    "p = 31\n",
    "\n",
    "Zp = Zmod(p)\n",
    "E = EllipticCurve(Zp, [a,b])\n",
    "P = E([px, py])\n",
    "resultado = 30*P\n",
    "resultado"
   ]
  },
  {
   "cell_type": "code",
   "execution_count": 10,
   "id": "6495b05a",
   "metadata": {},
   "outputs": [
    {
     "data": {
      "text/plain": [
       "(5 : 7 : 1)"
      ]
     },
     "execution_count": 10,
     "metadata": {},
     "output_type": "execute_result"
    }
   ],
   "source": []
  },
  {
   "cell_type": "code",
   "execution_count": null,
   "id": "6f1c8eb6",
   "metadata": {},
   "outputs": [],
   "source": []
  }
 ],
 "metadata": {
  "kernelspec": {
   "display_name": "SageMath 9.0",
   "language": "sage",
   "name": "sagemath"
  },
  "language_info": {
   "codemirror_mode": {
    "name": "ipython",
    "version": 3
   },
   "file_extension": ".py",
   "mimetype": "text/x-python",
   "name": "python",
   "nbconvert_exporter": "python",
   "pygments_lexer": "ipython3",
   "version": "3.8.10"
  }
 },
 "nbformat": 4,
 "nbformat_minor": 5
}
